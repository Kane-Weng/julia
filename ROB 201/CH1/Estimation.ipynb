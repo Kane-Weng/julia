{
 "cells": [
  {
   "cell_type": "markdown",
   "id": "e1daf5a8",
   "metadata": {},
   "source": [
    "## **Table of Contents**\n",
    "---\n",
    ">1. Estimate $\\pi$\n",
    ">2. Estimate ${\\sqrt{2}}$\n",
    ">3. Estimate $e$\n",
    "---"
   ]
  },
  {
   "cell_type": "markdown",
   "id": "8ac0ba8f",
   "metadata": {},
   "source": [
    "## Estimate $\\pi$ as Archimedes  \n",
    "  \n",
    "![local image](..\\\\Pic\\\\pi_estimate.png)  \n",
    "\n",
    "Define function:"
   ]
  },
  {
   "cell_type": "code",
   "execution_count": 1,
   "id": "744149d2",
   "metadata": {},
   "outputs": [
    {
     "data": {
      "text/plain": [
       "archimedes_pi (generic function with 2 methods)"
      ]
     },
     "metadata": {},
     "output_type": "display_data"
    }
   ],
   "source": [
    "function archimedes_pi(n,radius=0.5)\n",
    "    # circle with radius 0.5 => diamter = 1\n",
    "    diameter = 2*radius\n",
    "    # force n to be an integer\n",
    "    n = floor(Int, n)\n",
    "    if n<3\n",
    "        n=3\n",
    "    end\n",
    "    theta = 360/n\n",
    "\n",
    "    # using trig functions based on degrees (radians are defined through pi)\n",
    "    circumInnerApprox = (2*radius*sind(theta/2)) * n\n",
    "    circumOuterApprox = (2*radius*tand(theta/2)) * n\n",
    "\n",
    "    # estimate pi\n",
    "    piLowerBound = circumInnerApprox/diameter\n",
    "    piUpperBound = circumOuterApprox/diameter\n",
    "    println(\"$piLowerBound < pi < $piUpperBound for n = $n\")\n",
    "    piApprox = (piLowerBound+piUpperBound)/2\n",
    "    piErrorBound = (piLowerBound-piUpperBound)/2\n",
    "    return (piEst=piApprox, piErr=piErrorBound, piL=piLowerBound, piU=piUpperBound)\n",
    "end"
   ]
  },
  {
   "cell_type": "markdown",
   "id": "3de4893e",
   "metadata": {},
   "source": [
    "Application:"
   ]
  },
  {
   "cell_type": "code",
   "execution_count": 2,
   "id": "03d47d06",
   "metadata": {},
   "outputs": [
    {
     "name": "stdout",
     "output_type": "stream",
     "text": [
      "3.141587485879563 < pi < 3.141602989056156 for n = 1000\n",
      " \n"
     ]
    }
   ],
   "source": [
    "F = archimedes_pi(1000)\n",
    "#println(F.piEst)   # or F[1]\n",
    "println(\" \")"
   ]
  },
  {
   "cell_type": "markdown",
   "id": "6aa9b791",
   "metadata": {},
   "source": [
    "## Estimating $\\sqrt{2}$ using bisection algorithm\n",
    "\n",
    "Bisection Algorithm function:"
   ]
  },
  {
   "cell_type": "code",
   "execution_count": 3,
   "id": "6e2ae972",
   "metadata": {},
   "outputs": [
    {
     "data": {
      "text/plain": [
       "bisection (generic function with 1 method)"
      ]
     },
     "metadata": {},
     "output_type": "display_data"
    }
   ],
   "source": [
    "function bisection(f,a,b,tol)\n",
    "    # Both a and b are above/below x-axis\n",
    "    if f(a) * f(b) > 0\n",
    "        error(\"f(a) and f(b) must have opposite signs\")\n",
    "        return Na\n",
    "    end\n",
    "\n",
    "    kmax = 1e5\n",
    "    k=1\n",
    "    c=NaN\n",
    "    while ((b-a)/2>tol || abs(f(c))>tol) && k<kmax\n",
    "        c = (a+b)/2\n",
    "        if f(a)*f(c) <0\n",
    "            b=c\n",
    "        else\n",
    "            a=c\n",
    "        end\n",
    "        k = k+1\n",
    "    end\n",
    "    root_ErrorBound = (b-a)/2\n",
    "    return (est=(a+b)/2, low=a, up=b, error=root_ErrorBound)\n",
    "end"
   ]
  },
  {
   "cell_type": "code",
   "execution_count": 5,
   "id": "79368d6d",
   "metadata": {},
   "outputs": [
    {
     "data": {
      "text/plain": [
       "bisection2 (generic function with 1 method)"
      ]
     },
     "metadata": {},
     "output_type": "display_data"
    }
   ],
   "source": [
    "function bisection2(f,a,b,n)\n",
    "    # Both a and b are above/below x-axis\n",
    "    if f(a) * f(b) > 0\n",
    "        error(\"f(a) and f(b) must have opposite signs\")\n",
    "        return NaN\n",
    "    end\n",
    "    c=NaN\n",
    "    for k=1:n\n",
    "        c = (a+b)/2\n",
    "        if f(a)*f(c) <0\n",
    "            b=c\n",
    "        else\n",
    "            a=c\n",
    "        end\n",
    "        k = k+1\n",
    "    end\n",
    "    root_ErrorBound = (b-a)/2\n",
    "    return (est=(a+b)/2, low=a, up=b, error=root_ErrorBound)\n",
    "end"
   ]
  },
  {
   "cell_type": "markdown",
   "id": "621347a6",
   "metadata": {},
   "source": [
    "Application:"
   ]
  },
  {
   "cell_type": "code",
   "execution_count": 6,
   "id": "4ad1d2ff",
   "metadata": {},
   "outputs": [
    {
     "name": "stdout",
     "output_type": "stream",
     "text": [
      "The root is approximately 1.4142135623696959\n",
      "The square of the root is 1.9999999999903857\n",
      " \n",
      "The root is approximately 1.4142135623730954\n",
      "The square of the root is 2.000000000000001\n",
      " \n"
     ]
    }
   ],
   "source": [
    "f(x) = x^2-2\n",
    "F_2 = bisection(f,1,2,1e-10)\n",
    "#@show F_2\n",
    "println(\"The root is approximately $(F_2.est)\")\n",
    "println(\"The square of the root is $(F_2.est^2)\")\n",
    "println(\" \")\n",
    "\n",
    "F_3 = bisection2(f,1,2,50)\n",
    "#@show F_3\n",
    "println(\"The root is approximately $(F_3.est)\")\n",
    "println(\"The square of the root is $(F_3.est^2)\")\n",
    "println(\" \")"
   ]
  },
  {
   "cell_type": "markdown",
   "id": "c52767c6",
   "metadata": {},
   "source": [
    "## Estimating Euler's Constant $e$\n",
    "\n",
    "Define function:"
   ]
  },
  {
   "cell_type": "code",
   "execution_count": 7,
   "id": "2a0be923",
   "metadata": {},
   "outputs": [
    {
     "data": {
      "text/plain": [
       "bernoulli_e (generic function with 1 method)"
      ]
     },
     "metadata": {},
     "output_type": "display_data"
    }
   ],
   "source": [
    "function bernoulli_e(n)\n",
    "    n=floor(Int,n)\n",
    "    if n<2\n",
    "        n=2\n",
    "    end\n",
    "    e_LowerApprox = (1.0+1.0/n)^n \n",
    "    e_UpperApprox = 1.0\n",
    "    for k = 1:n\n",
    "        e_UpperApprox = e_UpperApprox + 1/factorial(big(k))\n",
    "    end\n",
    "    e_UpperApprox = e_UpperApprox + 1/(n*factorial(big(n)))\n",
    "    e_Approx = Float64((e_LowerApprox+e_UpperApprox)/2)\n",
    "    e_ErrorBound = Float64((e_LowerApprox-e_UpperApprox)/2)\n",
    "    println(\"$e_LowerApprox < e < $e_UpperApprox for n = $n\")\n",
    "    return (est=e_Approx, low=e_LowerApprox, up=e_UpperApprox, error=e_ErrorBound)\n",
    "end"
   ]
  },
  {
   "cell_type": "markdown",
   "id": "c1ea215e",
   "metadata": {},
   "source": [
    "Application: "
   ]
  },
  {
   "cell_type": "code",
   "execution_count": 8,
   "id": "3e6b50c9",
   "metadata": {},
   "outputs": [
    {
     "name": "stdout",
     "output_type": "stream",
     "text": [
      "2.7181262654676885 < e < 2.718281828459045235360287471352662497757247093699959574966967627724076630353416 for n = 8736\n"
     ]
    },
    {
     "data": {
      "text/plain": [
       "(est = 2.718204046963367, low = 2.7181262654676885, up = 2.718281828459045235360287471352662497757247093699959574966967627724076630353416, error = -7.778149567834747e-5)"
      ]
     },
     "metadata": {},
     "output_type": "display_data"
    }
   ],
   "source": [
    "F = bernoulli_e(52*7*24)"
   ]
  }
 ],
 "metadata": {
  "kernelspec": {
   "display_name": "Julia 1.10.5",
   "language": "julia",
   "name": "julia-1.10"
  },
  "language_info": {
   "file_extension": ".jl",
   "mimetype": "application/julia",
   "name": "julia",
   "version": "1.10.5"
  }
 },
 "nbformat": 4,
 "nbformat_minor": 5
}
