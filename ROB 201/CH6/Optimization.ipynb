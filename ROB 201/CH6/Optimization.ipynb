{
 "cells": [
  {
   "cell_type": "markdown",
   "id": "94aa9829",
   "metadata": {},
   "source": [
    "## **Optimization**\n",
    "---"
   ]
  },
  {
   "cell_type": "markdown",
   "id": "4d6c9db5",
   "metadata": {},
   "source": [
    ">### Gradient Descent\n",
    "- **Goal**: Optimize the Rosenbrock function (classic test function used in optimization problems)  \n",
    "$$(1 - x)^2 + 100 * (y - x^2)^2$$\n",
    "- **Key Takeaways**\n",
    "    - create model\n",
    "    - define variables\n",
    "    - define objective function\n",
    "    - (solver options)\n",
    "    - solve optimization"
   ]
  },
  {
   "cell_type": "markdown",
   "id": "e84edb86",
   "metadata": {},
   "source": [
    "Packages used:\n",
    "<span style=\"color:yellow; background-color:green\">JuMP, Ipopt</span>"
   ]
  },
  {
   "cell_type": "code",
   "execution_count": null,
   "id": "69e5e7ad",
   "metadata": {
    "vscode": {
     "languageId": "julia"
    }
   },
   "outputs": [],
   "source": [
    "using JuMP, Ipopt"
   ]
  },
  {
   "cell_type": "code",
   "execution_count": null,
   "id": "e49f2b96",
   "metadata": {
    "vscode": {
     "languageId": "julia"
    }
   },
   "outputs": [
    {
     "name": "stdout",
     "output_type": "stream",
     "text": [
      "Optimal parameters (x, y): (0.9999999792197696, 0.9999999583699614)\n",
      "Minimum objective value: 4.3230208956579026e-16\n"
     ]
    }
   ],
   "source": [
    "# Create a new model with Ipopt as the solver\n",
    "model = Model(Ipopt.Optimizer)\n",
    "\n",
    "# Define variables & initial guess\n",
    "@variable(model, -20 <= x <= 20, start = -20)\n",
    "@variable(model, -20 <= y <= 20, start = 20)\n",
    "\n",
    "#= \n",
    "# No initial guess\n",
    "@variable(model, -20 <= x <= 20)\n",
    "@variable(model, -20 <= y <= 20)\n",
    "\n",
    "# Find the wrong minimum\n",
    "@variable(model, -20 <= x <= 20, start = -1.2)\n",
    "@variable(model, -20 <= y <= 20, start = 1)\n",
    "=#\n",
    "\n",
    "# Define objective function: Rosenbrock function\n",
    "@NLobjective(model, Min, (1-x)^2 + 100 * (y-x^2)^2)\n",
    "\n",
    "# Solver options\n",
    "set_optimizer_attribute(model, \"max_iter\", 1000)    # Increase max iterations\n",
    "set_optimizer_attribute(model, \"tol\", 1e-9)         # tighter convergence tolerance\n",
    "set_optimizer_attribute(model, \"print_level\", 0)    # suppress all of the output => set to 0 (4 is compromised)\n",
    "\n",
    "# Solve the optimization problem\n",
    "optimize!(model)\n",
    "\n",
    "# Display results\n",
    "println(\"Optimal parameters (x, y): (\", value(x), \", \", value(y), \")\")\n",
    "println(\"Minimum objective value: \", objective_value(model))"
   ]
  },
  {
   "cell_type": "markdown",
   "id": "f3056371",
   "metadata": {},
   "source": [
    ">### Second-derivative test for local max, min"
   ]
  }
 ],
 "metadata": {
  "language_info": {
   "name": "python"
  }
 },
 "nbformat": 4,
 "nbformat_minor": 5
}
