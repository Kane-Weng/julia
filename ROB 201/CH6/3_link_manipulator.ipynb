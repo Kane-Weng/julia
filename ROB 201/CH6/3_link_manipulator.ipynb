{
 "cells": [
  {
   "cell_type": "markdown",
   "id": "b177ba9a",
   "metadata": {},
   "source": [
    "## **3-Link Manipulator**\n",
    "---"
   ]
  },
  {
   "cell_type": "markdown",
   "id": "c27b80eb",
   "metadata": {},
   "source": [
    ">## Inequality constraints on 3-link\n",
    "- **Goal**: Satisfies two equality constraints and four inequality constraints\n",
    "$$\n",
    "Horizontal\\ stretch: L_1*cos(\\theta_1) + L_2*cos(\\theta_1+\\theta_2) + L_3*cos(\\theta_1+\\theta_2+\\theta_3) = 2.5\\\\\n",
    "Vertical\\ stretch: L_1*sin(\\theta_1) + L_2*sin(\\theta_1+\\theta_2) + L_3*sin(\\theta_1+\\theta_2+\\theta_3) = 0.75\\\\\n",
    "First\\ link's\\ height: 0.1 \\le L_1*sin(\\theta_1) \\le 0.95 \\\\\n",
    "Second\\ link's\\ height: 0.1 \\le L_2*sin(\\theta_1+\\theta_2) \\le 0.95\n",
    "$$\n",
    "    "
   ]
  },
  {
   "cell_type": "markdown",
   "id": "1d77fc8a",
   "metadata": {},
   "source": [
    "Packages used:\n",
    "<span style=\"color:yellow; background-color:green\">Plots, JuMP, Ipopt</span>"
   ]
  },
  {
   "cell_type": "code",
   "execution_count": 14,
   "id": "04518068",
   "metadata": {},
   "outputs": [
    {
     "data": {
      "text/plain": [
       "plot_points (generic function with 1 method)"
      ]
     },
     "metadata": {},
     "output_type": "display_data"
    }
   ],
   "source": [
    "using Plots, JuMP, Ipopt\n",
    "include(\"src/manipulator_library.jl\")\n",
    "include(\"src/plot_library.jl\")"
   ]
  },
  {
   "cell_type": "code",
   "execution_count": 11,
   "id": "0cd5becd",
   "metadata": {},
   "outputs": [],
   "source": [
    "params = modelParameters()\n",
    "model = Model(Ipopt.Optimizer)\n",
    "\n",
    "set_optimizer_attribute(model, \"print_level\", 1)\n",
    "set_optimizer_attribute(model, \"max_iter\", 1000)\n",
    "set_optimizer_attribute(model, \"tol\", 1e-9)\n",
    "\n",
    "@variable(model, -pi<= th1 <=pi)\n",
    "@variable(model, -pi<= th2 <=pi)\n",
    "@variable(model, -pi<= th3 <=pi)\n",
    "\n",
    "@constraint(model, g1, params.L1*cos(th1) + params.L2*cos(th1+th2) + params.L3*cos(th1+th2+th3) -2.5 == 0)\n",
    "@constraint(model, g2, params.L1*sin(th1) + params.L2*sin(th1+th2) + params.L3*sin(th1+th2+th3) -0.75 == 0)   \n",
    "\n",
    "use_inequality_constraints = true\n",
    "if use_inequality_constraints\n",
    "    @constraint(model, g3, params.L1*sin(th1) <= 0.95)\n",
    "    @constraint(model, g4, params.L1*sin(th1) + params.L2*sin(th1 + th2) <= 0.95)\n",
    "    @constraint(model, g5, params.L1*sin(th1) >=0.1)\n",
    "    @constraint(model, g6, params.L1*sin(th1) + params.L2*sin(th1 + th2) >=0.1)\n",
    "end\n",
    "\n",
    "@objective(model, Min, th1^2 + th2^2 + th3^2)\n",
    "optimize!(model)"
   ]
  },
  {
   "cell_type": "code",
   "execution_count": 13,
   "id": "0ac9b91c",
   "metadata": {},
   "outputs": [
    {
     "name": "stdout",
     "output_type": "stream",
     "text": [
      "With Inequality Constraints\n",
      "Objective value: 6.812490744951165\n",
      "Solution: \n",
      "th1Star = 0.05002085181111906\n",
      "th2Star = 0.1881522921510836\n",
      "th3Star = 2.6028037525509964\n",
      " \n"
     ]
    },
    {
     "data": {
      "image/png": "[encoded data removed]",
      "image/svg+xml": [
       "<?xml version=\"1.0\" encoding=\"utf-8\"?>\n",
       "<svg xmlns=\"http://www.w3.org/2000/svg\" xmlns:xlink=\"http://www.w3.org/1999/xlink\" width=\"600\" height=\"400\" viewBox=\"0 0 2400 1600\">\n",
       "<defs>\n",
       "  <clipPath id=\"clip600\">\n",
       "    <rect x=\"0\" y=\"0\" width=\"2400\" height=\"1600\"/>\n",
       "  </clipPath>\n",
       "</defs>\n",
       "<path clip-path=\"url(#clip600)\" d=\"M0 1600 L2400 1600 L2400 0 L0 0  Z\" fill=\"#ffffff\" fill-rule=\"evenodd\" fill-opacity=\"1\"/>\n",
       "<defs>\n",
       "  <clipPath id=\"clip601\">\n",
       "    <rect x=\"480\" y=\"0\" width=\"1681\" height=\"1600\"/>\n",
       "  </clipPath>\n",
       "</defs>\n",
       "<path clip-path=\"url(#clip600)\" d=\"M186.274 1486.45 L2352.76 1486.45 L2352.76 47.2441 L186.274 47.2441  Z\" fill=\"#ffffff\" fill-rule=\"evenodd\" fill-opacity=\"1\"/>\n",
       "<defs>\n",
       "  <clipPath id=\"clip602\">\n",
       "    <rect x=\"186\" y=\"47\" width=\"2167\" height=\"1440\"/>\n",
       "  </clipPath>\n",
       "</defs>\n",
       "<polyline clip-path=\"url(#clip602)\" style=\"stroke:#000000; stroke-linecap:round; stroke-linejoin:round; stroke-width:2; stroke-opacity:0.1; fill:none\" points=\"375.33,1486.45 375.33,47.2441 \"/>\n",
       "<polyline clip-path=\"url(#clip602)\" style=\"stroke:#000000; stroke-linecap:round; stroke-linejoin:round; stroke-width:2; stroke-opacity:0.1; fill:none\" points=\"886.293,1486.45 886.293,47.2441 \"/>\n",
       "<polyline clip-path=\"url(#clip602)\" style=\"stroke:#000000; stroke-linecap:round; stroke-linejoin:round; stroke-width:2; stroke-opacity:0.1; fill:none\" points=\"1397.26,1486.45 1397.26,47.2441 \"/>\n",
       "<polyline clip-path=\"url(#clip602)\" style=\"stroke:#000000; stroke-linecap:round; stroke-linejoin:round; stroke-width:2; stroke-opacity:0.1; fill:none\" points=\"1908.22,1486.45 1908.22,47.2441 \"/>\n",
       "<polyline clip-path=\"url(#clip602)\" style=\"stroke:#000000; stroke-linecap:round; stroke-linejoin:round; stroke-width:2; stroke-opacity:0.1; fill:none\" points=\"186.274,1332.57 2352.76,1332.57 \"/>\n",
       "<polyline clip-path=\"url(#clip602)\" style=\"stroke:#000000; stroke-linecap:round; stroke-linejoin:round; stroke-width:2; stroke-opacity:0.1; fill:none\" points=\"186.274,1049.71 2352.76,1049.71 \"/>\n",
       "<polyline clip-path=\"url(#clip602)\" style=\"stroke:#000000; stroke-linecap:round; stroke-linejoin:round; stroke-width:2; stroke-opacity:0.1; fill:none\" points=\"186.274,766.846 2352.76,766.846 \"/>\n",
       "<polyline clip-path=\"url(#clip602)\" style=\"stroke:#000000; stroke-linecap:round; stroke-linejoin:round; stroke-width:2; stroke-opacity:0.1; fill:none\" points=\"186.274,483.984 2352.76,483.984 \"/>\n",
       "<polyline clip-path=\"url(#clip602)\" style=\"stroke:#000000; stroke-linecap:round; stroke-linejoin:round; stroke-width:2; stroke-opacity:0.1; fill:none\" points=\"186.274,201.121 2352.76,201.121 \"/>\n",
       "<polyline clip-path=\"url(#clip600)\" style=\"stroke:#000000; stroke-linecap:round; stroke-linejoin:round; stroke-width:4; stroke-opacity:1; fill:none\" points=\"186.274,1486.45 2352.76,1486.45 \"/>\n",
       "<polyline clip-path=\"url(#clip600)\" style=\"stroke:#000000; stroke-linecap:round; stroke-linejoin:round; stroke-width:4; stroke-opacity:1; fill:none\" points=\"375.33,1486.45 375.33,1467.55 \"/>\n",
       "<polyline clip-path=\"url(#clip600)\" style=\"stroke:#000000; stroke-linecap:round; stroke-linejoin:round; stroke-width:4; stroke-opacity:1; fill:none\" points=\"886.293,1486.45 886.293,1467.55 \"/>\n",
       "<polyline clip-path=\"url(#clip600)\" style=\"stroke:#000000; stroke-linecap:round; stroke-linejoin:round; stroke-width:4; stroke-opacity:1; fill:none\" points=\"1397.26,1486.45 1397.26,1467.55 \"/>\n",
       "<polyline clip-path=\"url(#clip600)\" style=\"stroke:#000000; stroke-linecap:round; stroke-linejoin:round; stroke-width:4; stroke-opacity:1; fill:none\" points=\"1908.22,1486.45 1908.22,1467.55 \"/>\n",
       "<path clip-path=\"url(#clip600)\" d=\"M375.33 1517.37 Q371.719 1517.37 369.89 1520.93 Q368.085 1524.47 368.085 1531.6 Q368.085 1538.71 369.89 1542.27 Q371.719 1545.82 375.33 1545.82 Q378.964 1545.82 380.77 1542.27 Q382.599 1538.71 382.599 1531.6 Q382.599 1524.47 380.77 1520.93 Q378.964 1517.37 375.33 1517.37 M375.33 1513.66 Q381.14 1513.66 384.196 1518.27 Q387.275 1522.85 387.275 1531.6 Q387.275 1540.33 384.196 1544.94 Q381.14 1549.52 375.33 1549.52 Q369.52 1549.52 366.441 1544.94 Q363.386 1540.33 363.386 1531.6 Q363.386 1522.85 366.441 1518.27 Q369.52 1513.66 375.33 1513.66 Z\" fill=\"#000000\" fill-rule=\"nonzero\" fill-opacity=\"1\" /><path clip-path=\"url(#clip600)\" d=\"M876.675 1544.91 L884.314 1544.91 L884.314 1518.55 L876.004 1520.21 L876.004 1515.95 L884.267 1514.29 L888.943 1514.29 L888.943 1544.91 L896.582 1544.91 L896.582 1548.85 L876.675 1548.85 L876.675 1544.91 Z\" fill=\"#000000\" fill-rule=\"nonzero\" fill-opacity=\"1\" /><path clip-path=\"url(#clip600)\" d=\"M1391.91 1544.91 L1408.23 1544.91 L1408.23 1548.85 L1386.28 1548.85 L1386.28 1544.91 Q1388.95 1542.16 1393.53 1537.53 Q1398.14 1532.88 1399.32 1531.53 Q1401.56 1529.01 1402.44 1527.27 Q1403.34 1525.51 1403.34 1523.82 Q1403.34 1521.07 1401.4 1519.33 Q1399.48 1517.6 1396.38 1517.6 Q1394.18 1517.6 1391.72 1518.36 Q1389.29 1519.13 1386.51 1520.68 L1386.51 1515.95 Q1389.34 1514.82 1391.79 1514.24 Q1394.25 1513.66 1396.28 1513.66 Q1401.65 1513.66 1404.85 1516.35 Q1408.04 1519.03 1408.04 1523.52 Q1408.04 1525.65 1407.23 1527.57 Q1406.45 1529.47 1404.34 1532.07 Q1403.76 1532.74 1400.66 1535.95 Q1397.56 1539.15 1391.91 1544.91 Z\" fill=\"#000000\" fill-rule=\"nonzero\" fill-opacity=\"1\" /><path clip-path=\"url(#clip600)\" d=\"M1912.47 1530.21 Q1915.82 1530.93 1917.7 1533.2 Q1919.6 1535.47 1919.6 1538.8 Q1919.6 1543.92 1916.08 1546.72 Q1912.56 1549.52 1906.08 1549.52 Q1903.9 1549.52 1901.59 1549.08 Q1899.29 1548.66 1896.84 1547.81 L1896.84 1543.29 Q1898.79 1544.43 1901.1 1545.01 Q1903.42 1545.58 1905.94 1545.58 Q1910.34 1545.58 1912.63 1543.85 Q1914.94 1542.11 1914.94 1538.8 Q1914.94 1535.75 1912.79 1534.03 Q1910.66 1532.3 1906.84 1532.3 L1902.81 1532.3 L1902.81 1528.45 L1907.03 1528.45 Q1910.48 1528.45 1912.3 1527.09 Q1914.13 1525.7 1914.13 1523.11 Q1914.13 1520.45 1912.23 1519.03 Q1910.36 1517.6 1906.84 1517.6 Q1904.92 1517.6 1902.72 1518.01 Q1900.52 1518.43 1897.88 1519.31 L1897.88 1515.14 Q1900.54 1514.4 1902.86 1514.03 Q1905.2 1513.66 1907.26 1513.66 Q1912.58 1513.66 1915.68 1516.09 Q1918.79 1518.5 1918.79 1522.62 Q1918.79 1525.49 1917.14 1527.48 Q1915.5 1529.45 1912.47 1530.21 Z\" fill=\"#000000\" fill-rule=\"nonzero\" fill-opacity=\"1\" /><polyline clip-path=\"url(#clip600)\" style=\"stroke:#000000; stroke-linecap:round; stroke-linejoin:round; stroke-width:4; stroke-opacity:1; fill:none\" points=\"186.274,1486.45 186.274,47.2441 \"/>\n",
       "<polyline clip-path=\"url(#clip600)\" style=\"stroke:#000000; stroke-linecap:round; stroke-linejoin:round; stroke-width:4; stroke-opacity:1; fill:none\" points=\"186.274,1332.57 205.172,1332.57 \"/>\n",
       "<polyline clip-path=\"url(#clip600)\" style=\"stroke:#000000; stroke-linecap:round; stroke-linejoin:round; stroke-width:4; stroke-opacity:1; fill:none\" points=\"186.274,1049.71 205.172,1049.71 \"/>\n",
       "<polyline clip-path=\"url(#clip600)\" style=\"stroke:#000000; stroke-linecap:round; stroke-linejoin:round; stroke-width:4; stroke-opacity:1; fill:none\" points=\"186.274,766.846 205.172,766.846 \"/>\n",
       "<polyline clip-path=\"url(#clip600)\" style=\"stroke:#000000; stroke-linecap:round; stroke-linejoin:round; stroke-width:4; stroke-opacity:1; fill:none\" points=\"186.274,483.984 205.172,483.984 \"/>\n",
       "<polyline clip-path=\"url(#clip600)\" style=\"stroke:#000000; stroke-linecap:round; stroke-linejoin:round; stroke-width:4; stroke-opacity:1; fill:none\" points=\"186.274,201.121 205.172,201.121 \"/>\n",
       "<path clip-path=\"url(#clip600)\" d=\"M62.9365 1318.37 Q59.3254 1318.37 57.4967 1321.93 Q55.6912 1325.48 55.6912 1332.61 Q55.6912 1339.71 57.4967 1343.28 Q59.3254 1346.82 62.9365 1346.82 Q66.5707 1346.82 68.3763 1343.28 Q70.205 1339.71 70.205 1332.61 Q70.205 1325.48 68.3763 1321.93 Q66.5707 1318.37 62.9365 1318.37 M62.9365 1314.67 Q68.7467 1314.67 71.8022 1319.27 Q74.8809 1323.86 74.8809 1332.61 Q74.8809 1341.33 71.8022 1345.94 Q68.7467 1350.52 62.9365 1350.52 Q57.1264 1350.52 54.0477 1345.94 Q50.9921 1341.33 50.9921 1332.61 Q50.9921 1323.86 54.0477 1319.27 Q57.1264 1314.67 62.9365 1314.67 Z\" fill=\"#000000\" fill-rule=\"nonzero\" fill-opacity=\"1\" /><path clip-path=\"url(#clip600)\" d=\"M83.0984 1343.97 L87.9827 1343.97 L87.9827 1349.85 L83.0984 1349.85 L83.0984 1343.97 Z\" fill=\"#000000\" fill-rule=\"nonzero\" fill-opacity=\"1\" /><path clip-path=\"url(#clip600)\" d=\"M108.168 1318.37 Q104.557 1318.37 102.728 1321.93 Q100.922 1325.48 100.922 1332.61 Q100.922 1339.71 102.728 1343.28 Q104.557 1346.82 108.168 1346.82 Q111.802 1346.82 113.608 1343.28 Q115.436 1339.71 115.436 1332.61 Q115.436 1325.48 113.608 1321.93 Q111.802 1318.37 108.168 1318.37 M108.168 1314.67 Q113.978 1314.67 117.033 1319.27 Q120.112 1323.86 120.112 1332.61 Q120.112 1341.33 117.033 1345.94 Q113.978 1350.52 108.168 1350.52 Q102.358 1350.52 99.2789 1345.94 Q96.2234 1341.33 96.2234 1332.61 Q96.2234 1323.86 99.2789 1319.27 Q102.358 1314.67 108.168 1314.67 Z\" fill=\"#000000\" fill-rule=\"nonzero\" fill-opacity=\"1\" /><path clip-path=\"url(#clip600)\" d=\"M138.33 1318.37 Q134.719 1318.37 132.89 1321.93 Q131.084 1325.48 131.084 1332.61 Q131.084 1339.71 132.89 1343.28 Q134.719 1346.82 138.33 1346.82 Q141.964 1346.82 143.769 1343.28 Q145.598 1339.71 145.598 1332.61 Q145.598 1325.48 143.769 1321.93 Q141.964 1318.37 138.33 1318.37 M138.33 1314.67 Q144.14 1314.67 147.195 1319.27 Q150.274 1323.86 150.274 1332.61 Q150.274 1341.33 147.195 1345.94 Q144.14 1350.52 138.33 1350.52 Q132.519 1350.52 129.441 1345.94 Q126.385 1341.33 126.385 1332.61 Q126.385 1323.86 129.441 1319.27 Q132.519 1314.67 138.33 1314.67 Z\" fill=\"#000000\" fill-rule=\"nonzero\" fill-opacity=\"1\" /><path clip-path=\"url(#clip600)\" d=\"M63.9319 1035.51 Q60.3208 1035.51 58.4921 1039.07 Q56.6865 1042.61 56.6865 1049.74 Q56.6865 1056.85 58.4921 1060.41 Q60.3208 1063.96 63.9319 1063.96 Q67.5661 1063.96 69.3717 1060.41 Q71.2004 1056.85 71.2004 1049.74 Q71.2004 1042.61 69.3717 1039.07 Q67.5661 1035.51 63.9319 1035.51 M63.9319 1031.8 Q69.742 1031.8 72.7976 1036.41 Q75.8763 1040.99 75.8763 1049.74 Q75.8763 1058.47 72.7976 1063.08 Q69.742 1067.66 63.9319 1067.66 Q58.1217 1067.66 55.043 1063.08 Q51.9875 1058.47 51.9875 1049.74 Q51.9875 1040.99 55.043 1036.41 Q58.1217 1031.8 63.9319 1031.8 Z\" fill=\"#000000\" fill-rule=\"nonzero\" fill-opacity=\"1\" /><path clip-path=\"url(#clip600)\" d=\"M84.0938 1061.11 L88.978 1061.11 L88.978 1066.99 L84.0938 1066.99 L84.0938 1061.11 Z\" fill=\"#000000\" fill-rule=\"nonzero\" fill-opacity=\"1\" /><path clip-path=\"url(#clip600)\" d=\"M103.191 1063.05 L119.51 1063.05 L119.51 1066.99 L97.566 1066.99 L97.566 1063.05 Q100.228 1060.3 104.811 1055.67 Q109.418 1051.02 110.598 1049.67 Q112.844 1047.15 113.723 1045.41 Q114.626 1043.66 114.626 1041.97 Q114.626 1039.21 112.682 1037.47 Q110.76 1035.74 107.658 1035.74 Q105.459 1035.74 103.006 1036.5 Q100.575 1037.27 97.7974 1038.82 L97.7974 1034.1 Q100.621 1032.96 103.075 1032.38 Q105.529 1031.8 107.566 1031.8 Q112.936 1031.8 116.131 1034.49 Q119.325 1037.17 119.325 1041.66 Q119.325 1043.79 118.515 1045.72 Q117.728 1047.61 115.621 1050.21 Q115.043 1050.88 111.941 1054.09 Q108.839 1057.29 103.191 1063.05 Z\" fill=\"#000000\" fill-rule=\"nonzero\" fill-opacity=\"1\" /><path clip-path=\"url(#clip600)\" d=\"M129.371 1032.43 L147.728 1032.43 L147.728 1036.36 L133.654 1036.36 L133.654 1044.84 Q134.672 1044.49 135.691 1044.33 Q136.709 1044.14 137.728 1044.14 Q143.515 1044.14 146.894 1047.31 Q150.274 1050.48 150.274 1055.9 Q150.274 1061.48 146.802 1064.58 Q143.33 1067.66 137.01 1067.66 Q134.834 1067.66 132.566 1067.29 Q130.32 1066.92 127.913 1066.18 L127.913 1061.48 Q129.996 1062.61 132.219 1063.17 Q134.441 1063.72 136.918 1063.72 Q140.922 1063.72 143.26 1061.62 Q145.598 1059.51 145.598 1055.9 Q145.598 1052.29 143.26 1050.18 Q140.922 1048.08 136.918 1048.08 Q135.043 1048.08 133.168 1048.49 Q131.316 1048.91 129.371 1049.79 L129.371 1032.43 Z\" fill=\"#000000\" fill-rule=\"nonzero\" fill-opacity=\"1\" /><path clip-path=\"url(#clip600)\" d=\"M62.9365 752.645 Q59.3254 752.645 57.4967 756.209 Q55.6912 759.751 55.6912 766.881 Q55.6912 773.987 57.4967 777.552 Q59.3254 781.094 62.9365 781.094 Q66.5707 781.094 68.3763 777.552 Q70.205 773.987 70.205 766.881 Q70.205 759.751 68.3763 756.209 Q66.5707 752.645 62.9365 752.645 M62.9365 748.941 Q68.7467 748.941 71.8022 753.547 Q74.8809 758.131 74.8809 766.881 Q74.8809 775.608 71.8022 780.214 Q68.7467 784.797 62.9365 784.797 Q57.1264 784.797 54.0477 780.214 Q50.9921 775.608 50.9921 766.881 Q50.9921 758.131 54.0477 753.547 Q57.1264 748.941 62.9365 748.941 Z\" fill=\"#000000\" fill-rule=\"nonzero\" fill-opacity=\"1\" /><path clip-path=\"url(#clip600)\" d=\"M83.0984 778.246 L87.9827 778.246 L87.9827 784.126 L83.0984 784.126 L83.0984 778.246 Z\" fill=\"#000000\" fill-rule=\"nonzero\" fill-opacity=\"1\" /><path clip-path=\"url(#clip600)\" d=\"M98.2141 749.566 L116.57 749.566 L116.57 753.501 L102.496 753.501 L102.496 761.973 Q103.515 761.626 104.534 761.464 Q105.552 761.279 106.571 761.279 Q112.358 761.279 115.737 764.45 Q119.117 767.621 119.117 773.038 Q119.117 778.617 115.645 781.719 Q112.172 784.797 105.853 784.797 Q103.677 784.797 101.409 784.427 Q99.1632 784.057 96.7558 783.316 L96.7558 778.617 Q98.8391 779.751 101.061 780.307 Q103.284 780.862 105.76 780.862 Q109.765 780.862 112.103 778.756 Q114.441 776.649 114.441 773.038 Q114.441 769.427 112.103 767.321 Q109.765 765.214 105.76 765.214 Q103.885 765.214 102.01 765.631 Q100.159 766.047 98.2141 766.927 L98.2141 749.566 Z\" fill=\"#000000\" fill-rule=\"nonzero\" fill-opacity=\"1\" /><path clip-path=\"url(#clip600)\" d=\"M138.33 752.645 Q134.719 752.645 132.89 756.209 Q131.084 759.751 131.084 766.881 Q131.084 773.987 132.89 777.552 Q134.719 781.094 138.33 781.094 Q141.964 781.094 143.769 777.552 Q145.598 773.987 145.598 766.881 Q145.598 759.751 143.769 756.209 Q141.964 752.645 138.33 752.645 M138.33 748.941 Q144.14 748.941 147.195 753.547 Q150.274 758.131 150.274 766.881 Q150.274 775.608 147.195 780.214 Q144.14 784.797 138.33 784.797 Q132.519 784.797 129.441 780.214 Q126.385 775.608 126.385 766.881 Q126.385 758.131 129.441 753.547 Q132.519 748.941 138.33 748.941 Z\" fill=\"#000000\" fill-rule=\"nonzero\" fill-opacity=\"1\" /><path clip-path=\"url(#clip600)\" d=\"M63.9319 469.782 Q60.3208 469.782 58.4921 473.347 Q56.6865 476.889 56.6865 484.018 Q56.6865 491.125 58.4921 494.69 Q60.3208 498.231 63.9319 498.231 Q67.5661 498.231 69.3717 494.69 Q71.2004 491.125 71.2004 484.018 Q71.2004 476.889 69.3717 473.347 Q67.5661 469.782 63.9319 469.782 M63.9319 466.079 Q69.742 466.079 72.7976 470.685 Q75.8763 475.268 75.8763 484.018 Q75.8763 492.745 72.7976 497.352 Q69.742 501.935 63.9319 501.935 Q58.1217 501.935 55.043 497.352 Q51.9875 492.745 51.9875 484.018 Q51.9875 475.268 55.043 470.685 Q58.1217 466.079 63.9319 466.079 Z\" fill=\"#000000\" fill-rule=\"nonzero\" fill-opacity=\"1\" /><path clip-path=\"url(#clip600)\" d=\"M84.0938 495.384 L88.978 495.384 L88.978 501.264 L84.0938 501.264 L84.0938 495.384 Z\" fill=\"#000000\" fill-rule=\"nonzero\" fill-opacity=\"1\" /><path clip-path=\"url(#clip600)\" d=\"M97.9826 466.704 L120.205 466.704 L120.205 468.694 L107.658 501.264 L102.774 501.264 L114.58 470.639 L97.9826 470.639 L97.9826 466.704 Z\" fill=\"#000000\" fill-rule=\"nonzero\" fill-opacity=\"1\" /><path clip-path=\"url(#clip600)\" d=\"M129.371 466.704 L147.728 466.704 L147.728 470.639 L133.654 470.639 L133.654 479.111 Q134.672 478.764 135.691 478.602 Q136.709 478.417 137.728 478.417 Q143.515 478.417 146.894 481.588 Q150.274 484.759 150.274 490.176 Q150.274 495.754 146.802 498.856 Q143.33 501.935 137.01 501.935 Q134.834 501.935 132.566 501.565 Q130.32 501.194 127.913 500.453 L127.913 495.754 Q129.996 496.889 132.219 497.444 Q134.441 498 136.918 498 Q140.922 498 143.26 495.893 Q145.598 493.787 145.598 490.176 Q145.598 486.565 143.26 484.458 Q140.922 482.352 136.918 482.352 Q135.043 482.352 133.168 482.768 Q131.316 483.185 129.371 484.065 L129.371 466.704 Z\" fill=\"#000000\" fill-rule=\"nonzero\" fill-opacity=\"1\" /><path clip-path=\"url(#clip600)\" d=\"M53.7467 214.466 L61.3856 214.466 L61.3856 188.1 L53.0754 189.767 L53.0754 185.508 L61.3393 183.841 L66.0152 183.841 L66.0152 214.466 L73.654 214.466 L73.654 218.401 L53.7467 218.401 L53.7467 214.466 Z\" fill=\"#000000\" fill-rule=\"nonzero\" fill-opacity=\"1\" /><path clip-path=\"url(#clip600)\" d=\"M83.0984 212.522 L87.9827 212.522 L87.9827 218.401 L83.0984 218.401 L83.0984 212.522 Z\" fill=\"#000000\" fill-rule=\"nonzero\" fill-opacity=\"1\" /><path clip-path=\"url(#clip600)\" d=\"M108.168 186.92 Q104.557 186.92 102.728 190.485 Q100.922 194.026 100.922 201.156 Q100.922 208.262 102.728 211.827 Q104.557 215.369 108.168 215.369 Q111.802 215.369 113.608 211.827 Q115.436 208.262 115.436 201.156 Q115.436 194.026 113.608 190.485 Q111.802 186.92 108.168 186.92 M108.168 183.216 Q113.978 183.216 117.033 187.823 Q120.112 192.406 120.112 201.156 Q120.112 209.883 117.033 214.489 Q113.978 219.073 108.168 219.073 Q102.358 219.073 99.2789 214.489 Q96.2234 209.883 96.2234 201.156 Q96.2234 192.406 99.2789 187.823 Q102.358 183.216 108.168 183.216 Z\" fill=\"#000000\" fill-rule=\"nonzero\" fill-opacity=\"1\" /><path clip-path=\"url(#clip600)\" d=\"M138.33 186.92 Q134.719 186.92 132.89 190.485 Q131.084 194.026 131.084 201.156 Q131.084 208.262 132.89 211.827 Q134.719 215.369 138.33 215.369 Q141.964 215.369 143.769 211.827 Q145.598 208.262 145.598 201.156 Q145.598 194.026 143.769 190.485 Q141.964 186.92 138.33 186.92 M138.33 183.216 Q144.14 183.216 147.195 187.823 Q150.274 192.406 150.274 201.156 Q150.274 209.883 147.195 214.489 Q144.14 219.073 138.33 219.073 Q132.519 219.073 129.441 214.489 Q126.385 209.883 126.385 201.156 Q126.385 192.406 129.441 187.823 Q132.519 183.216 138.33 183.216 Z\" fill=\"#000000\" fill-rule=\"nonzero\" fill-opacity=\"1\" /><path clip-path=\"url(#clip602)\" d=\"M247.59 201.121 L2291.44 201.121 L2291.44 87.9763 L247.59 87.9763 L247.59 201.121 L247.59 1332.57 L247.59 1332.57 L2291.44 1332.57 L2291.44 1332.57 L247.59 1332.57  Z\" fill=\"#a52a2a\" fill-rule=\"evenodd\" fill-opacity=\"1\"/>\n",
       "<polyline clip-path=\"url(#clip602)\" style=\"stroke:#a52a2a; stroke-linecap:round; stroke-linejoin:round; stroke-width:4; stroke-opacity:1; fill:none\" points=\"247.59,201.121 2291.44,201.121 2291.44,87.9763 247.59,87.9763 247.59,201.121 \"/>\n",
       "<path clip-path=\"url(#clip602)\" d=\"M247.59 1445.72 L2291.44 1445.72 L2291.44 1332.57 L247.59 1332.57 L247.59 1445.72 L247.59 1332.57 L247.59 1332.57 L2291.44 1332.57 L2291.44 1332.57 L247.59 1332.57  Z\" fill=\"#a52a2a\" fill-rule=\"evenodd\" fill-opacity=\"1\"/>\n",
       "<polyline clip-path=\"url(#clip602)\" style=\"stroke:#a52a2a; stroke-linecap:round; stroke-linejoin:round; stroke-width:4; stroke-opacity:1; fill:none\" points=\"247.59,1445.72 2291.44,1445.72 2291.44,1332.57 247.59,1332.57 247.59,1445.72 \"/>\n",
       "<path clip-path=\"url(#clip602)\" d=\"M1572.74 403.984 L1572.74 563.984 L1732.74 563.984 L1732.74 403.984 L1572.74 403.984 Z\" fill=\"#008000\" fill-rule=\"evenodd\" fill-opacity=\"1\" stroke=\"#000000\" stroke-opacity=\"1\" stroke-width=\"3.2\"/>\n",
       "<polyline clip-path=\"url(#clip602)\" style=\"stroke:#0000ff; stroke-linecap:round; stroke-linejoin:round; stroke-width:20; stroke-opacity:1; fill:none\" points=\"375.33,1332.57 1395.98,1219.43 2140.79,819.015 1652.74,483.984 \"/>\n",
       "<circle clip-path=\"url(#clip602)\" cx=\"375.33\" cy=\"1332.57\" r=\"36\" fill=\"#ff0000\" fill-rule=\"evenodd\" fill-opacity=\"1\" stroke=\"#000000\" stroke-opacity=\"1\" stroke-width=\"3.2\"/>\n",
       "<circle clip-path=\"url(#clip602)\" cx=\"1395.98\" cy=\"1219.43\" r=\"36\" fill=\"#ff0000\" fill-rule=\"evenodd\" fill-opacity=\"1\" stroke=\"#000000\" stroke-opacity=\"1\" stroke-width=\"3.2\"/>\n",
       "<circle clip-path=\"url(#clip602)\" cx=\"2140.79\" cy=\"819.015\" r=\"36\" fill=\"#ff0000\" fill-rule=\"evenodd\" fill-opacity=\"1\" stroke=\"#000000\" stroke-opacity=\"1\" stroke-width=\"3.2\"/>\n",
       "<circle clip-path=\"url(#clip602)\" cx=\"1652.74\" cy=\"483.984\" r=\"36\" fill=\"#ff0000\" fill-rule=\"evenodd\" fill-opacity=\"1\" stroke=\"#000000\" stroke-opacity=\"1\" stroke-width=\"3.2\"/>\n",
       "<path clip-path=\"url(#clip602)\" d=\"M247.59 201.121 L2291.44 201.121 L2291.44 87.9763 L247.59 87.9763 L247.59 201.121 L247.59 1332.57 L247.59 1332.57 L2291.44 1332.57 L2291.44 1332.57 L247.59 1332.57  Z\" fill=\"#a52a2a\" fill-rule=\"evenodd\" fill-opacity=\"1\"/>\n",
       "<polyline clip-path=\"url(#clip602)\" style=\"stroke:#a52a2a; stroke-linecap:round; stroke-linejoin:round; stroke-width:4; stroke-opacity:1; fill:none\" points=\"247.59,201.121 2291.44,201.121 2291.44,87.9763 247.59,87.9763 247.59,201.121 \"/>\n",
       "<path clip-path=\"url(#clip602)\" d=\"M247.59 1445.72 L2291.44 1445.72 L2291.44 1332.57 L247.59 1332.57 L247.59 1445.72 L247.59 1332.57 L247.59 1332.57 L2291.44 1332.57 L2291.44 1332.57 L247.59 1332.57  Z\" fill=\"#a52a2a\" fill-rule=\"evenodd\" fill-opacity=\"1\"/>\n",
       "<polyline clip-path=\"url(#clip602)\" style=\"stroke:#a52a2a; stroke-linecap:round; stroke-linejoin:round; stroke-width:4; stroke-opacity:1; fill:none\" points=\"247.59,1445.72 2291.44,1445.72 2291.44,1332.57 247.59,1332.57 247.59,1445.72 \"/>\n",
       "<path clip-path=\"url(#clip602)\" d=\"M1572.74 403.984 L1572.74 563.984 L1732.74 563.984 L1732.74 403.984 L1572.74 403.984 Z\" fill=\"#008000\" fill-rule=\"evenodd\" fill-opacity=\"1\" stroke=\"#000000\" stroke-opacity=\"1\" stroke-width=\"3.2\"/>\n",
       "<polyline clip-path=\"url(#clip602)\" style=\"stroke:#0000ff; stroke-linecap:round; stroke-linejoin:round; stroke-width:20; stroke-opacity:1; fill:none\" points=\"375.33,1332.57 1395.98,1219.43 2140.79,819.015 1652.74,483.984 \"/>\n",
       "<circle clip-path=\"url(#clip602)\" cx=\"375.33\" cy=\"1332.57\" r=\"36\" fill=\"#ff0000\" fill-rule=\"evenodd\" fill-opacity=\"1\" stroke=\"#000000\" stroke-opacity=\"1\" stroke-width=\"3.2\"/>\n",
       "<circle clip-path=\"url(#clip602)\" cx=\"1395.98\" cy=\"1219.43\" r=\"36\" fill=\"#ff0000\" fill-rule=\"evenodd\" fill-opacity=\"1\" stroke=\"#000000\" stroke-opacity=\"1\" stroke-width=\"3.2\"/>\n",
       "<circle clip-path=\"url(#clip602)\" cx=\"2140.79\" cy=\"819.015\" r=\"36\" fill=\"#ff0000\" fill-rule=\"evenodd\" fill-opacity=\"1\" stroke=\"#000000\" stroke-opacity=\"1\" stroke-width=\"3.2\"/>\n",
       "<circle clip-path=\"url(#clip602)\" cx=\"1652.74\" cy=\"483.984\" r=\"36\" fill=\"#ff0000\" fill-rule=\"evenodd\" fill-opacity=\"1\" stroke=\"#000000\" stroke-opacity=\"1\" stroke-width=\"3.2\"/>\n",
       "</svg>\n"
      ],
      "text/html": [
       "<?xml version=\"1.0\" encoding=\"utf-8\"?>\n",
       "<svg xmlns=\"http://www.w3.org/2000/svg\" xmlns:xlink=\"http://www.w3.org/1999/xlink\" width=\"600\" height=\"400\" viewBox=\"0 0 2400 1600\">\n",
       "<defs>\n",
       "  <clipPath id=\"clip650\">\n",
       "    <rect x=\"0\" y=\"0\" width=\"2400\" height=\"1600\"/>\n",
       "  </clipPath>\n",
       "</defs>\n",
       "<path clip-path=\"url(#clip650)\" d=\"M0 1600 L2400 1600 L2400 0 L0 0  Z\" fill=\"#ffffff\" fill-rule=\"evenodd\" fill-opacity=\"1\"/>\n",
       "<defs>\n",
       "  <clipPath id=\"clip651\">\n",
       "    <rect x=\"480\" y=\"0\" width=\"1681\" height=\"1600\"/>\n",
       "  </clipPath>\n",
       "</defs>\n",
       "<path clip-path=\"url(#clip650)\" d=\"M186.274 1486.45 L2352.76 1486.45 L2352.76 47.2441 L186.274 47.2441  Z\" fill=\"#ffffff\" fill-rule=\"evenodd\" fill-opacity=\"1\"/>\n",
       "<defs>\n",
       "  <clipPath id=\"clip652\">\n",
       "    <rect x=\"186\" y=\"47\" width=\"2167\" height=\"1440\"/>\n",
       "  </clipPath>\n",
       "</defs>\n",
       "<polyline clip-path=\"url(#clip652)\" style=\"stroke:#000000; stroke-linecap:round; stroke-linejoin:round; stroke-width:2; stroke-opacity:0.1; fill:none\" points=\"375.33,1486.45 375.33,47.2441 \"/>\n",
       "<polyline clip-path=\"url(#clip652)\" style=\"stroke:#000000; stroke-linecap:round; stroke-linejoin:round; stroke-width:2; stroke-opacity:0.1; fill:none\" points=\"886.293,1486.45 886.293,47.2441 \"/>\n",
       "<polyline clip-path=\"url(#clip652)\" style=\"stroke:#000000; stroke-linecap:round; stroke-linejoin:round; stroke-width:2; stroke-opacity:0.1; fill:none\" points=\"1397.26,1486.45 1397.26,47.2441 \"/>\n",
       "<polyline clip-path=\"url(#clip652)\" style=\"stroke:#000000; stroke-linecap:round; stroke-linejoin:round; stroke-width:2; stroke-opacity:0.1; fill:none\" points=\"1908.22,1486.45 1908.22,47.2441 \"/>\n",
       "<polyline clip-path=\"url(#clip652)\" style=\"stroke:#000000; stroke-linecap:round; stroke-linejoin:round; stroke-width:2; stroke-opacity:0.1; fill:none\" points=\"186.274,1332.57 2352.76,1332.57 \"/>\n",
       "<polyline clip-path=\"url(#clip652)\" style=\"stroke:#000000; stroke-linecap:round; stroke-linejoin:round; stroke-width:2; stroke-opacity:0.1; fill:none\" points=\"186.274,1049.71 2352.76,1049.71 \"/>\n",
       "<polyline clip-path=\"url(#clip652)\" style=\"stroke:#000000; stroke-linecap:round; stroke-linejoin:round; stroke-width:2; stroke-opacity:0.1; fill:none\" points=\"186.274,766.846 2352.76,766.846 \"/>\n",
       "<polyline clip-path=\"url(#clip652)\" style=\"stroke:#000000; stroke-linecap:round; stroke-linejoin:round; stroke-width:2; stroke-opacity:0.1; fill:none\" points=\"186.274,483.984 2352.76,483.984 \"/>\n",
       "<polyline clip-path=\"url(#clip652)\" style=\"stroke:#000000; stroke-linecap:round; stroke-linejoin:round; stroke-width:2; stroke-opacity:0.1; fill:none\" points=\"186.274,201.121 2352.76,201.121 \"/>\n",
       "<polyline clip-path=\"url(#clip650)\" style=\"stroke:#000000; stroke-linecap:round; stroke-linejoin:round; stroke-width:4; stroke-opacity:1; fill:none\" points=\"186.274,1486.45 2352.76,1486.45 \"/>\n",
       "<polyline clip-path=\"url(#clip650)\" style=\"stroke:#000000; stroke-linecap:round; stroke-linejoin:round; stroke-width:4; stroke-opacity:1; fill:none\" points=\"375.33,1486.45 375.33,1467.55 \"/>\n",
       "<polyline clip-path=\"url(#clip650)\" style=\"stroke:#000000; stroke-linecap:round; stroke-linejoin:round; stroke-width:4; stroke-opacity:1; fill:none\" points=\"886.293,1486.45 886.293,1467.55 \"/>\n",
       "<polyline clip-path=\"url(#clip650)\" style=\"stroke:#000000; stroke-linecap:round; stroke-linejoin:round; stroke-width:4; stroke-opacity:1; fill:none\" points=\"1397.26,1486.45 1397.26,1467.55 \"/>\n",
       "<polyline clip-path=\"url(#clip650)\" style=\"stroke:#000000; stroke-linecap:round; stroke-linejoin:round; stroke-width:4; stroke-opacity:1; fill:none\" points=\"1908.22,1486.45 1908.22,1467.55 \"/>\n",
       "<path clip-path=\"url(#clip650)\" d=\"M375.33 1517.37 Q371.719 1517.37 369.89 1520.93 Q368.085 1524.47 368.085 1531.6 Q368.085 1538.71 369.89 1542.27 Q371.719 1545.82 375.33 1545.82 Q378.964 1545.82 380.77 1542.27 Q382.599 1538.71 382.599 1531.6 Q382.599 1524.47 380.77 1520.93 Q378.964 1517.37 375.33 1517.37 M375.33 1513.66 Q381.14 1513.66 384.196 1518.27 Q387.275 1522.85 387.275 1531.6 Q387.275 1540.33 384.196 1544.94 Q381.14 1549.52 375.33 1549.52 Q369.52 1549.52 366.441 1544.94 Q363.386 1540.33 363.386 1531.6 Q363.386 1522.85 366.441 1518.27 Q369.52 1513.66 375.33 1513.66 Z\" fill=\"#000000\" fill-rule=\"nonzero\" fill-opacity=\"1\" /><path clip-path=\"url(#clip650)\" d=\"M876.675 1544.91 L884.314 1544.91 L884.314 1518.55 L876.004 1520.21 L876.004 1515.95 L884.267 1514.29 L888.943 1514.29 L888.943 1544.91 L896.582 1544.91 L896.582 1548.85 L876.675 1548.85 L876.675 1544.91 Z\" fill=\"#000000\" fill-rule=\"nonzero\" fill-opacity=\"1\" /><path clip-path=\"url(#clip650)\" d=\"M1391.91 1544.91 L1408.23 1544.91 L1408.23 1548.85 L1386.28 1548.85 L1386.28 1544.91 Q1388.95 1542.16 1393.53 1537.53 Q1398.14 1532.88 1399.32 1531.53 Q1401.56 1529.01 1402.44 1527.27 Q1403.34 1525.51 1403.34 1523.82 Q1403.34 1521.07 1401.4 1519.33 Q1399.48 1517.6 1396.38 1517.6 Q1394.18 1517.6 1391.72 1518.36 Q1389.29 1519.13 1386.51 1520.68 L1386.51 1515.95 Q1389.34 1514.82 1391.79 1514.24 Q1394.25 1513.66 1396.28 1513.66 Q1401.65 1513.66 1404.85 1516.35 Q1408.04 1519.03 1408.04 1523.52 Q1408.04 1525.65 1407.23 1527.57 Q1406.45 1529.47 1404.34 1532.07 Q1403.76 1532.74 1400.66 1535.95 Q1397.56 1539.15 1391.91 1544.91 Z\" fill=\"#000000\" fill-rule=\"nonzero\" fill-opacity=\"1\" /><path clip-path=\"url(#clip650)\" d=\"M1912.47 1530.21 Q1915.82 1530.93 1917.7 1533.2 Q1919.6 1535.47 1919.6 1538.8 Q1919.6 1543.92 1916.08 1546.72 Q1912.56 1549.52 1906.08 1549.52 Q1903.9 1549.52 1901.59 1549.08 Q1899.29 1548.66 1896.84 1547.81 L1896.84 1543.29 Q1898.79 1544.43 1901.1 1545.01 Q1903.42 1545.58 1905.94 1545.58 Q1910.34 1545.58 1912.63 1543.85 Q1914.94 1542.11 1914.94 1538.8 Q1914.94 1535.75 1912.79 1534.03 Q1910.66 1532.3 1906.84 1532.3 L1902.81 1532.3 L1902.81 1528.45 L1907.03 1528.45 Q1910.48 1528.45 1912.3 1527.09 Q1914.13 1525.7 1914.13 1523.11 Q1914.13 1520.45 1912.23 1519.03 Q1910.36 1517.6 1906.84 1517.6 Q1904.92 1517.6 1902.72 1518.01 Q1900.52 1518.43 1897.88 1519.31 L1897.88 1515.14 Q1900.54 1514.4 1902.86 1514.03 Q1905.2 1513.66 1907.26 1513.66 Q1912.58 1513.66 1915.68 1516.09 Q1918.79 1518.5 1918.79 1522.62 Q1918.79 1525.49 1917.14 1527.48 Q1915.5 1529.45 1912.47 1530.21 Z\" fill=\"#000000\" fill-rule=\"nonzero\" fill-opacity=\"1\" /><polyline clip-path=\"url(#clip650)\" style=\"stroke:#000000; stroke-linecap:round; stroke-linejoin:round; stroke-width:4; stroke-opacity:1; fill:none\" points=\"186.274,1486.45 186.274,47.2441 \"/>\n",
       "<polyline clip-path=\"url(#clip650)\" style=\"stroke:#000000; stroke-linecap:round; stroke-linejoin:round; stroke-width:4; stroke-opacity:1; fill:none\" points=\"186.274,1332.57 205.172,1332.57 \"/>\n",
       "<polyline clip-path=\"url(#clip650)\" style=\"stroke:#000000; stroke-linecap:round; stroke-linejoin:round; stroke-width:4; stroke-opacity:1; fill:none\" points=\"186.274,1049.71 205.172,1049.71 \"/>\n",
       "<polyline clip-path=\"url(#clip650)\" style=\"stroke:#000000; stroke-linecap:round; stroke-linejoin:round; stroke-width:4; stroke-opacity:1; fill:none\" points=\"186.274,766.846 205.172,766.846 \"/>\n",
       "<polyline clip-path=\"url(#clip650)\" style=\"stroke:#000000; stroke-linecap:round; stroke-linejoin:round; stroke-width:4; stroke-opacity:1; fill:none\" points=\"186.274,483.984 205.172,483.984 \"/>\n",
       "<polyline clip-path=\"url(#clip650)\" style=\"stroke:#000000; stroke-linecap:round; stroke-linejoin:round; stroke-width:4; stroke-opacity:1; fill:none\" points=\"186.274,201.121 205.172,201.121 \"/>\n",
       "<path clip-path=\"url(#clip650)\" d=\"M62.9365 1318.37 Q59.3254 1318.37 57.4967 1321.93 Q55.6912 1325.48 55.6912 1332.61 Q55.6912 1339.71 57.4967 1343.28 Q59.3254 1346.82 62.9365 1346.82 Q66.5707 1346.82 68.3763 1343.28 Q70.205 1339.71 70.205 1332.61 Q70.205 1325.48 68.3763 1321.93 Q66.5707 1318.37 62.9365 1318.37 M62.9365 1314.67 Q68.7467 1314.67 71.8022 1319.27 Q74.8809 1323.86 74.8809 1332.61 Q74.8809 1341.33 71.8022 1345.94 Q68.7467 1350.52 62.9365 1350.52 Q57.1264 1350.52 54.0477 1345.94 Q50.9921 1341.33 50.9921 1332.61 Q50.9921 1323.86 54.0477 1319.27 Q57.1264 1314.67 62.9365 1314.67 Z\" fill=\"#000000\" fill-rule=\"nonzero\" fill-opacity=\"1\" /><path clip-path=\"url(#clip650)\" d=\"M83.0984 1343.97 L87.9827 1343.97 L87.9827 1349.85 L83.0984 1349.85 L83.0984 1343.97 Z\" fill=\"#000000\" fill-rule=\"nonzero\" fill-opacity=\"1\" /><path clip-path=\"url(#clip650)\" d=\"M108.168 1318.37 Q104.557 1318.37 102.728 1321.93 Q100.922 1325.48 100.922 1332.61 Q100.922 1339.71 102.728 1343.28 Q104.557 1346.82 108.168 1346.82 Q111.802 1346.82 113.608 1343.28 Q115.436 1339.71 115.436 1332.61 Q115.436 1325.48 113.608 1321.93 Q111.802 1318.37 108.168 1318.37 M108.168 1314.67 Q113.978 1314.67 117.033 1319.27 Q120.112 1323.86 120.112 1332.61 Q120.112 1341.33 117.033 1345.94 Q113.978 1350.52 108.168 1350.52 Q102.358 1350.52 99.2789 1345.94 Q96.2234 1341.33 96.2234 1332.61 Q96.2234 1323.86 99.2789 1319.27 Q102.358 1314.67 108.168 1314.67 Z\" fill=\"#000000\" fill-rule=\"nonzero\" fill-opacity=\"1\" /><path clip-path=\"url(#clip650)\" d=\"M138.33 1318.37 Q134.719 1318.37 132.89 1321.93 Q131.084 1325.48 131.084 1332.61 Q131.084 1339.71 132.89 1343.28 Q134.719 1346.82 138.33 1346.82 Q141.964 1346.82 143.769 1343.28 Q145.598 1339.71 145.598 1332.61 Q145.598 1325.48 143.769 1321.93 Q141.964 1318.37 138.33 1318.37 M138.33 1314.67 Q144.14 1314.67 147.195 1319.27 Q150.274 1323.86 150.274 1332.61 Q150.274 1341.33 147.195 1345.94 Q144.14 1350.52 138.33 1350.52 Q132.519 1350.52 129.441 1345.94 Q126.385 1341.33 126.385 1332.61 Q126.385 1323.86 129.441 1319.27 Q132.519 1314.67 138.33 1314.67 Z\" fill=\"#000000\" fill-rule=\"nonzero\" fill-opacity=\"1\" /><path clip-path=\"url(#clip650)\" d=\"M63.9319 1035.51 Q60.3208 1035.51 58.4921 1039.07 Q56.6865 1042.61 56.6865 1049.74 Q56.6865 1056.85 58.4921 1060.41 Q60.3208 1063.96 63.9319 1063.96 Q67.5661 1063.96 69.3717 1060.41 Q71.2004 1056.85 71.2004 1049.74 Q71.2004 1042.61 69.3717 1039.07 Q67.5661 1035.51 63.9319 1035.51 M63.9319 1031.8 Q69.742 1031.8 72.7976 1036.41 Q75.8763 1040.99 75.8763 1049.74 Q75.8763 1058.47 72.7976 1063.08 Q69.742 1067.66 63.9319 1067.66 Q58.1217 1067.66 55.043 1063.08 Q51.9875 1058.47 51.9875 1049.74 Q51.9875 1040.99 55.043 1036.41 Q58.1217 1031.8 63.9319 1031.8 Z\" fill=\"#000000\" fill-rule=\"nonzero\" fill-opacity=\"1\" /><path clip-path=\"url(#clip650)\" d=\"M84.0938 1061.11 L88.978 1061.11 L88.978 1066.99 L84.0938 1066.99 L84.0938 1061.11 Z\" fill=\"#000000\" fill-rule=\"nonzero\" fill-opacity=\"1\" /><path clip-path=\"url(#clip650)\" d=\"M103.191 1063.05 L119.51 1063.05 L119.51 1066.99 L97.566 1066.99 L97.566 1063.05 Q100.228 1060.3 104.811 1055.67 Q109.418 1051.02 110.598 1049.67 Q112.844 1047.15 113.723 1045.41 Q114.626 1043.66 114.626 1041.97 Q114.626 1039.21 112.682 1037.47 Q110.76 1035.74 107.658 1035.74 Q105.459 1035.74 103.006 1036.5 Q100.575 1037.27 97.7974 1038.82 L97.7974 1034.1 Q100.621 1032.96 103.075 1032.38 Q105.529 1031.8 107.566 1031.8 Q112.936 1031.8 116.131 1034.49 Q119.325 1037.17 119.325 1041.66 Q119.325 1043.79 118.515 1045.72 Q117.728 1047.61 115.621 1050.21 Q115.043 1050.88 111.941 1054.09 Q108.839 1057.29 103.191 1063.05 Z\" fill=\"#000000\" fill-rule=\"nonzero\" fill-opacity=\"1\" /><path clip-path=\"url(#clip650)\" d=\"M129.371 1032.43 L147.728 1032.43 L147.728 1036.36 L133.654 1036.36 L133.654 1044.84 Q134.672 1044.49 135.691 1044.33 Q136.709 1044.14 137.728 1044.14 Q143.515 1044.14 146.894 1047.31 Q150.274 1050.48 150.274 1055.9 Q150.274 1061.48 146.802 1064.58 Q143.33 1067.66 137.01 1067.66 Q134.834 1067.66 132.566 1067.29 Q130.32 1066.92 127.913 1066.18 L127.913 1061.48 Q129.996 1062.61 132.219 1063.17 Q134.441 1063.72 136.918 1063.72 Q140.922 1063.72 143.26 1061.62 Q145.598 1059.51 145.598 1055.9 Q145.598 1052.29 143.26 1050.18 Q140.922 1048.08 136.918 1048.08 Q135.043 1048.08 133.168 1048.49 Q131.316 1048.91 129.371 1049.79 L129.371 1032.43 Z\" fill=\"#000000\" fill-rule=\"nonzero\" fill-opacity=\"1\" /><path clip-path=\"url(#clip650)\" d=\"M62.9365 752.645 Q59.3254 752.645 57.4967 756.209 Q55.6912 759.751 55.6912 766.881 Q55.6912 773.987 57.4967 777.552 Q59.3254 781.094 62.9365 781.094 Q66.5707 781.094 68.3763 777.552 Q70.205 773.987 70.205 766.881 Q70.205 759.751 68.3763 756.209 Q66.5707 752.645 62.9365 752.645 M62.9365 748.941 Q68.7467 748.941 71.8022 753.547 Q74.8809 758.131 74.8809 766.881 Q74.8809 775.608 71.8022 780.214 Q68.7467 784.797 62.9365 784.797 Q57.1264 784.797 54.0477 780.214 Q50.9921 775.608 50.9921 766.881 Q50.9921 758.131 54.0477 753.547 Q57.1264 748.941 62.9365 748.941 Z\" fill=\"#000000\" fill-rule=\"nonzero\" fill-opacity=\"1\" /><path clip-path=\"url(#clip650)\" d=\"M83.0984 778.246 L87.9827 778.246 L87.9827 784.126 L83.0984 784.126 L83.0984 778.246 Z\" fill=\"#000000\" fill-rule=\"nonzero\" fill-opacity=\"1\" /><path clip-path=\"url(#clip650)\" d=\"M98.2141 749.566 L116.57 749.566 L116.57 753.501 L102.496 753.501 L102.496 761.973 Q103.515 761.626 104.534 761.464 Q105.552 761.279 106.571 761.279 Q112.358 761.279 115.737 764.45 Q119.117 767.621 119.117 773.038 Q119.117 778.617 115.645 781.719 Q112.172 784.797 105.853 784.797 Q103.677 784.797 101.409 784.427 Q99.1632 784.057 96.7558 783.316 L96.7558 778.617 Q98.8391 779.751 101.061 780.307 Q103.284 780.862 105.76 780.862 Q109.765 780.862 112.103 778.756 Q114.441 776.649 114.441 773.038 Q114.441 769.427 112.103 767.321 Q109.765 765.214 105.76 765.214 Q103.885 765.214 102.01 765.631 Q100.159 766.047 98.2141 766.927 L98.2141 749.566 Z\" fill=\"#000000\" fill-rule=\"nonzero\" fill-opacity=\"1\" /><path clip-path=\"url(#clip650)\" d=\"M138.33 752.645 Q134.719 752.645 132.89 756.209 Q131.084 759.751 131.084 766.881 Q131.084 773.987 132.89 777.552 Q134.719 781.094 138.33 781.094 Q141.964 781.094 143.769 777.552 Q145.598 773.987 145.598 766.881 Q145.598 759.751 143.769 756.209 Q141.964 752.645 138.33 752.645 M138.33 748.941 Q144.14 748.941 147.195 753.547 Q150.274 758.131 150.274 766.881 Q150.274 775.608 147.195 780.214 Q144.14 784.797 138.33 784.797 Q132.519 784.797 129.441 780.214 Q126.385 775.608 126.385 766.881 Q126.385 758.131 129.441 753.547 Q132.519 748.941 138.33 748.941 Z\" fill=\"#000000\" fill-rule=\"nonzero\" fill-opacity=\"1\" /><path clip-path=\"url(#clip650)\" d=\"M63.9319 469.782 Q60.3208 469.782 58.4921 473.347 Q56.6865 476.889 56.6865 484.018 Q56.6865 491.125 58.4921 494.69 Q60.3208 498.231 63.9319 498.231 Q67.5661 498.231 69.3717 494.69 Q71.2004 491.125 71.2004 484.018 Q71.2004 476.889 69.3717 473.347 Q67.5661 469.782 63.9319 469.782 M63.9319 466.079 Q69.742 466.079 72.7976 470.685 Q75.8763 475.268 75.8763 484.018 Q75.8763 492.745 72.7976 497.352 Q69.742 501.935 63.9319 501.935 Q58.1217 501.935 55.043 497.352 Q51.9875 492.745 51.9875 484.018 Q51.9875 475.268 55.043 470.685 Q58.1217 466.079 63.9319 466.079 Z\" fill=\"#000000\" fill-rule=\"nonzero\" fill-opacity=\"1\" /><path clip-path=\"url(#clip650)\" d=\"M84.0938 495.384 L88.978 495.384 L88.978 501.264 L84.0938 501.264 L84.0938 495.384 Z\" fill=\"#000000\" fill-rule=\"nonzero\" fill-opacity=\"1\" /><path clip-path=\"url(#clip650)\" d=\"M97.9826 466.704 L120.205 466.704 L120.205 468.694 L107.658 501.264 L102.774 501.264 L114.58 470.639 L97.9826 470.639 L97.9826 466.704 Z\" fill=\"#000000\" fill-rule=\"nonzero\" fill-opacity=\"1\" /><path clip-path=\"url(#clip650)\" d=\"M129.371 466.704 L147.728 466.704 L147.728 470.639 L133.654 470.639 L133.654 479.111 Q134.672 478.764 135.691 478.602 Q136.709 478.417 137.728 478.417 Q143.515 478.417 146.894 481.588 Q150.274 484.759 150.274 490.176 Q150.274 495.754 146.802 498.856 Q143.33 501.935 137.01 501.935 Q134.834 501.935 132.566 501.565 Q130.32 501.194 127.913 500.453 L127.913 495.754 Q129.996 496.889 132.219 497.444 Q134.441 498 136.918 498 Q140.922 498 143.26 495.893 Q145.598 493.787 145.598 490.176 Q145.598 486.565 143.26 484.458 Q140.922 482.352 136.918 482.352 Q135.043 482.352 133.168 482.768 Q131.316 483.185 129.371 484.065 L129.371 466.704 Z\" fill=\"#000000\" fill-rule=\"nonzero\" fill-opacity=\"1\" /><path clip-path=\"url(#clip650)\" d=\"M53.7467 214.466 L61.3856 214.466 L61.3856 188.1 L53.0754 189.767 L53.0754 185.508 L61.3393 183.841 L66.0152 183.841 L66.0152 214.466 L73.654 214.466 L73.654 218.401 L53.7467 218.401 L53.7467 214.466 Z\" fill=\"#000000\" fill-rule=\"nonzero\" fill-opacity=\"1\" /><path clip-path=\"url(#clip650)\" d=\"M83.0984 212.522 L87.9827 212.522 L87.9827 218.401 L83.0984 218.401 L83.0984 212.522 Z\" fill=\"#000000\" fill-rule=\"nonzero\" fill-opacity=\"1\" /><path clip-path=\"url(#clip650)\" d=\"M108.168 186.92 Q104.557 186.92 102.728 190.485 Q100.922 194.026 100.922 201.156 Q100.922 208.262 102.728 211.827 Q104.557 215.369 108.168 215.369 Q111.802 215.369 113.608 211.827 Q115.436 208.262 115.436 201.156 Q115.436 194.026 113.608 190.485 Q111.802 186.92 108.168 186.92 M108.168 183.216 Q113.978 183.216 117.033 187.823 Q120.112 192.406 120.112 201.156 Q120.112 209.883 117.033 214.489 Q113.978 219.073 108.168 219.073 Q102.358 219.073 99.2789 214.489 Q96.2234 209.883 96.2234 201.156 Q96.2234 192.406 99.2789 187.823 Q102.358 183.216 108.168 183.216 Z\" fill=\"#000000\" fill-rule=\"nonzero\" fill-opacity=\"1\" /><path clip-path=\"url(#clip650)\" d=\"M138.33 186.92 Q134.719 186.92 132.89 190.485 Q131.084 194.026 131.084 201.156 Q131.084 208.262 132.89 211.827 Q134.719 215.369 138.33 215.369 Q141.964 215.369 143.769 211.827 Q145.598 208.262 145.598 201.156 Q145.598 194.026 143.769 190.485 Q141.964 186.92 138.33 186.92 M138.33 183.216 Q144.14 183.216 147.195 187.823 Q150.274 192.406 150.274 201.156 Q150.274 209.883 147.195 214.489 Q144.14 219.073 138.33 219.073 Q132.519 219.073 129.441 214.489 Q126.385 209.883 126.385 201.156 Q126.385 192.406 129.441 187.823 Q132.519 183.216 138.33 183.216 Z\" fill=\"#000000\" fill-rule=\"nonzero\" fill-opacity=\"1\" /><path clip-path=\"url(#clip652)\" d=\"M247.59 201.121 L2291.44 201.121 L2291.44 87.9763 L247.59 87.9763 L247.59 201.121 L247.59 1332.57 L247.59 1332.57 L2291.44 1332.57 L2291.44 1332.57 L247.59 1332.57  Z\" fill=\"#a52a2a\" fill-rule=\"evenodd\" fill-opacity=\"1\"/>\n",
       "<polyline clip-path=\"url(#clip652)\" style=\"stroke:#a52a2a; stroke-linecap:round; stroke-linejoin:round; stroke-width:4; stroke-opacity:1; fill:none\" points=\"247.59,201.121 2291.44,201.121 2291.44,87.9763 247.59,87.9763 247.59,201.121 \"/>\n",
       "<path clip-path=\"url(#clip652)\" d=\"M247.59 1445.72 L2291.44 1445.72 L2291.44 1332.57 L247.59 1332.57 L247.59 1445.72 L247.59 1332.57 L247.59 1332.57 L2291.44 1332.57 L2291.44 1332.57 L247.59 1332.57  Z\" fill=\"#a52a2a\" fill-rule=\"evenodd\" fill-opacity=\"1\"/>\n",
       "<polyline clip-path=\"url(#clip652)\" style=\"stroke:#a52a2a; stroke-linecap:round; stroke-linejoin:round; stroke-width:4; stroke-opacity:1; fill:none\" points=\"247.59,1445.72 2291.44,1445.72 2291.44,1332.57 247.59,1332.57 247.59,1445.72 \"/>\n",
       "<path clip-path=\"url(#clip652)\" d=\"M1572.74 403.984 L1572.74 563.984 L1732.74 563.984 L1732.74 403.984 L1572.74 403.984 Z\" fill=\"#008000\" fill-rule=\"evenodd\" fill-opacity=\"1\" stroke=\"#000000\" stroke-opacity=\"1\" stroke-width=\"3.2\"/>\n",
       "<polyline clip-path=\"url(#clip652)\" style=\"stroke:#0000ff; stroke-linecap:round; stroke-linejoin:round; stroke-width:20; stroke-opacity:1; fill:none\" points=\"375.33,1332.57 1395.98,1219.43 2140.79,819.015 1652.74,483.984 \"/>\n",
       "<circle clip-path=\"url(#clip652)\" cx=\"375.33\" cy=\"1332.57\" r=\"36\" fill=\"#ff0000\" fill-rule=\"evenodd\" fill-opacity=\"1\" stroke=\"#000000\" stroke-opacity=\"1\" stroke-width=\"3.2\"/>\n",
       "<circle clip-path=\"url(#clip652)\" cx=\"1395.98\" cy=\"1219.43\" r=\"36\" fill=\"#ff0000\" fill-rule=\"evenodd\" fill-opacity=\"1\" stroke=\"#000000\" stroke-opacity=\"1\" stroke-width=\"3.2\"/>\n",
       "<circle clip-path=\"url(#clip652)\" cx=\"2140.79\" cy=\"819.015\" r=\"36\" fill=\"#ff0000\" fill-rule=\"evenodd\" fill-opacity=\"1\" stroke=\"#000000\" stroke-opacity=\"1\" stroke-width=\"3.2\"/>\n",
       "<circle clip-path=\"url(#clip652)\" cx=\"1652.74\" cy=\"483.984\" r=\"36\" fill=\"#ff0000\" fill-rule=\"evenodd\" fill-opacity=\"1\" stroke=\"#000000\" stroke-opacity=\"1\" stroke-width=\"3.2\"/>\n",
       "<path clip-path=\"url(#clip652)\" d=\"M247.59 201.121 L2291.44 201.121 L2291.44 87.9763 L247.59 87.9763 L247.59 201.121 L247.59 1332.57 L247.59 1332.57 L2291.44 1332.57 L2291.44 1332.57 L247.59 1332.57  Z\" fill=\"#a52a2a\" fill-rule=\"evenodd\" fill-opacity=\"1\"/>\n",
       "<polyline clip-path=\"url(#clip652)\" style=\"stroke:#a52a2a; stroke-linecap:round; stroke-linejoin:round; stroke-width:4; stroke-opacity:1; fill:none\" points=\"247.59,201.121 2291.44,201.121 2291.44,87.9763 247.59,87.9763 247.59,201.121 \"/>\n",
       "<path clip-path=\"url(#clip652)\" d=\"M247.59 1445.72 L2291.44 1445.72 L2291.44 1332.57 L247.59 1332.57 L247.59 1445.72 L247.59 1332.57 L247.59 1332.57 L2291.44 1332.57 L2291.44 1332.57 L247.59 1332.57  Z\" fill=\"#a52a2a\" fill-rule=\"evenodd\" fill-opacity=\"1\"/>\n",
       "<polyline clip-path=\"url(#clip652)\" style=\"stroke:#a52a2a; stroke-linecap:round; stroke-linejoin:round; stroke-width:4; stroke-opacity:1; fill:none\" points=\"247.59,1445.72 2291.44,1445.72 2291.44,1332.57 247.59,1332.57 247.59,1445.72 \"/>\n",
       "<path clip-path=\"url(#clip652)\" d=\"M1572.74 403.984 L1572.74 563.984 L1732.74 563.984 L1732.74 403.984 L1572.74 403.984 Z\" fill=\"#008000\" fill-rule=\"evenodd\" fill-opacity=\"1\" stroke=\"#000000\" stroke-opacity=\"1\" stroke-width=\"3.2\"/>\n",
       "<polyline clip-path=\"url(#clip652)\" style=\"stroke:#0000ff; stroke-linecap:round; stroke-linejoin:round; stroke-width:20; stroke-opacity:1; fill:none\" points=\"375.33,1332.57 1395.98,1219.43 2140.79,819.015 1652.74,483.984 \"/>\n",
       "<circle clip-path=\"url(#clip652)\" cx=\"375.33\" cy=\"1332.57\" r=\"36\" fill=\"#ff0000\" fill-rule=\"evenodd\" fill-opacity=\"1\" stroke=\"#000000\" stroke-opacity=\"1\" stroke-width=\"3.2\"/>\n",
       "<circle clip-path=\"url(#clip652)\" cx=\"1395.98\" cy=\"1219.43\" r=\"36\" fill=\"#ff0000\" fill-rule=\"evenodd\" fill-opacity=\"1\" stroke=\"#000000\" stroke-opacity=\"1\" stroke-width=\"3.2\"/>\n",
       "<circle clip-path=\"url(#clip652)\" cx=\"2140.79\" cy=\"819.015\" r=\"36\" fill=\"#ff0000\" fill-rule=\"evenodd\" fill-opacity=\"1\" stroke=\"#000000\" stroke-opacity=\"1\" stroke-width=\"3.2\"/>\n",
       "<circle clip-path=\"url(#clip652)\" cx=\"1652.74\" cy=\"483.984\" r=\"36\" fill=\"#ff0000\" fill-rule=\"evenodd\" fill-opacity=\"1\" stroke=\"#000000\" stroke-opacity=\"1\" stroke-width=\"3.2\"/>\n",
       "</svg>\n"
      ]
     },
     "metadata": {},
     "output_type": "display_data"
    }
   ],
   "source": [
    "# Display the results\n",
    "label = use_inequality_constraints ? \"With Inequality Constraints\" : \"No Inequality Constraints\"\n",
    "println(label) \n",
    "println(\"Objective value: \", objective_value(model))\n",
    "println(\"Solution: \")\n",
    "println(\"th1Star = \", value(th1))\n",
    "println(\"th2Star = \", value(th2))\n",
    "println(\"th3Star = \", value(th3))\n",
    "println(\" \")            \n",
    "positions = linkPositions(value(th1), value(th2), value(th3))\n",
    "plot_points(positions, label)"
   ]
  },
  {
   "cell_type": "markdown",
   "id": "3a2a1b16",
   "metadata": {},
   "source": [
    ">## $Dynamics\\ a\\ la\\ Lagrange$ - Mass inertia matrix\n",
    "\n",
    "- **Goal**: Find the Potential Energy and Kinetic Energy of the n-link manipulator\n",
    "$$\n",
    "PE = \\int_{i=1}^n m_i*g*y_i\\\\\n",
    "{}\\\\\n",
    "KE = \\int_{i=1}^n \\frac{1}{2} * m_i * v_i^2\n",
    "$$\n",
    "\n",
    "- **Special Formula for any robot comprised of rigid links**: KE and Mass Inertia Matrix D(q)\n",
    "$$\n",
    "KE(q,\\dot{q}) = \\frac{1}{2} * \\dot{q}^T * D(q) * \\dot{q}\\\\\n",
    "{}\\\\\n",
    "D(q) = \\frac{\\partial}{\\partial \\dot{q}} \\left[ \\left( \\frac{\\partial}{\\partial \\dot{q}} KE(q, \\dot{q}) \\right)^\\top \\right]\n",
    "$$"
   ]
  },
  {
   "cell_type": "markdown",
   "id": "5df746e7",
   "metadata": {},
   "source": [
    "Packages used:\n",
    "<span style=\"color:yellow; background-color:green\">Symbolics, SymPy, Latexify</span>"
   ]
  },
  {
   "cell_type": "code",
   "execution_count": 39,
   "id": "1af0abf0",
   "metadata": {},
   "outputs": [
    {
     "data": {
      "text/plain": [
       "simple (generic function with 1 method)"
      ]
     },
     "metadata": {},
     "output_type": "display_data"
    }
   ],
   "source": [
    "using Symbolics, SymPy, Latexify\n",
    "include(\"src/manipulator_library.jl\")"
   ]
  },
  {
   "cell_type": "code",
   "execution_count": null,
   "id": "0307eb4f",
   "metadata": {},
   "outputs": [
    {
     "name": "stdout",
     "output_type": "stream",
     "text": [
      "Potential Energy: g*(L1*m1*sin(q1) + m2*(L1*sin(q1) + L2*sin(q1 + q2)))\n",
      "D = Any[\"L1^2*m1 + m2*(L1^2 + 2*L1*L2*cos(q2) + L2^2)\" \"L2*m2*(L1*cos(q2) + L2)\"; \"L2*m2*(L1*cos(q2) + L2)\" \"L2^2*m2\"]\n"
     ]
    },
    {
     "data": {
      "text/plain": [
       "2×2 Matrix{Any}:\n",
       " \"L1^2*m1 + m2*(L1^2 + 2*L1*L2*cos(q2) + L2^2)\"  \"L2*m2*(L1*cos(q2) + L2)\"\n",
       " \"L2*m2*(L1*cos(q2) + L2)\"                       \"L2^2*m2\""
      ]
     },
     "metadata": {},
     "output_type": "display_data"
    }
   ],
   "source": [
    "#================================== TWO LINK MANIPULATOR =============================================#\n",
    "set_default(fmt = \"%.1f\", convert_unicode = false)\n",
    "\n",
    "@Symbolics.variables q1 q2 dq1 dq2 g m1 m2 L1 L2\n",
    "q = [q1, q2]\n",
    "dq = [dq1, dq2]\n",
    "\n",
    "# Kinematics\n",
    "p1 = [L1*cos(q1), L1*sin(q1)]\n",
    "p2 = p1 + [L2*cos(q1 + q2), L2*sin(q1 + q2)]\n",
    "v1 = Symbolics.jacobian(p1, q)*dq\n",
    "v2 = Symbolics.jacobian(p2, q)*dq\n",
    "\n",
    "# Potential energy\n",
    "PE = m1*g*p1[2] + m2*g*p2[2]\n",
    "PE = simple(PE)\n",
    "println(\"Potential Energy: \", PE)\n",
    "\n",
    "# Kinetic energy\n",
    "KE1 = 0.5*m1*sum(v1.*v1)\n",
    "KE2 = 0.5*m2*sum(v2.*v2)\n",
    "KE = KE1 + KE2\n",
    "\n",
    "D = Symbolics.hessian(KE, dq)\n",
    "D = simple(D)\n",
    "@show D"
   ]
  },
  {
   "cell_type": "code",
   "execution_count": 42,
   "id": "b801ee3a",
   "metadata": {},
   "outputs": [
    {
     "name": "stdout",
     "output_type": "stream",
     "text": [
      "Potential Energy: g*(L1*m1*sin(q1) + m2*(L1*sin(q1) + L2*sin(q1 + q2)) + m3*(L1*sin(q1) + L2*sin(q1 + q2) + L3*sin(q1 + q2 + q3)))\n",
      "D = Any[\"L1^2*m1 + m2*(L1^2 + 2*L1*L2*cos(q2) + L2^2) + m3*(L1^2 + 2*L1*L2*cos(q2) + 2*L1*L3*cos(q2 + q3) + L2^2 + 2*L2*L3*cos(q3) + L3^2)\" \"L2*m2*(L1*cos(q2) + L2) + m3*(L1*L2*cos(q2) + L1*L3*cos(q2 + q3) + L2^2 + 2*L2*L3*cos(q3) + L3^2)\" \"L3*m3*(L1*cos(q2 + q3) + L2*cos(q3) + L3)\"; \"L2*m2*(L1*cos(q2) + L2) + m3*(L1*L2*cos(q2) + L1*L3*cos(q2 + q3) + L2^2 + 2*L2*L3*cos(q3) + L3^2)\" \"L2^2*m2 + m3*(L2^2 + 2*L2*L3*cos(q3) + L3^2)\" \"L3*m3*(L2*cos(q3) + L3)\"; \"L3*m3*(L1*cos(q2 + q3) + L2*cos(q3) + L3)\" \"L3*m3*(L2*cos(q3) + L3)\" \"L3^2*m3\"]\n"
     ]
    },
    {
     "data": {
      "text/plain": [
       "3×3 Matrix{Any}:\n",
       " \"L1^2*m1 + m2*(L1^2 + 2*L1*L2*co\"\u001b[93m\u001b[1m ⋯ 67 bytes ⋯ \u001b[22m\u001b[39m\" L2^2 + 2*L2*L3*cos(q3) + L3^2)\"  …  \"L3*m3*(L1*cos(q2 + q3) + L2*cos(q3) + L3)\"\n",
       " \"L2*m2*(L1*cos(q2) + L2) + m3*(L\"\u001b[93m\u001b[1m ⋯ 35 bytes ⋯ \u001b[22m\u001b[39m\" L2^2 + 2*L2*L3*cos(q3) + L3^2)\"                                     \"L3*m3*(L2*cos(q3) + L3)\"\n",
       " \"L3*m3*(L1*cos(q2 + q3) + L2*cos(q3) + L3)\"                                                                                             \"L3^2*m3\""
      ]
     },
     "metadata": {},
     "output_type": "display_data"
    }
   ],
   "source": [
    "#====================================== THREE LINK MANIPULATOR ============================================#\n",
    "@Symbolics.variables q1 q2 q3 dq1 dq2 dq3 g m1 m2 m3 L1 L2 L3\n",
    "q = [q1, q2, q3]\n",
    "dq = [dq1, dq2, dq3]\n",
    "\n",
    "# Kinematics\n",
    "p1 = [L1*cos(q1), L1*sin(q1)]\n",
    "p2 = p1 + [L2*cos(q1 + q2), L2*sin(q1 + q2)]\n",
    "p3 = p2 + [L3*cos(q1 + q2 + q3), L3*sin(q1 + q2 + q3)]\n",
    "v1 = Symbolics.jacobian(p1, q)*dq\n",
    "v2 = Symbolics.jacobian(p2, q)*dq\n",
    "v3 = Symbolics.jacobian(p3, q)*dq\n",
    "\n",
    "# Potential energy\n",
    "PE = m1*g*p1[2] + m2*g*p2[2] + m3*g*p3[2]\n",
    "PE = simple(PE)\n",
    "println(\"Potential Energy: \", PE)\n",
    "\n",
    "# Kinetic energy\n",
    "KE1 = 0.5*m1*sum(v1.*v1)\n",
    "KE2 = 0.5*m2*sum(v2.*v2)\n",
    "KE3 = 0.5*m3*sum(v3.*v3)\n",
    "KE = KE1 + KE2 + KE3\n",
    "\n",
    "D = Symbolics.hessian(KE, dq)\n",
    "D = simple(D)\n",
    "@show D"
   ]
  },
  {
   "cell_type": "markdown",
   "id": "8e0dd307",
   "metadata": {},
   "source": [
    ">## Lagrangian models\n",
    "\n",
    "- **Goal**: Define Lagrange's Equation of Motion (EoM)\n",
    "$$\n",
    "Lagrangian: \\mathcal{L}(q, \\dot{q}) := K(q, \\dot{q}) - V(q) \\\\\n",
    "{}\\\\\n",
    "EoM: \\frac{d}{dt} \\frac{\\partial \\mathcal{L}(q, \\dot{q})}{\\partial \\dot{q}} - \\frac{\\partial \\mathcal{L}(q, \\dot{q})}{\\partial q} = \\Gamma\\\\\n",
    "$$\n",
    "\n",
    "- **Robot Equations**\n",
    "$$\n",
    "D(q) \\cdot \\ddot{q} + C(q, \\dot{q}) \\cdot \\dot{q} + G(q) = \\Gamma\n",
    "{}\\\\\n",
    "{}\\\\\n",
    "D(q):= \\frac{\\partial}{\\partial \\dot{q}} \\left[ \\left( \\frac{\\partial}{\\partial \\dot{q}} KE(q, \\dot{q}) \\right)^\\top \\right]\\\\\n",
    "{}\\\\\n",
    "G(q):= \\nabla V(q)\\ \\ \\ (PE)\\\\\n",
    "{}\\\\\n",
    "C(q, \\dot{q}): other\\ terms\n",
    "$$\n",
    "\n",
    "- **Model stored in library**: `include(\"src/manipulator_library.jl\")`\n",
    "    - case 1: `dyn_mod_3LinkManipulator(q, dq)`\n",
    "    - case 2: `dyn_mod_3LinkWalker(q, dq)`"
   ]
  },
  {
   "cell_type": "code",
   "execution_count": 43,
   "id": "6364d0af",
   "metadata": {},
   "outputs": [
    {
     "data": {
      "text/plain": [
       "3×3 Matrix{Any}:\n",
       " \"-L1*L2*dq2*m2*sin(q2) - L1*L2*d\"\u001b[93m\u001b[1m ⋯ 61 bytes ⋯ \u001b[22m\u001b[39m\"q2 + q3) - L2*L3*dq3*m3*sin(q3)\"  …  \"-L3*m3*(L1*dq1*sin(q2 + q3) + L\"\u001b[93m\u001b[1m ⋯ 61 bytes ⋯ \u001b[22m\u001b[39m\"2*dq2*sin(q3) + L2*dq3*sin(q3))\"\n",
       " \"L1*L2*dq1*m2*sin(q2) + L1*L2*dq\"\u001b[93m\u001b[1m ⋯ 32 bytes ⋯ \u001b[22m\u001b[39m\"q2 + q3) - L2*L3*dq3*m3*sin(q3)\"                                  \"-L2*L3*m3*(dq1 + dq2 + dq3)*sin(q3)\"\n",
       " \"L3*m3*(L1*dq1*sin(q2 + q3) + L2*dq1*sin(q3) + L2*dq2*sin(q3))\"                                                                   \"0.0\""
      ]
     },
     "metadata": {},
     "output_type": "display_data"
    }
   ],
   "source": [
    "# Continue with the previous code\n",
    "PE = m1*g*p1[2] + m2*g*p2[2] + m3*g*p3[2]\n",
    "PE = Symbolics.simplify(PE)\n",
    "KE = KE1 + KE2 + KE3\n",
    "KE = Symbolics.simplify(KE)\n",
    "\n",
    "# Form the Lagrangian\n",
    "L = KE - PE\n",
    "\n",
    "# Compute terms in the Robot Equations\n",
    "G = Symbolics.gradient(PE, q)\n",
    "D = Symbolics.hessian(KE, dq)\n",
    "n = length(q)\n",
    "C = Array{Num}(undef, n, n)\n",
    "\n",
    "for k in 1:n\n",
    "    for j in 1:n\n",
    "        C[k, j] = 0\n",
    "        for i in 1:n\n",
    "            C[k, j] += 0.5 * (Symbolics.gradient(D[k, j], q)[i] + \n",
    "            Symbolics.gradient(D[k, i], q)[j] - Symbolics.gradient(D[i, j], q)[k]) * dq[i]\n",
    "        end\n",
    "    end\n",
    "end\n",
    "\n",
    "# Place an actuator at the hip on \n",
    "# the relative angle between the torso and \n",
    "# each leg\n",
    "# Use D'Alembert's Principle \n",
    "E = [q1;q2;q3] \n",
    "B = Symbolics.jacobian(E, q)\n",
    "B = B'\n",
    "JacG = Symbolics.jacobian(G, q) # Used when we discuss lienearization of NL models\n",
    "\n",
    "if true\n",
    "    # Simplify as much as possible at the very end\n",
    "    D = simple(D)\n",
    "    C = simple(C)\n",
    "end"
   ]
  },
  {
   "cell_type": "markdown",
   "id": "7605959c",
   "metadata": {},
   "source": [
    "<p align=\"center\">\n",
    "    <img src=\"..//Pic//3-link_walker.png\" width=\"15%\">\n",
    "</p>"
   ]
  },
  {
   "cell_type": "code",
   "execution_count": null,
   "id": "9a263424",
   "metadata": {},
   "outputs": [],
   "source": [
    "# 3-Link Walker code\n",
    "@variables th1 th2 th3 dth1 dth2 dth3 g m Mh Mt L r\n",
    "q = [th1, th2, th3]\n",
    "dq = [dth1, dth2, dth3]\n",
    "\n",
    "p_m1 = [r/2*sin(th1), r/2*cos(th1)]\n",
    "p_Mh = [r*sin(th1), r*cos(th1)]\n",
    "p_Mt = p_Mh + [L*sin(th3), L*cos(th3)]\n",
    "p_m2 = p_Mh - [r/2*sin(th2), r/2*cos(th2)]\n",
    "\n",
    "# Potential energy of masses in the system\n",
    "PE_m1 = p_m1[2] * m * g\n",
    "PE_Mh = p_Mh[2] * Mh * g\n",
    "PE_Mt = p_Mt[2] * Mt * g\n",
    "PE_m2 = p_m2[2] * m * g\n",
    "\n",
    "# Total potential energy of the system\n",
    "PE = PE_m1 + PE_Mh + PE_Mt + PE_m2\n",
    "PE = Symbolics.simplify(PE)\n",
    " \n",
    "# Velocities of masses in the system\n",
    "v_m1 = Symbolics.jacobian(p_m1, q) * dq\n",
    "v_Mh = Symbolics.jacobian(p_Mh, q) * dq\n",
    "v_Mt = Symbolics.jacobian(p_Mt, q) * dq\n",
    "v_m2 = Symbolics.jacobian(p_m2, q) * dq\n",
    " \n",
    "# Kinetic Energy of each mass on the Robot\n",
    "KE_m1 = 0.5 * m * sum(v_m1.*v_m1) \n",
    "KE_Mh = 0.5 * Mh * sum(v_Mh.*v_Mh)\n",
    "KE_Mt = 0.5 * Mt * sum(v_Mt.*v_Mt)\n",
    "KE_m2 = 0.5 * m * sum(v_m2.*v_m2)\n",
    " \n",
    "# Total kinetic energy of the system\n",
    "KE = KE_m1 + KE_Mh + KE_Mt + KE_m2\n",
    "KE = Symbolics.simplify(KE)\n",
    " \n",
    "# Form the Lagrangian\n",
    "L = KE - PE\n",
    " \n",
    "# Compute terms in the Robot Equations\n",
    "G = Symbolics.gradient(PE, q)\n",
    "D = Symbolics.hessian(KE, dq) # Strange name explained below\n",
    "\n",
    "# Compute C (advanced, uses Christoffel symbols)\n",
    "n = length(q)\n",
    "C = Array{Num}(undef, n, n) # Num is Symbolic Type \n",
    "                             # Strange name explained below\n",
    "for k in 1:n\n",
    "    for j in 1:n\n",
    "        C[k, j] = 0\n",
    "        for i in 1:n\n",
    "            C[k, j] += 0.5 * (Symbolics.gradient(D[k, j], q)[i] + \n",
    "            Symbolics.gradient(D[k, i], q)[j] - Symbolics.gradient(D[i, j], q)[k]) * dq[i]\n",
    "        end\n",
    "    end\n",
    "end\n",
    " \n",
    "# Place an actuator at the hip on \n",
    "# the relative angle between the torso and \n",
    "# each leg\n",
    "# Use D'Alembert's Principle \n",
    "E = [th3-th1; th3-th2] \n",
    "B = Symbolics.jacobian(E, q)\n",
    "B = B'\n",
    "JacG = Symbolics.jacobian(G, q) # Used when we discuss lienearization of NL models\n",
    " \n",
    "\n",
    "\n",
    "# Only run simple after all Symbolic manipulation is done and you \n",
    "# are ready to create a function\n",
    "if true\n",
    "    # Simplify as much as possible at the very end\n",
    "    D = simple(D)\n",
    "    C = simple(C)\n",
    "end"
   ]
  }
 ],
 "metadata": {
  "kernelspec": {
   "display_name": "Julia 1.10.5",
   "language": "julia",
   "name": "julia-1.10"
  },
  "language_info": {
   "file_extension": ".jl",
   "mimetype": "application/julia",
   "name": "julia",
   "version": "1.10.5"
  }
 },
 "nbformat": 4,
 "nbformat_minor": 5
}
