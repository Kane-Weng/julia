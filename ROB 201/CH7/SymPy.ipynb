{
 "cells": [
  {
   "cell_type": "markdown",
   "id": "b8dd7afb",
   "metadata": {},
   "source": [
    "## **Using SymPy**\n",
    "---"
   ]
  },
  {
   "cell_type": "markdown",
   "id": "c9c028b0",
   "metadata": {},
   "source": [
    ">## Partial Fraction Expansion\n",
    "\n",
    "- **Goal**: Find partial fraction expansion and the antiderivative of\n",
    "$$\n",
    "R(x) = \\frac{2*x^3 - x + 4}{x^6 - 4*x^4 + 10*x^3 - 11*x^2 + 10*x - 6}\n",
    "$$\n",
    "- **Key takeaways**:\n",
    "    - Define variables: `x = symbols(\"x\")`\n",
    "    - Define functions and integrand\n",
    "    - Compute antiderivate"
   ]
  },
  {
   "cell_type": "markdown",
   "id": "43f0354d",
   "metadata": {},
   "source": [
    "Packages used:\n",
    "<span style=\"color:yellow; background-color:green\">SymPy</span>"
   ]
  },
  {
   "cell_type": "code",
   "execution_count": 1,
   "id": "355d057b",
   "metadata": {},
   "outputs": [],
   "source": [
    "using SymPy"
   ]
  },
  {
   "cell_type": "code",
   "execution_count": 2,
   "id": "28aa7788",
   "metadata": {},
   "outputs": [
    {
     "name": "stdout",
     "output_type": "stream",
     "text": [
      "Partial fraction expansion of R:\n",
      "-(4*x + 3)/(10*(x^2 + 1)) - (5*x - 8)/(17*(x^2 - 2*x + 2)) + 47/(680*(x + 3)) + 5/(8*(x - 1))\n",
      "Antiderivative of R:\n",
      "5*log(x - 1)/8 + 47*log(x + 3)/680 - log(x^2 + 1)/5 - 5*log(x^2 - 2*x + 2)/34 - 3*atan(x)/10 + 3*atan(x - 1)/17\n"
     ]
    }
   ],
   "source": [
    "# Define the variables\n",
    "x = symbols(\"x\")\n",
    "P = 2*x^3 - x + 4\n",
    "Q = x^6 - 4*x^4 + 10*x^3 - 11*x^2 + 10*x - 6\n",
    "R = P/Q\n",
    "\n",
    "# Compute partial fraction expansion\n",
    "R_partial = apart(R)\n",
    "\n",
    "println(\"Partial fraction expansion of R:\")\n",
    "println(R_partial)\n",
    "\n",
    "# Find the antiderivative of the partial fraction expansion\n",
    "R_antiderivative = integrate(R_partial, x)\n",
    "println(\"Antiderivative of R:\")\n",
    "println(R_antiderivative)"
   ]
  },
  {
   "cell_type": "code",
   "execution_count": null,
   "id": "a8b83926",
   "metadata": {},
   "outputs": [],
   "source": [
    "#============================== Another example ===================================#\n",
    "# Define the variable\n",
    "x= symbols(\"x\", real=true)\n",
    " \n",
    "# Define your integrand here\n",
    "a=pi\n",
    "integrand =sqrt(a^2 - x^2)\n",
    "antiderivative = integrate(integrand, x)\n",
    " \n",
    "# Print the problem and results\n",
    "println(\"Integrand = \", integrand, \"\\n\")\n",
    "println(\"Antiderivative = \",antiderivative, \"\\n\")"
   ]
  }
 ],
 "metadata": {
  "kernelspec": {
   "display_name": "Julia 1.10.5",
   "language": "julia",
   "name": "julia-1.10"
  },
  "language_info": {
   "file_extension": ".jl",
   "mimetype": "application/julia",
   "name": "julia",
   "version": "1.10.5"
  }
 },
 "nbformat": 4,
 "nbformat_minor": 5
}
