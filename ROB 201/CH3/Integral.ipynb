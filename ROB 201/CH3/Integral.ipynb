{
 "cells": [
  {
   "cell_type": "markdown",
   "id": "7260b635",
   "metadata": {},
   "source": [
    "### **Riemann Lower and Upper Sums**"
   ]
  },
  {
   "cell_type": "markdown",
   "id": "33834a2f",
   "metadata": {},
   "source": [
    "Packages used:\n",
    "<span style=\"color:black; background-color:yellow\">QuadGK</span>"
   ]
  },
  {
   "cell_type": "code",
   "execution_count": 19,
   "id": "895d6070",
   "metadata": {},
   "outputs": [],
   "source": [
    "include(\"Riemann_sum_library.jl\")\n",
    "using QuadGK"
   ]
  },
  {
   "cell_type": "code",
   "execution_count": null,
   "id": "12319825",
   "metadata": {},
   "outputs": [],
   "source": [
    "f(x) = sin(x)\n",
    "a = 0.0\n",
    "b = 2 * π\n",
    "N = 25\n",
    "\n",
    "F = riemannLowerUpperSums(f, a, b, N)\n",
    "\n",
    "@show F.lowerSum\n",
    "@show F.upperSum\n"
   ]
  },
  {
   "cell_type": "markdown",
   "id": "f027cb4d",
   "metadata": {},
   "source": [
    "### **Easy to Numerically Integrate Super Complicated Functions**"
   ]
  },
  {
   "cell_type": "code",
   "execution_count": 8,
   "id": "31908caa",
   "metadata": {},
   "outputs": [
    {
     "data": {
      "text/plain": [
       "(lowerSum = -28.837938067489223, upperSum = -28.826646469106663, estIntegral = -28.83229226829794, pmError = 0.005645799191279721)"
      ]
     },
     "metadata": {},
     "output_type": "display_data"
    }
   ],
   "source": [
    "f(x) = cos(exp(-x) * sin(x) / (1 + x + 5 * x^2)) + log2((1 + x) / (cos(x) + 5 * x^2))\n",
    "\n",
    "a = 0.0\n",
    "b = 10\n",
    "N = 5000\n",
    "\n",
    "F = riemannLowerUpperSums(f, a, b, N)\n"
   ]
  },
  {
   "cell_type": "code",
   "execution_count": 9,
   "id": "cbfc20be",
   "metadata": {},
   "outputs": [
    {
     "data": {
      "text/plain": [
       "(-28.832291734253197, 1.9473529178082316e-9)"
      ]
     },
     "metadata": {},
     "output_type": "display_data"
    }
   ],
   "source": [
    "result, err = quadgk(f, a, b)"
   ]
  },
  {
   "cell_type": "markdown",
   "id": "4aa7197a",
   "metadata": {},
   "source": [
    "### **Trapezoidal Rule**"
   ]
  },
  {
   "cell_type": "code",
   "execution_count": 12,
   "id": "58e65715",
   "metadata": {},
   "outputs": [
    {
     "data": {
      "text/plain": [
       "2.373101715136272e-15"
      ]
     },
     "metadata": {},
     "output_type": "display_data"
    }
   ],
   "source": [
    "f(x) = sin(x)\n",
    "\n",
    "a = 0.0\n",
    "b = 2 * π\n",
    "N = 25\n",
    "\n",
    "trapezoidalRule(f, a, b, N)\n"
   ]
  },
  {
   "cell_type": "markdown",
   "id": "f82e718e",
   "metadata": {},
   "source": [
    "### **Simpson's Rule**"
   ]
  },
  {
   "cell_type": "code",
   "execution_count": 15,
   "id": "3af138aa",
   "metadata": {},
   "outputs": [
    {
     "data": {
      "text/plain": [
       "(estIntegralSimpson = -28.832291734252568, pmError = 7.226732551779983e-10)"
      ]
     },
     "metadata": {},
     "output_type": "display_data"
    },
    {
     "data": {
      "text/plain": [
       "(-28.832291734253197, 1.9473529178082316e-9)"
      ]
     },
     "metadata": {},
     "output_type": "display_data"
    }
   ],
   "source": [
    "f(x) = cos(exp(-x) * sin(x) / (1 + x + 5 * x^2)) + log2((1 + x) / (cos(x) + 5 * x^2))\n",
    "\n",
    "a = 0.0\n",
    "b = 10\n",
    "N = 5000\n",
    "\n",
    "G = simpsonRuleWithErrorBounds(f, a, b, N)\n",
    "display(G)\n",
    "\n",
    "result, err = quadgk(f, a, b)\n"
   ]
  },
  {
   "cell_type": "markdown",
   "id": "30d38efc",
   "metadata": {},
   "source": [
    "### **ApproxFuns for numerical Integration**"
   ]
  },
  {
   "cell_type": "code",
   "execution_count": 20,
   "id": "47500917",
   "metadata": {},
   "outputs": [
    {
     "data": {
      "text/plain": [
       "Fun(ConstantSpace(), [1.40502])"
      ]
     },
     "metadata": {},
     "output_type": "display_data"
    }
   ],
   "source": [
    "using SpecialFunctions, ApproxFun\n",
    "f(x)= ( 1 + x^2 * log(x) )/( x + x^2*log(x) )\n",
    "\n",
    "# define the approximating function\n",
    "H = Fun(f,1..exp(1))\n",
    "# define the operation of computing a Definite integral\n",
    "Sigma = DefiniteIntegral()\n",
    "# apply the definite integral operator to g \n",
    "Sigma*H"
   ]
  }
 ],
 "metadata": {
  "kernelspec": {
   "display_name": "Julia 1.10.5",
   "language": "julia",
   "name": "julia-1.10"
  },
  "language_info": {
   "file_extension": ".jl",
   "mimetype": "application/julia",
   "name": "julia",
   "version": "1.10.5"
  }
 },
 "nbformat": 4,
 "nbformat_minor": 5
}
