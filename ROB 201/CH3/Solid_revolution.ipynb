{
 "cells": [
  {
   "cell_type": "markdown",
   "id": "bdcdb39c",
   "metadata": {},
   "source": [
    "### **Solids of Revolution**"
   ]
  },
  {
   "cell_type": "markdown",
   "id": "3f7fcb92",
   "metadata": {},
   "source": [
    "Packages used: \n",
    "<span style=\"color:yellow; background-color:green\"> QuadGK </span>"
   ]
  },
  {
   "cell_type": "code",
   "execution_count": 2,
   "id": "63aa3306",
   "metadata": {},
   "outputs": [],
   "source": [
    "using QuadGK"
   ]
  },
  {
   "cell_type": "markdown",
   "id": "11e2b4d3",
   "metadata": {},
   "source": [
    "**Area of disc (Disc Washer)**\n",
    "\n",
    "![Alt text](pic//disc_method.png)"
   ]
  },
  {
   "cell_type": "code",
   "execution_count": 4,
   "id": "a741e8b9",
   "metadata": {},
   "outputs": [
    {
     "data": {
      "text/plain": [
       "7124.145724851874"
      ]
     },
     "metadata": {},
     "output_type": "display_data"
    }
   ],
   "source": [
    "r = 75/(2*pi)\n",
    "f(x) = sqrt(r^2-x^2)\n",
    "g(x) = 0.0x\n",
    "xmin = 0.0\n",
    "xmax = r\n",
    "\n",
    "# Area of washer cross-section\n",
    "areaDiscWasher(x) = pi * ( (f(x))^2 - (g(x))^2 )\n",
    "\n",
    "# Compute volume\n",
    "VolumeSemisphere_x, Error = quadgk(areaDiscWasher, xmin, xmax)\n",
    "\n",
    "VolumeBasketball = 2 * VolumeSemisphere_x"
   ]
  },
  {
   "cell_type": "markdown",
   "id": "cc561833",
   "metadata": {},
   "source": [
    "**Area of disc (Shell)** (adds up the surface area of shells)\n",
    "\n",
    "![Alt text](pic//shell_method.png)"
   ]
  },
  {
   "cell_type": "code",
   "execution_count": 5,
   "id": "a61f8a82",
   "metadata": {},
   "outputs": [
    {
     "data": {
      "text/plain": [
       "7124.145729241054"
      ]
     },
     "metadata": {},
     "output_type": "display_data"
    }
   ],
   "source": [
    "# Shell method area for revolution around y-axis\n",
    "areaShell(x) = 2 * pi * x * (f(x) - g(x))\n",
    "\n",
    "# Compute volume\n",
    "VolumeSemisphere_y, Error = quadgk(areaShell, xmin, xmax)\n",
    "VolumeBasketball = 2 * VolumeSemisphere_y"
   ]
  }
 ],
 "metadata": {
  "kernelspec": {
   "display_name": "Julia 1.10.5",
   "language": "julia",
   "name": "julia-1.10"
  },
  "language_info": {
   "file_extension": ".jl",
   "mimetype": "application/julia",
   "name": "julia",
   "version": "1.10.5"
  }
 },
 "nbformat": 4,
 "nbformat_minor": 5
}
