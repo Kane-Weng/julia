{
 "cells": [
  {
   "cell_type": "markdown",
   "id": "26a6c12d",
   "metadata": {},
   "source": [
    "## **Jacobian**"
   ]
  },
  {
   "cell_type": "markdown",
   "id": "feaba0d3",
   "metadata": {},
   "source": [
    "Packages used: \n",
    "<span style=\"color:yellow; background-color:green\">Symbolics, ForwardDiff</span>"
   ]
  },
  {
   "cell_type": "code",
   "execution_count": 20,
   "id": "f5235f12",
   "metadata": {},
   "outputs": [],
   "source": [
    "using Symbolics, ForwardDiff"
   ]
  },
  {
   "cell_type": "markdown",
   "id": "7750dff6",
   "metadata": {},
   "source": [
    "Symbolic expressions => `Symbolics.jacobian`"
   ]
  },
  {
   "cell_type": "code",
   "execution_count": 4,
   "id": "bf9f19ba",
   "metadata": {},
   "outputs": [
    {
     "data": {
      "text/latex": [
       "$$ \\begin{equation}\n",
       "\\left[\n",
       "\\begin{array}{cc}\n",
       "\\mathtt{x2}^{2} & 2 \\mathtt{x1} \\mathtt{x2} \\\\\n",
       "3 \\sin^{2}\\left( \\mathtt{x1} \\right) \\mathtt{x2} \\cos\\left( \\mathtt{x1} \\right) & \\sin^{3}\\left( \\mathtt{x1} \\right) \\\\\n",
       "8 \\mathtt{x1} & 2 \\left( 3 + \\mathtt{x2} \\right) \\\\\n",
       "\\end{array}\n",
       "\\right]\n",
       "\\end{equation}\n",
       " $$"
      ],
      "text/plain": [
       "3×2 Matrix{Num}:\n",
       "                    x2^2     2x1*x2\n",
       " 3x2*cos(x1)*(sin(x1)^2)  sin(x1)^3\n",
       "                     8x1  2(3 + x2)"
      ]
     },
     "metadata": {},
     "output_type": "display_data"
    },
    {
     "name": "stdout",
     "output_type": "stream",
     "text": [
      "(a) \n",
      "Num[x2^2 2x1*x2; 3x2*cos(x1)*(sin(x1)^2) sin(x1)^3; 8x1 2(3 + x2)]\n",
      " \n"
     ]
    }
   ],
   "source": [
    "# define variables\n",
    "@variables x1 x2\n",
    "# another way => @variables x[1:2] , then use x[1], x[2], and [x[1], x[2]] for [x1, x2]\n",
    "\n",
    "fa = [x1 * (x2)^2; x2*( sin(x1) )^3 + 11; 4*(x1)^2 + ( x2 +3 )^2]\n",
    "#display(fa)\n",
    "\n",
    "Ja = Symbolics.jacobian(fa, [x1, x2])\n",
    "println(\"(a) \")\n",
    "display(Ja)\n",
    "println(Ja)\n",
    "println(\" \")"
   ]
  },
  {
   "cell_type": "markdown",
   "id": "17064a81",
   "metadata": {},
   "source": [
    "Numerical functions\n",
    " => `ForwardDiff.jacobian`"
   ]
  },
  {
   "cell_type": "code",
   "execution_count": 7,
   "id": "1cc65f8f",
   "metadata": {},
   "outputs": [
    {
     "data": {
      "text/plain": [
       "3×2 Matrix{Float64}:\n",
       "  1.0       5.2915\n",
       " -0.597294  0.107695\n",
       " 21.166     8.0"
      ]
     },
     "metadata": {},
     "output_type": "display_data"
    }
   ],
   "source": [
    "x0 = [sqrt(7); 1.0]\n",
    "# Build a numerical function from the symbolic expression\n",
    "fa_num = build_function(fa, [x1,x2])\n",
    "fa_num = eval(fa_num[1])\n",
    "# Compute the Jacobian of the new function at the test point\n",
    "Jaca = ForwardDiff.jacobian(fa_num, x0)\n",
    "display(Jaca)"
   ]
  },
  {
   "cell_type": "markdown",
   "id": "0e189533",
   "metadata": {},
   "source": [
    "When all you want is the Jacobian at a point, then it's\n",
    "easier to use ForwardDiff instead of creating a Symbolic\n",
    "function, differentiating it, and finally, evaluating it."
   ]
  },
  {
   "cell_type": "code",
   "execution_count": 21,
   "id": "8fe21209",
   "metadata": {},
   "outputs": [
    {
     "data": {
      "text/plain": [
       "2×3 Matrix{Float64}:\n",
       " -38.2038     -19.1019  13.9128\n",
       "   0.0240964    0.0      1.3012"
      ]
     },
     "metadata": {},
     "output_type": "display_data"
    }
   ],
   "source": [
    "F(x) = [\n",
    "    exp(x[3] * sin(x[1] * x[2])), \n",
    "    log(1 + x[1]^2 + x[3]^4)\n",
    "]\n",
    "\n",
    "x0 = [1.0, 2.0, 3.0]  # Ensure `x0` contains floats\n",
    "\n",
    "J_F = ForwardDiff.jacobian(F, x0)"
   ]
  },
  {
   "cell_type": "markdown",
   "id": "72bf9bef",
   "metadata": {},
   "source": [
    "## **Gradient**"
   ]
  },
  {
   "cell_type": "markdown",
   "id": "bef891bc",
   "metadata": {},
   "source": [
    "Symbolic expressions => `Symbolics.gradient`"
   ]
  },
  {
   "cell_type": "code",
   "execution_count": 12,
   "id": "52226f14",
   "metadata": {},
   "outputs": [
    {
     "name": "stdout",
     "output_type": "stream",
     "text": [
      "f = x[1]*cos(x[2])\n",
      "grad_f = Num[cos(x[2]), -x[1]*sin(x[2])]\n"
     ]
    },
    {
     "data": {
      "text/latex": [
       "$$ \\begin{equation}\n",
       "\\left[\n",
       "\\begin{array}{c}\n",
       "\\cos\\left( x_{2} \\right) \\\\\n",
       " - x_{1} \\sin\\left( x_{2} \\right) \\\\\n",
       "\\end{array}\n",
       "\\right]\n",
       "\\end{equation}\n",
       " $$"
      ],
      "text/plain": [
       "2-element Vector{Num}:\n",
       "       cos(x[2])\n",
       " -x[1]*sin(x[2])"
      ]
     },
     "metadata": {},
     "output_type": "display_data"
    }
   ],
   "source": [
    "# define variables\n",
    "@variables x[1:2]\n",
    "\n",
    "f = x[1] * cos(x[2])\n",
    "grad_f = Symbolics.gradient(f,[x[1], x[2]])\n",
    "\n",
    "@show f\n",
    "@show grad_f"
   ]
  },
  {
   "cell_type": "markdown",
   "id": "e7ae0601",
   "metadata": {},
   "source": [
    "Numerical functions => `ForwardDiff.gradient` "
   ]
  },
  {
   "cell_type": "code",
   "execution_count": 16,
   "id": "66c38898",
   "metadata": {},
   "outputs": [
    {
     "data": {
      "text/plain": [
       "2-element Vector{Float64}:\n",
       "  0.7071067811865476\n",
       " -1.414213562373095"
      ]
     },
     "metadata": {},
     "output_type": "display_data"
    }
   ],
   "source": [
    "x0 = [2; pi/4]\n",
    "f_num = build_function(f , x)\n",
    "f_num = eval(f_num)\n",
    "\n",
    "Grad_f_num= ForwardDiff.gradient(f_num, x0)\n",
    "display(Grad_f_num)"
   ]
  },
  {
   "cell_type": "markdown",
   "id": "4e5dccdd",
   "metadata": {},
   "source": [
    "Total Derivative and Chain rule"
   ]
  },
  {
   "cell_type": "code",
   "execution_count": 17,
   "id": "165727cf",
   "metadata": {},
   "outputs": [
    {
     "data": {
      "text/plain": [
       "deriv (generic function with 1 method)"
      ]
     },
     "metadata": {},
     "output_type": "display_data"
    }
   ],
   "source": [
    "# helper function\n",
    "function deriv(f, x)\n",
    "    return expand_derivatives.(Symbolics.Differential(x)(f))\n",
    "end"
   ]
  },
  {
   "cell_type": "code",
   "execution_count": 18,
   "id": "0a9f33c7",
   "metadata": {},
   "outputs": [
    {
     "data": {
      "text/latex": [
       "$$ \\begin{equation}\n",
       "2 t \\sin\\left( t^{3} \\right) + 3 t^{4} \\cos\\left( t^{3} \\right)\n",
       "\\end{equation}\n",
       " $$"
      ],
      "text/plain": [
       "2t*sin(t^3) + 3(t^4)*cos(t^3)"
      ]
     },
     "metadata": {},
     "output_type": "display_data"
    }
   ],
   "source": [
    "# define variables\n",
    "@variables x1, x2, t\n",
    "\n",
    "f = x1*sin(x2)\n",
    "\n",
    "# Compute the Jacobian of f with respect to x1, x2\n",
    "Jac = Symbolics.jacobian([f], [x1, x2])\n",
    "\n",
    "# Define the functions x1(t), x2(t)\n",
    "x1_def = t^2\n",
    "x2_def = t^3\n",
    "\n",
    "# Compute the derivatives of x1 and x2\n",
    "dx_dt = [deriv(x1_def, t), deriv(x2_def, t)]\n",
    "\n",
    "# Total derivative of f using chain rule\n",
    "df_dt_chain = Jac * dx_dt\n",
    "df_dt = substitute(df_dt_chain, Dict(x1 => x1_def, x2 => x2_def))\n",
    "\n",
    "# The result of df_dt_chain = Jac * derivatives is a 1 x 1 column vector\n",
    "df_dt = Symbolics.simplify(df_dt[1],expand=true) # extract scalar\n",
    "# df_dt = Symbolics.simplify.(df_dt,expand=true) # can also use broadcasting\n"
   ]
  }
 ],
 "metadata": {
  "kernelspec": {
   "display_name": "Julia 1.10.5",
   "language": "julia",
   "name": "julia-1.10"
  },
  "language_info": {
   "file_extension": ".jl",
   "mimetype": "application/julia",
   "name": "julia",
   "version": "1.10.5"
  }
 },
 "nbformat": 4,
 "nbformat_minor": 5
}
