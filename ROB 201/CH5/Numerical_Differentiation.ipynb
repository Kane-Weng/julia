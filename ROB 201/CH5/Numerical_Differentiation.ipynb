{
 "cells": [
  {
   "cell_type": "markdown",
   "id": "d8a285a4",
   "metadata": {},
   "source": [
    "### Find the derivative $\\frac{d g}{d x}$ of the function \n",
    "$$g(x) = x^3cos(x) + x^2sin(x)^2 + log(3x)$$"
   ]
  },
  {
   "cell_type": "markdown",
   "id": "2316117d",
   "metadata": {},
   "source": [
    "Packages used: \n",
    "<span style=\"color:yellow; background-color:green\">FiniteDiff, ForwardDiff</span>"
   ]
  },
  {
   "cell_type": "code",
   "execution_count": 2,
   "id": "55a6256e",
   "metadata": {},
   "outputs": [],
   "source": [
    "using FiniteDiff, ForwardDiff"
   ]
  },
  {
   "cell_type": "code",
   "execution_count": 3,
   "id": "c56eb6f2",
   "metadata": {},
   "outputs": [
    {
     "name": "stdout",
     "output_type": "stream",
     "text": [
      "Using FiniteDiff: 3.038475322499568\n",
      "Using ForwardDiff: 3.0384753223601586\n"
     ]
    }
   ],
   "source": [
    "g(x) = x^3*cos(x) + x^2*sin(x)^2 + log(3x)\n",
    "\n",
    "val = FiniteDiff.finite_difference_derivative(g, 0.5)\n",
    "println(\"Using FiniteDiff: $val\")\n",
    "\n",
    "val2 = ForwardDiff.derivative(g, 0.5)\n",
    "println(\"Using ForwardDiff: $val2\")"
   ]
  }
 ],
 "metadata": {
  "kernelspec": {
   "display_name": "Julia 1.10.5",
   "language": "julia",
   "name": "julia-1.10"
  },
  "language_info": {
   "file_extension": ".jl",
   "mimetype": "application/julia",
   "name": "julia",
   "version": "1.10.5"
  }
 },
 "nbformat": 4,
 "nbformat_minor": 5
}
