{
 "cells": [
  {
   "cell_type": "markdown",
   "id": "f08dc597",
   "metadata": {},
   "source": [
    "## Find the derivative $\\frac{d f}{d x}$ of the function \n",
    "$$f(x) = x^3cos(x) + x^2sin(x)^2 + log(3x)$$ "
   ]
  },
  {
   "cell_type": "markdown",
   "id": "4024f985",
   "metadata": {},
   "source": [
    "Packages used: \n",
    "<span style=\"color:yellow; background-color:green\">Symbolics, Latexify</span>"
   ]
  },
  {
   "cell_type": "code",
   "execution_count": 1,
   "id": "403eab6b",
   "metadata": {},
   "outputs": [],
   "source": [
    "using Symbolics, Latexify"
   ]
  },
  {
   "cell_type": "markdown",
   "id": "28e31d85",
   "metadata": {},
   "source": [
    "### **Symbolic Expressions**\n",
    "\n",
    "- `@variable x` ⇒ Declares a symbolic variable `x` for use in expressions.\n",
    "- `Differential(x)(f)` ⇒ Represents the derivative of a function `f` with respect to the variable `x`.\n",
    "- `expand_derivatives(df)` ⇒ Expands the derivatives in a symbolic expression, showing them in full form.\n",
    "- `simplify()` ⇒ Simplifies a symbolic expression, reducing it to a more concise form."
   ]
  },
  {
   "cell_type": "code",
   "execution_count": 2,
   "id": "b799ead5",
   "metadata": {},
   "outputs": [
    {
     "data": {
      "text/latex": [
       "$$ \\begin{equation}\n",
       "\\log\\left( 3 x \\right) + x^{3} \\cos\\left( x \\right) + \\sin^{2}\\left( x \\right) x^{2}\n",
       "\\end{equation}\n",
       " $$"
      ],
      "text/plain": [
       "log(3x) + (x^3)*cos(x) + (x^2)*(sin(x)^2)"
      ]
     },
     "metadata": {},
     "output_type": "display_data"
    },
    {
     "data": {
      "text/latex": [
       "$$ \\begin{equation}\n",
       "\\frac{1}{x} + 3 x^{2} \\cos\\left( x \\right) + x^{2} \\sin\\left( 2 x \\right) + 2 \\sin^{2}\\left( x \\right) x - x^{3} \\sin\\left( x \\right)\n",
       "\\end{equation}\n",
       " $$"
      ],
      "text/plain": [
       "1 / x + 3(x^2)*cos(x) + (x^2)*sin(2x) + 2x*(sin(x)^2) - (x^3)*sin(x)"
      ]
     },
     "metadata": {},
     "output_type": "display_data"
    }
   ],
   "source": [
    "# Create custom function to make differentiation convenient\n",
    "function deriv(f::Symbolics.Num, x::Symbolics.Num)\n",
    "    # expand_derivatives => show the result of differentiation\n",
    "    df = Differential(x)(f)\n",
    "    return simplify(expand_derivatives(df))\n",
    "end\n",
    "\n",
    "# Makes x a symbolic variable\n",
    "@variables x\n",
    "\n",
    "# just f\n",
    "f = x^3*cos(x) + x^2*sin(x)^2 + log(3x)\n",
    "display(f)\n",
    "\n",
    "# Differential(x)(f) => show d/dx (f)\n",
    "Differential(x)(f)\n",
    "\n",
    "dfdx = deriv(f,x)\n",
    "display(dfdx)"
   ]
  },
  {
   "cell_type": "markdown",
   "id": "fbb553f0",
   "metadata": {},
   "source": [
    "### **Evaluation Expression**\n",
    "\n",
    "- `Dict(x => x0)` ⇒ A mapping that replaces the variable `x` with the value `x0`.\n",
    "- `substitute(f, (Dict(x => x0)))` ⇒ Returns a `Num` type expression with the symbolic variable `x` replaced by the value `x0`.\n",
    "- `value(...)` ⇒ Converts the symbolic expression into a `Float64` value after substitution.\n",
    "- `get_variables()` ⇒ Extracts the symbolic variables from an expression (e.g., `f`).\n",
    "- `first()` ⇒ Returns the first element of a collection (such as a list or array)."
   ]
  },
  {
   "cell_type": "code",
   "execution_count": 3,
   "id": "9c61ac8a",
   "metadata": {},
   "outputs": [
    {
     "data": {
      "text/plain": [
       "3.0384753223601586"
      ]
     },
     "metadata": {},
     "output_type": "display_data"
    }
   ],
   "source": [
    "# Let f be a symbolic expression (i.e., function of @variables x)\n",
    "function evaluate(f::Any, x0::Float64)\n",
    "    vars = Symbolics.get_variables(f)\n",
    "    return Symbolics.value(substitute(f, (Dict(first(vars) => x0))))\n",
    "end\n",
    "\n",
    "evaluate(dfdx, .5)"
   ]
  },
  {
   "cell_type": "markdown",
   "id": "c39e80e3",
   "metadata": {},
   "source": [
    "### **Vector version of `deriv` and `evaluate2`**\n",
    "\n",
    "HELPER FUNCTIONS\n",
    "- `hcat(...)` ⇒ Horizontally concatenates values into a matrix or array.\n",
    "- `Ref(...)` ⇒ Wraps a value in a reference to avoid broadcasting issues. Useful when applying the same dictionary to multiple expressions.\n",
    "- `Dict(...)` ⇒ Creates a dictionary mapping symbolic variables to their numerical values.\n",
    "- `zip(a, b)` ⇒ Pairs elements from two collections (like variables and values) into key-value tuples.\n",
    "- `vcat(...)` ⇒ Vertically concatenates arrays — used to flatten nested arrays (e.g., from a list of vectors).\n",
    "- `unique(...)` ⇒ Removes duplicates from a list, ensuring each variable only appears once."
   ]
  },
  {
   "cell_type": "code",
   "execution_count": 37,
   "id": "2fe79f7d",
   "metadata": {},
   "outputs": [
    {
     "data": {
      "text/plain": [
       "evaluate (generic function with 2 methods)"
      ]
     },
     "metadata": {},
     "output_type": "display_data"
    }
   ],
   "source": [
    "function deriv(f::Vector{Symbolics.Num}, x::Symbolics.Num)\n",
    "    df = []\n",
    "    for component in f\n",
    "        df_comp = Differential(x)(component)\n",
    "        push!(df, simplify(expand_derivatives(df_comp)))\n",
    "    end\n",
    "    return df\n",
    "end\n",
    "\n",
    "function evaluate(f::Vector{Num}, x0::Vector{Float64})\n",
    "    vars = unique(vcat(Symbolics.get_variables.(f)...))\n",
    "    subs = Ref(Dict(zip(vars, x0)))\n",
    "    return (Symbolics.value.(substitute.(f, subs)))\n",
    "end\n",
    "\n",
    "# function evaluate(f::Vector{Num}, x0::Vector{Float64})\n",
    "#     vars = Symbolics.get_variables(f[1])\n",
    "#     var = first(vars)\n",
    "#     return hcat([(Symbolics.value.(substitute.(f, Ref(var => x_val)))) for x_val in x0]...)\n",
    "# end\n"
   ]
  },
  {
   "cell_type": "code",
   "execution_count": 38,
   "id": "841fe8ec",
   "metadata": {},
   "outputs": [
    {
     "data": {
      "text/latex": [
       "$$ \\begin{equation}\n",
       "\\left[\n",
       "\\begin{array}{c}\n",
       "\\mathtt{x2}^{2} \\\\\n",
       "3 \\sin^{2}\\left( \\mathtt{x1} \\right) \\mathtt{x2} \\cos\\left( \\mathtt{x1} \\right) \\\\\n",
       "8 \\mathtt{x1} \\\\\n",
       "\\end{array}\n",
       "\\right]\n",
       "\\end{equation}\n",
       " $$"
      ],
      "text/plain": [
       "3-element Vector{Num}:\n",
       "                    x2^2\n",
       " 3x2*cos(x1)*(sin(x1)^2)\n",
       "                     8x1"
      ]
     },
     "metadata": {},
     "output_type": "display_data"
    },
    {
     "data": {
      "text/latex": [
       "$$ \\begin{equation}\n",
       "\\left[\n",
       "\\begin{array}{c}\n",
       "2 \\mathtt{x1} \\mathtt{x2} \\\\\n",
       "\\sin^{3}\\left( \\mathtt{x1} \\right) \\\\\n",
       "2 \\left( 3 + \\mathtt{x2} \\right) \\\\\n",
       "\\end{array}\n",
       "\\right]\n",
       "\\end{equation}\n",
       " $$"
      ],
      "text/plain": [
       "3-element Vector{Num}:\n",
       "    2x1*x2\n",
       " sin(x1)^3\n",
       " 2(3 + x2)"
      ]
     },
     "metadata": {},
     "output_type": "display_data"
    },
    {
     "data": {
      "text/plain": [
       "3-element Vector{Float64}:\n",
       " 0.0\n",
       " 0.0\n",
       " 0.0"
      ]
     },
     "metadata": {},
     "output_type": "display_data"
    },
    {
     "data": {
      "text/plain": [
       "3-element Vector{Float64}:\n",
       " 0.0\n",
       " 0.0\n",
       " 6.0"
      ]
     },
     "metadata": {},
     "output_type": "display_data"
    }
   ],
   "source": [
    "@variables x1 x2\n",
    "fc = [x1 * (x2)^2; x2*( sin(x1) )^3 + 11; 4*(x1)^2 + ( x2 +3 )^2]\n",
    "x0 = [0.0; 0.0]\n",
    "\n",
    "dfcdx1 = deriv.(fc, x1)\n",
    "display(dfcdx1)\n",
    "dfcdx2 = deriv.(fc, x2)\n",
    "display(dfcdx2)\n",
    "\n",
    "result1 = evaluate(dfcdx1, x0) \n",
    "result2 = evaluate(dfcdx2, x0)\n",
    "display(result1)\n",
    "display(result2)"
   ]
  }
 ],
 "metadata": {
  "kernelspec": {
   "display_name": "Julia 1.10.5",
   "language": "julia",
   "name": "julia-1.10"
  },
  "language_info": {
   "file_extension": ".jl",
   "mimetype": "application/julia",
   "name": "julia",
   "version": "1.10.5"
  }
 },
 "nbformat": 4,
 "nbformat_minor": 5
}
