{
 "cells": [
  {
   "cell_type": "markdown",
   "id": "4d25d7bb",
   "metadata": {},
   "source": [
    "**Newton’s Method & Newton-Raphson**\n",
    "\n"
   ]
  },
  {
   "cell_type": "code",
   "execution_count": 1,
   "id": "ddaf0d67",
   "metadata": {},
   "outputs": [
    {
     "data": {
      "text/plain": [
       "backwardsub (generic function with 1 method)"
      ]
     },
     "metadata": {},
     "output_type": "display_data"
    }
   ],
   "source": [
    "#=\n",
    "Run this cell so you can use the necessary package(s)\n",
    "and provided functions\n",
    "=#\n",
    "using LinearAlgebra, Random, Plots\n",
    "\n",
    "function backwardsub(U, b)\n",
    "    n = length(b)\n",
    "    x = Vector{Float64}(undef, n) \n",
    "    x[n] = b[n]/U[n,n]\n",
    "    for i in n-1:-1:1\n",
    "        x[i]=(b[i]- (U[i,(i+1):n])' *x[(i+1):n] )/U[i,i]\n",
    "    end\n",
    "    return x\n",
    "end"
   ]
  },
  {
   "cell_type": "markdown",
   "id": "a569e3de",
   "metadata": {},
   "source": [
    "\n",
    "\n",
    "---\n",
    "\n"
   ]
  },
  {
   "cell_type": "markdown",
   "id": "fce81ce3",
   "metadata": {},
   "source": [
    "### Problem 1\n",
    "\n"
   ]
  },
  {
   "cell_type": "markdown",
   "id": "f45e644c",
   "metadata": {},
   "source": [
    "Build a function named `newtonsAlgorithm(f, x0, h, diffType, aTol=1e-12)` that performs Newton’s Method where:\n",
    "\n",
    "`f`: a function to work on\n",
    "\n",
    "`x0`: current estimate of the solution\n",
    "\n",
    "`h`: a small value / perturbation\n",
    "\n",
    "`diffType`: a character that indicates symmetric, forward or backward approximation ('s', 'f', or 'b')\n",
    "\n",
    "`aTol`: a tolerance\n",
    "\n"
   ]
  },
  {
   "cell_type": "code",
   "execution_count": 2,
   "id": "ff2d9f3f",
   "metadata": {},
   "outputs": [
    {
     "data": {
      "text/plain": [
       "newtonsAlgorithm (generic function with 1 method)"
      ]
     },
     "metadata": {},
     "output_type": "display_data"
    }
   ],
   "source": [
    "#Code Skeleton\n",
    "\n",
    "function newtonsAlgorithm(f, x0, h, diffType, aTol)\n",
    " flag = 0; # to keep track if we are close enough or not\n",
    " k = 0; #keeps track of iterations\n",
    " x = x0;\n",
    " \n",
    " while (flag == 0) && (k<1E4)\n",
    " \n",
    " #=\n",
    " YOUR CODE HERE\n",
    " compute df depending on which \n",
    " type of difference was indicated\n",
    " =#\n",
    " \n",
    " @show x = x - f(x)/df\n",
    "\n",
    " #=\n",
    " YOUR CODE HERE\n",
    " check to see if f(x) is close enough to zero, \n",
    " based on the tolerance value input\n",
    " if so, change the flag value to a nonzero value\n",
    " =#\n",
    " \n",
    " k += 1\n",
    " end\n",
    " println(\"Iterated $k times\")\n",
    " return x\n",
    "end "
   ]
  },
  {
   "cell_type": "code",
   "execution_count": 3,
   "id": "6e48a7cc",
   "metadata": {},
   "outputs": [
    {
     "data": {
      "text/plain": [
       "newtonsAlgorithm (generic function with 1 method)"
      ]
     },
     "metadata": {},
     "output_type": "display_data"
    }
   ],
   "source": [
    "# YOUR ANSWER HERE\n",
    "function newtonsAlgorithm(f, x0, h, diffType, aTol)\n",
    "    flag = 0; # to keep track if we are close enough or not\n",
    "    k = 0; #keeps track of iterations\n",
    "    x = x0;\n",
    "    \n",
    "    while (flag == 0) && (k<1E4)\n",
    "    \n",
    "    #=\n",
    "    YOUR CODE HERE\n",
    "    compute df depending on which \n",
    "    type of difference was indicated\n",
    "    =#\n",
    "        if diffType == 's'\n",
    "            df = (f(x0+h)-f(x0-h))/(2*h)\n",
    "        elseif diffType == 'f'\n",
    "            df = (f(x0+h)-f(x0))/(h)\n",
    "        elseif diffType == 'b'\n",
    "            df = (f(x0)-f(x0-h))/(h)\n",
    "        end\n",
    "    \n",
    "        @show x = x - f(x)/df\n",
    "   \n",
    "    #=\n",
    "    YOUR CODE HERE\n",
    "    check to see if f(x) is close enough to zero, \n",
    "    based on the tolerance value input\n",
    "    if so, change the flag value to a nonzero value\n",
    "    =#\n",
    "        if abs(f(x)) < aTol \n",
    "            flag = 1\n",
    "        end\n",
    "        k += 1\n",
    "    end\n",
    "    println(\"Iterated $k times\")\n",
    "    return x\n",
    "end "
   ]
  },
  {
   "cell_type": "markdown",
   "id": "8303a20e",
   "metadata": {},
   "source": [
    "### Problem 2\n",
    "\n"
   ]
  },
  {
   "cell_type": "markdown",
   "id": "dcabf140",
   "metadata": {},
   "source": [
    "Build a function, `myJacobian(F,h,x0)`, that creates the Jacobian matrix for any vectorized function, `F`, with the small perturbation, `h`, and the point at which we’d like to compute the Jacobian, `x0`. Use the **symmetric difference** approximation.\n",
    "\n"
   ]
  },
  {
   "cell_type": "code",
   "execution_count": 4,
   "id": "fd28616a",
   "metadata": {},
   "outputs": [
    {
     "data": {
      "text/plain": [
       "myJacobian (generic function with 1 method)"
      ]
     },
     "metadata": {},
     "output_type": "display_data"
    }
   ],
   "source": [
    "#Code Skeleton\n",
    "\n",
    "function myJacobian(F, h, x0)\n",
    "    #assume that x0 and F are size compatible\n",
    "    m = length(x0)\n",
    "    n = length(F(x0))\n",
    "    dfdx = Array{Float64}(undef, n, m) #blank array of the correct size\n",
    "    Id = zeros(m,m)+I\n",
    "    \n",
    "    for j in 1:m\n",
    "    #=\n",
    "    YOUR CODE HERE\n",
    "    compute and store each COLUMN of dfdx\n",
    "    see the resources at the top of this file\n",
    "    for how to compute a unit vector\n",
    "    =#\n",
    "    end\n",
    "    \n",
    "    return dfdx\n",
    "end"
   ]
  },
  {
   "cell_type": "code",
   "execution_count": 5,
   "id": "3604bff6",
   "metadata": {},
   "outputs": [
    {
     "name": "stdout",
     "output_type": "stream",
     "text": [
      "Brute Force Solution\n",
      "3×3 Matrix{Float64}:\n",
      " 2.0   6.28319  3.14159\n",
      " 0.0   3.14172  0.0\n",
      " 1.0  -3.14159  1.5708\n",
      "\n",
      "\n",
      " Your solution:\n",
      "3×3 Matrix{Float64}:\n",
      " 2.0   6.28319  3.14159\n",
      " 0.0   3.14172  0.0\n",
      " 1.0  -3.14159  1.5708"
     ]
    }
   ],
   "source": [
    "# YOUR ANSWER HERE\n",
    "function myJacobian(F, h, x0)\n",
    "    #assume that x0 and F are size compatible\n",
    "    m = length(x0)\n",
    "    n = length(F(x0))\n",
    "    dfdx = Array{Float64}(undef, n, m) #blank array of the correct size\n",
    "    Id = zeros(m,m)+I\n",
    "    \n",
    "    for j in 1:m\n",
    "    #=\n",
    "    YOUR CODE HERE\n",
    "    compute and store each COLUMN of dfdx\n",
    "    see the resources at the top of this file\n",
    "    for how to compute a unit vector\n",
    "    =#\n",
    "        dfdx[:,j] = (F(x0+h*Id[:,j])-F(x0-h*Id[:,j]))/(2*h)\n",
    "    end\n",
    "    \n",
    "    return dfdx\n",
    "end\n",
    "##Brute Force Solution\n",
    "\n",
    "F(x1,x2,x3)=[x1*x2*x3; log(2+cos(x1)) + x2^x1; x1*x3/(1 + x2^2)]\n",
    "h=0.01\n",
    "x0=[pi;1.0;2.0]\n",
    "dfdx1 =(F(x0[1]+h,x0[2],x0[3])-F(x0[1]-h,x0[2],x0[3]))/(2*h)\n",
    "dfdx2 =(F(x0[1],x0[2]+h,x0[3])-F(x0[1],x0[2]-h,x0[3]))/(2*h)\n",
    "dfdx3 =(F(x0[1],x0[2],x0[3]+h)-F(x0[1],x0[2],x0[3]-h))/(2*h)\n",
    "dfdx_Ans=[dfdx1 dfdx2 dfdx3]\n",
    "println(\"Brute Force Solution\")\n",
    "show(stdout, \"text/plain\", dfdx_Ans)\n",
    "println(\"\\n\")\n",
    "\n",
    "##Your Solution\n",
    "\n",
    "#the function\n",
    "f(x1,x2,x3)=[x1*x2*x3; log(2+cos(x1)) + x2^x1; x1*x3/(1 + x2^2)]\n",
    "\n",
    "#the function \"vectorized\"\n",
    "fvect(x)=[x[1]*x[2]*x[3]; log(2+cos(x[1])) + x[2]^x[1]; x[1]*x[3]/(1 + x[2]^2)]\n",
    "\n",
    "#your function!\n",
    "ans2 = myJacobian(fvect, 0.01, [pi;1.0;2.0])\n",
    "println(\"\\n Your solution:\")\n",
    "show(stdout, \"text/plain\", ans2)\n",
    "@assert(isapprox(ans2, dfdx_Ans, atol=1e-4))"
   ]
  },
  {
   "cell_type": "markdown",
   "id": "84c18141",
   "metadata": {},
   "source": [
    "### Problem 3\n",
    "\n"
   ]
  },
  {
   "cell_type": "markdown",
   "id": "cc97075d",
   "metadata": {},
   "source": [
    "Build the Newton-Raphson algorithm using the `myJacobian()` function you just created. Name the function `newtonRaphson(F, x0, h, tol)` that returns the root in a variable, `x`. Use QR factorization.\n",
    "\n"
   ]
  },
  {
   "cell_type": "code",
   "execution_count": 6,
   "id": "a5718b32",
   "metadata": {},
   "outputs": [],
   "source": [
    "# YOUR ANSWER HERE\n",
    "function gram_schmidt(U)\n",
    "    nRowsU, nColsU = size(U)\n",
    "    V = Array{Float64,2}(undef, nRowsU, 0)\n",
    "  \n",
    "    for k = 1:nColsU \n",
    "      uk = U[:, k]\n",
    "      vk = copy(uk)\n",
    "        for i = 1:size(V,2)\n",
    "          vi = V[:,i]\n",
    "          vk = vk - ( dot(uk, vi)/dot(vi,vi) )*vi \n",
    "        end\n",
    "  \n",
    "      if norm(vk) > 1e-10\n",
    "        V = [V vk/norm(vk)] \n",
    "      end\n",
    "    end\n",
    "  \n",
    "    return V \n",
    "end\n",
    "\n",
    "struct QR\n",
    "    Q\n",
    "    R\n",
    "end\n",
    "\n",
    "function qrFact(A)\n",
    "    Q = gram_schmidt(A)\n",
    "    R = Q'*A\n",
    "    return QR(Q,R)\n",
    "end\n",
    "\n",
    "function newtonRaphson(F, x0, h , atol)\n",
    "    s = 1       # damped version if to prevent overshooting\n",
    "    xk = x0\n",
    "    Fxk = F(xk)\n",
    "    J = myJacobian(F,h,x0)\n",
    "    J_fac = qrFact(J)           # QRx = b, Rx = Q'b, let beta = Q'b (b = -Fxk)\n",
    "    Q = Matrix(J_fac.Q)\n",
    "    R = Matrix(J_fac.R)\n",
    "    while abs(norm(Fxk)) > atol\n",
    "        beta = Q'*(-Fxk)\n",
    "        del_x = backwardsub(R, beta)\n",
    "        xk = xk + s*del_x\n",
    "        Fxk = F(xk)\n",
    "    end\n",
    "    return xk\n",
    "end\n",
    "\n",
    "r(x) = [x[1]^3 + 4*x[2]^2 - 3; 3*x[2] - x[1]^2 + 2]\n",
    "xZero = [1.7, 8]\n",
    "ans6 = newtonRaphson(r, xZero, 0.01, 1E-9)\n",
    "@assert(isapprox(ans6, [1.4418070980660893; 0.02626923601125268], atol=1e-4))"
   ]
  }
 ],
 "metadata": {
  "authors": [
   "Jamie L Budd"
  ],
  "kernelspec": {
   "display_name": "Julia 1.10.5",
   "language": "julia",
   "name": "julia-1.10"
  },
  "language_info": {
   "file_extension": ".jl",
   "mimetype": "application/julia",
   "name": "julia",
   "version": "1.10.5"
  }
 },
 "nbformat": 4,
 "nbformat_minor": 5
}
