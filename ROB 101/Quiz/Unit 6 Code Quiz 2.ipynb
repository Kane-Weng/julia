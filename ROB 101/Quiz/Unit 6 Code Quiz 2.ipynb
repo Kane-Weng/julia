{
 "cells": [
  {
   "cell_type": "code",
   "execution_count": 2,
   "id": "0fb5ffc6",
   "metadata": {},
   "outputs": [
    {
     "data": {
      "text/plain": [
       "forwardsub (generic function with 1 method)"
      ]
     },
     "metadata": {},
     "output_type": "display_data"
    }
   ],
   "source": [
    "#=\n",
    "Run this cell so you can use the necessary package(s)\n",
    "and provided functions\n",
    "=#\n",
    "\n",
    "using LinearAlgebra, Random, Plots\n",
    "\n",
    "function backwardsub(U, b)\n",
    "    n = length(b)\n",
    "    x = Vector{Float64}(undef, n) \n",
    "    x[n] = b[n]/U[n,n]\n",
    "    for i in n-1:-1:1\n",
    "        x[i]=(b[i]- (U[i,(i+1):n])' *x[(i+1):n] )/U[i,i]\n",
    "    end\n",
    "    return x\n",
    "end\n",
    "\n",
    "function forwardsub(L, b)\n",
    "    n = length(b)\n",
    "    x = Vector{Float64}(undef, n); \n",
    "    x[1] = b[1]/L[1,1] \n",
    "    for i = 2:n \n",
    "        x[i]=(b[i]- (L[i,1:i-1])' *x[1:i-1] )/L[i,i] \n",
    "    end\n",
    "    return x\n",
    "end"
   ]
  },
  {
   "cell_type": "code",
   "execution_count": 3,
   "id": "3c690908",
   "metadata": {},
   "outputs": [
    {
     "data": {
      "text/plain": [
       "gradHess (generic function with 1 method)"
      ]
     },
     "metadata": {},
     "output_type": "display_data"
    }
   ],
   "source": [
    "#Run me & read me!\n",
    "\n",
    "function gradHess(f,x0) \n",
    "    n=size(x0,1)\n",
    "    H=zeros(n,n) #matrix to hold the Hessian\n",
    "    grad1=zeros(1,n) #vector to hold the gradient\n",
    "    \n",
    "    Id=diagm(0=>fill(1., size(H,1))) # Another way to make an identity matrix\n",
    "    \n",
    "    delta=0.01\n",
    "    h=delta\n",
    "    \n",
    "    for i=1:n\n",
    "        grad1[i]=(f(x0+ h*Id[:,i]) -f(x0 -  h*Id[:,i]))[1]/(2*h)\n",
    "        for j=1:n\n",
    "            H[i,j]= (f(x0+ h*Id[:,i] + delta*Id[:,j]) \n",
    "                    - f(x0+  h*Id[:,i]-delta*Id[:,j]) \n",
    "                    - f(x0-  h*Id[:,i] + delta*Id[:,j])\n",
    "                    + f(x0- h*Id[:,i]-delta*Id[:,j]))[1]/(4*h*delta)\n",
    "        end\n",
    "    end\n",
    "    return  grad1, H\n",
    "end"
   ]
  },
  {
   "cell_type": "code",
   "execution_count": 4,
   "id": "76697d71",
   "metadata": {},
   "outputs": [
    {
     "name": "stdout",
     "output_type": "stream",
     "text": [
      "gradN is the gradient vector\n",
      "1×20 Matrix{Float64}:\n",
      " 64.4735  66.1955  59.5686  62.431  63.9542  68.5768  46.7627  68.8214  79.43  59.0365  75.9139  74.7611  61.2015  67.3749  97.0458  89.0346  104.819  75.5183  59.385  49.4603\n",
      " \n",
      " Hess is the Hessian\n",
      "20×20 Matrix{Float64}:\n",
      " 82.4927   17.8681  15.1615   14.9482   13.3876  19.2247   8.97361  19.4722  21.5064  11.6236  18.2139   19.1615  15.6989  19.2355  24.0181  24.0053   26.0827  17.5149  10.8437   11.7912\n",
      " 17.8681   77.1881  15.3837   17.6602   16.5884  18.178   13.2542   20.5596  22.2138  13.2045  20.6064   19.7203  13.7665  19.4991  21.1748  18.5585   23.2364  18.1261  19.3072   16.603\n",
      " 15.1615   15.3837  80.8402   12.2898   12.937   19.2018   8.88778  12.0637  19.3283  16.137   19.3201   19.4254  13.5332  14.8012  20.7244  22.0363   24.7264  16.9266  12.2871   12.8142\n",
      " 14.9482   17.6602  12.2898   75.2402   13.5157  17.7585   6.27503  16.7606  20.1902  12.5715  18.8279   16.867   11.7757  18.0904  31.0703  23.1486   28.2957  17.0342   8.12828   9.09421\n",
      " 13.3876   16.5884  12.937    13.5157   78.0188  18.5315  10.4549   20.3078  21.5247  16.2629  17.8927   15.3983  16.7009  19.7161  25.4464  24.841    28.2291  15.8242  13.128     9.856\n",
      " 19.2247   18.178   19.2018   17.7585   18.5315  82.478   12.4276   18.6635  21.7195  16.8448  21.5315   22.9233  15.1732  18.9746  22.7827  25.5502   23.5545  21.8775  16.6886   13.162\n",
      "  8.97361  13.2542   8.88778   6.27503  10.4549  12.4276  69.3916   12.471   15.8696  14.1355   9.60499  15.314   11.9022  12.484   19.0438  22.1525   20.7244  13.3384  11.1251    8.19025\n",
      " 19.4722   20.5596  12.0637   16.7606   20.3078  18.6635  12.471    80.3095  23.5181  12.9224  18.5411   21.9305  16.6542  17.2656  24.6686  21.4436   29.2247  21.2736  12.2039   15.3449\n",
      " 21.5064   22.2138  19.3283   20.1902   21.5247  21.7195  15.8696   23.5181  84.589   14.805   25.0392   22.3286  21.1192  20.5225  26.9912  22.9462   30.8682  25.9985  18.6683   15.4527\n",
      " 11.6236   13.2045  16.137    12.5715   16.2629  16.8448  14.1355   12.9224  14.805   75.5547  18.0548   17.7731  14.0536  13.5248  22.6417  17.0169   25.8062  18.9039  12.9769   12.1403\n",
      " 18.2139   20.6064  19.3201   18.8279   17.8927  21.5315   9.60499  18.5411  25.0392  18.0548  85.3428   20.0759  17.6303  19.3418  27.8637  27.0737   29.1699  20.939   20.5638   13.7922\n",
      " 19.1615   19.7203  19.4254   16.867    15.3983  22.9233  15.314    21.9305  22.3286  17.7731  20.0759   81.9506  14.9951  16.2373  29.0854  25.8662   28.5648  21.4963  16.7991   16.1144\n",
      " 15.6989   13.7665  13.5332   11.7757   16.7009  15.1732  11.9022   16.6542  21.1192  14.0536  17.6303   14.9951  75.8887  15.4413  22.1476  24.1238   23.8768  12.6666  13.6897    9.5587\n",
      " 19.2355   19.4991  14.8012   18.0904   19.7161  18.9746  12.484    17.2656  20.5225  13.5248  19.3418   16.2373  15.4413  76.5598  27.288   24.4107   26.1709  16.3796  14.9934   12.4436\n",
      " 24.0181   21.1748  20.7244   31.0703   25.4464  22.7827  19.0438   24.6686  26.9912  22.6417  27.8637   29.0854  22.1476  27.288   88.3733  23.9607   34.8825  27.979   25.9123   22.2415\n",
      " 24.0053   18.5585  22.0363   23.1486   24.841   25.5502  22.1525   21.4436  22.9462  17.0169  27.0737   25.8662  24.1238  24.4107  23.9607  88.2449   33.0606  27.8341  21.1744   19.568\n",
      " 26.0827   23.2364  24.7264   28.2957   28.2291  23.5545  20.7244   29.2247  30.8682  25.8062  29.1699   28.5648  23.8768  26.1709  34.8825  33.0606  102.238   30.666   26.6415   18.6192\n",
      " 17.5149   18.1261  16.9266   17.0342   15.8242  21.8775  13.3384   21.2736  25.9985  18.9039  20.939    21.4963  12.6666  16.3796  27.979   27.8341   30.666   87.1016  17.4968   14.0351\n",
      " 10.8437   19.3072  12.2871    8.12828  13.128   16.6886  11.1251   12.2039  18.6683  12.9769  20.5638   16.7991  13.6897  14.9934  25.9123  21.1744   26.6415  17.4968  74.4614   13.0623\n",
      " 11.7912   16.603   12.8142    9.09421   9.856   13.162    8.19025  15.3449  15.4527  12.1403  13.7922   16.1144   9.5587  12.4436  22.2415  19.568    18.6192  14.0351  13.0623   75.6503"
     ]
    }
   ],
   "source": [
    "#=\n",
    "I am creating a super complicated function to show you\n",
    "how efficiently gradHess() can compute the gradient \n",
    "and the Hessian.\n",
    "=#\n",
    "\n",
    "Random.seed!(4321);\n",
    "n=20;\n",
    "A2=rand(n,n);\n",
    "A4=rand(n,n);\n",
    "f2(x)= x'*A2*x + x'*x*x'*A4*x;\n",
    "x0=rand(n,1)\n",
    "\n",
    "# READ ME!!!\n",
    "# Here is an example using the function gradHess  \n",
    "\n",
    "(gradN, Hess) =gradHess(f2, x0)\n",
    "\n",
    "println(\"gradN is the gradient vector\")\n",
    "\n",
    "#This is a row vector!\n",
    "show(stdout, \"text/plain\", gradN) \n",
    "\n",
    "println(\"\\n \\n Hess is the Hessian\")\n",
    "show(stdout, \"text/plain\", Hess)"
   ]
  },
  {
   "cell_type": "markdown",
   "id": "af765e68",
   "metadata": {},
   "source": [
    "### Your Task\n",
    "\n"
   ]
  },
  {
   "cell_type": "markdown",
   "id": "c3af9657",
   "metadata": {},
   "source": [
    "Use `gradHess(f,x0)` to minimize a function `g(x)` where x \\in \\mathbb{R}^{20}. Your minimizer should be named `x_star` and your minimum value should be named `gMin`. **Do not write a function, just build a while loop.**\n",
    "\n"
   ]
  },
  {
   "cell_type": "markdown",
   "id": "b9f02a6a",
   "metadata": {},
   "source": [
    "You are allowed to use the `</code> operator.`\n",
    "\n"
   ]
  },
  {
   "cell_type": "code",
   "execution_count": 5,
   "id": "f760a35f",
   "metadata": {},
   "outputs": [
    {
     "data": {
      "text/plain": [
       "1.0e-6"
      ]
     },
     "metadata": {},
     "output_type": "display_data"
    }
   ],
   "source": [
    "#= \n",
    "this cell declares g(x), a function that \n",
    "depends on 20 variables and xk for k=0, \n",
    "which you are to use as your starting point\n",
    "=#\n",
    "n=20 \n",
    "\n",
    "Random.seed!(4321); \n",
    "A2=rand(n,n) \n",
    "A4=rand(n,n) \n",
    "\n",
    "g(x)= -x'*A2'*A2*x + x'*x*x'*A4'*A4*x\n",
    "k=0\n",
    "xk=100*rand(n,1)-200*rand(n,1)\n",
    "\n",
    "tol = 1e-6"
   ]
  },
  {
   "cell_type": "code",
   "execution_count": 8,
   "id": "9282afce",
   "metadata": {},
   "outputs": [],
   "source": [
    "# YOUR ANSWER HERE\n",
    "(gradN, Hess) =gradHess(g, xk)\n",
    "while abs(norm(gradN)) > tol\n",
    "    F = lu(Hess)\n",
    "    y = forwardsub(F.L, F.P * (-gradN)')\n",
    "    delta_x = backwardsub(F.U, y)\n",
    "    xk = xk + delta_x\n",
    "    (gradN, Hess) =gradHess(g, xk)\n",
    "end\n",
    "\n",
    "x_star = xk\n",
    "gMin = g(x_star)\n",
    "#Checking your minimum\n",
    "@assert(isapprox(gMin[1], -25.779955962689826, atol = 1E-4))\n",
    "#checking your x vector\n",
    "x_ans = [-0.12476569386937346\n",
    " -0.18835490238291708\n",
    " -0.10405520076793454\n",
    " -0.1474839335609496\n",
    " -0.0850119225231768\n",
    " -0.062197653846722586\n",
    " -0.1603093008601981\n",
    " -0.13992352400773628\n",
    " -0.1343513953084501\n",
    " -0.22533654803008207\n",
    " -0.17944614988326335\n",
    " -0.19649613612403263\n",
    " -0.21012326594871955\n",
    " -0.11542489619574255\n",
    " -0.32149679187873076\n",
    " -0.09496475719863778\n",
    " -0.17356879734348407\n",
    " -0.11054979069631582\n",
    " -0.12179310436225206\n",
    " -0.2042537017066612]\n",
    "@assert(isapprox(x_star, x_ans, atol = 1E-4))"
   ]
  }
 ],
 "metadata": {
  "authors": [
   "Jamie L Budd"
  ],
  "kernelspec": {
   "display_name": "Julia 1.10.5",
   "language": "julia",
   "name": "julia-1.10"
  },
  "language_info": {
   "file_extension": ".jl",
   "mimetype": "application/julia",
   "name": "julia",
   "version": "1.10.5"
  }
 },
 "nbformat": 4,
 "nbformat_minor": 5
}
