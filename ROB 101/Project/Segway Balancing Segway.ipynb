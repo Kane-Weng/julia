{
 "cells": [
  {
   "cell_type": "markdown",
   "id": "982877e8",
   "metadata": {},
   "source": [
    "ROB 101: Computational Linear Algebra | University of Michigan, Department of Robotics\n",
    "\n"
   ]
  },
  {
   "cell_type": "markdown",
   "id": "bc4d15d9",
   "metadata": {},
   "source": [
    "Please read carefully. Ask questions if you are unsure.\n",
    "-------------------------------------------------------\n",
    "\n"
   ]
  },
  {
   "cell_type": "markdown",
   "id": "cf99e058",
   "metadata": {},
   "source": [
    "**We use an auto-grader to check your work. If you invent new notation (such as, new variable names) for yourself, you will mess up the auto-grader and receive no points. We will NOT do manual regrades because of failure to use the requested variable names.**\n",
    "\n"
   ]
  },
  {
   "cell_type": "markdown",
   "id": "3cf2718d",
   "metadata": {},
   "source": [
    "**Do not reinitialize variables and data provided for you. Please just run the cells when information is initialized for you. DO NOT RETYPE IT unless it is in a static cell (a cell that has no run button).**\n",
    "\n"
   ]
  },
  {
   "cell_type": "markdown",
   "id": "cd63391f",
   "metadata": {},
   "source": [
    "**Check your answers before submission and read the Canvas assignment instructions.**\n",
    "\n"
   ]
  },
  {
   "cell_type": "code",
   "execution_count": 1,
   "id": "7504d68c",
   "metadata": {},
   "outputs": [
    {
     "data": {
      "text/plain": [
       "Plots.GRBackend()"
      ]
     },
     "metadata": {},
     "output_type": "display_data"
    }
   ],
   "source": [
    "using LinearAlgebra, Plots, Random \n",
    "gr()"
   ]
  },
  {
   "cell_type": "markdown",
   "id": "c5b4c8d1",
   "metadata": {},
   "source": [
    "### **Overview of Segway Task**\n",
    "\n"
   ]
  },
  {
   "cell_type": "markdown",
   "id": "ca9da2f4",
   "metadata": {},
   "source": [
    "Similar to the cart portion of the project, we will give you a mathematical model of the Segway and some tools for doing computer simulations. A real Segway is three-dimensional and is modeled with nonlinear functions. Here, we are using a simplified model of a Segway where it is constrained to roll along a line, and where the nonlinear functions in its model have been replaced by their linear approximations.\n",
    "\n"
   ]
  },
  {
   "cell_type": "markdown",
   "id": "685e8548",
   "metadata": {},
   "source": [
    "View **segwayImage.png** in attachments (to the right) for a visual reference of the Segway States listed below:\n",
    "\n"
   ]
  },
  {
   "cell_type": "markdown",
   "id": "e92dc575",
   "metadata": {},
   "source": [
    "\\left[\\begin{array}{c} x\\_1 \\\\ x\\_2 \\\\x\\_3 \\\\x\\_4 \\end{array} \\right] = \\left[\\begin{array}{c} \\phi \\\\ x \\\\ \\dot{\\phi} \\\\\\dot{x} \\end{array} \\right] = \\left[\\begin{array}{c} \\text{ lean angle of the pendulum } \\\\ \\text{ horizontal position of the base } \\\\ \\text{ angular velocity of the pendulum } \\\\ \\text{ horizontal velocity of the base } \\end{array} \\right]\n",
    "--------------------------------------------------------------------------------------------------------------------------------------------------------------------------------------------------------------------------------------------------------------------------------------------------------------------------------------------------------------------------\n",
    "\n"
   ]
  },
  {
   "cell_type": "markdown",
   "id": "094dd29b",
   "metadata": {},
   "source": [
    "**Helpful code for the project:**\n",
    "\n"
   ]
  },
  {
   "cell_type": "code",
   "execution_count": 2,
   "id": "1b98addc",
   "metadata": {},
   "outputs": [
    {
     "data": {
      "text/plain": [
       "minNormUnderdetermined (generic function with 1 method)"
      ]
     },
     "metadata": {},
     "output_type": "display_data"
    }
   ],
   "source": [
    "function forwardsub(L, b)    \n",
    "    (nr,nc) = size(L)\n",
    "    x = Vector{Float64}(undef,nc)\n",
    "    if minimum(abs.(diag(L))) < 1e-8\n",
    "        println(\"L is close to singular. I will not solve this problem\")\n",
    "        return x\n",
    "    else    \n",
    "        x[1] = b[1] / L[1,1]\n",
    "        for i = 2:nc\n",
    "            x[i]=( b[i] - L[i,1:i-1]' * x[1:i-1] ) / L[i,i]\n",
    "        end\n",
    "        return x  \n",
    "    end\n",
    "end\n",
    "\n",
    "#= \n",
    "The QR pipeline for minimum norm solution of Ax=b when\n",
    "the ROWS of A are linearly independent \n",
    "(yes, the columns of A' are linearly independent)\n",
    "=#\n",
    "\n",
    "function minNormUnderdetermined(A,b)\n",
    "    F = qr(A')\n",
    "    Q = Matrix(F.Q)\n",
    "    R = Matrix(F.R)\n",
    "    beta = forwardsub(R', b) \n",
    "    xStar =Q*beta\n",
    "    return xStar\n",
    "end"
   ]
  },
  {
   "cell_type": "code",
   "execution_count": 3,
   "id": "2f939727",
   "metadata": {},
   "outputs": [
    {
     "data": {
      "text/plain": [
       "(4, 4)"
      ]
     },
     "metadata": {},
     "output_type": "display_data"
    }
   ],
   "source": [
    "#= \n",
    "Functions for simulating discrete-time versions of ODEs. \n",
    "These will be used for a cart \n",
    "=#\n",
    "\n",
    "function simModelNomOpenLoop(A,B,x0,u)\n",
    "    # given x0 and a control sequence u\n",
    "    # compute the resulting trajectory\n",
    "    # for k = 0:length(u)\n",
    "    # using a perfect model \n",
    "    # Assume u is a vector and not a 2d array\n",
    "    (rA,cA) = size(A)\n",
    "    xTraj = Array{Float64,2}(undef,rA,0)\n",
    "    N = length(u)\n",
    "    xTraj=[xTraj x0]\n",
    "    for k = 1:N\n",
    "        xk = xTraj[:,k]\n",
    "        uk = u[k]\n",
    "        xkp1 = A*xk+B*uk\n",
    "        xTraj = [xTraj xkp1]          \n",
    "    end\n",
    "    return xTraj\n",
    "end\n",
    "\n",
    "function simModelDisturbedOpenLoop(A,B,x0,u)\n",
    "    # given x0 and a control sequence u\n",
    "    # compute the resulting trajectory\n",
    "    # for k = 0:length(u)\n",
    "    # when the model has unexpected deviations \n",
    "    # from its nominal behavior!\n",
    "    # Assume u is a vector and not a 2d array\n",
    "    dt=0.1\n",
    "    (rA,cA) = size(A)\n",
    "    xTraj = Array{Float64,2}(undef,rA,0)\n",
    "    N = length(u)\n",
    "    xTraj=[xTraj x0]\n",
    "    for k = 1:N\n",
    "        xk = xTraj[:,k]\n",
    "        uk = u[k]\n",
    "        xkp1 = xkPlus1Disturbed(A,B,xk,uk,dt)\n",
    "        xTraj = [xTraj xkp1]          \n",
    "    end\n",
    "    return xTraj\n",
    "end\n",
    "\n",
    "function xkPlus1DisturbedCart(A,B,xk,uk,dt)\n",
    "    # Introduce disturbances that make perfect predictions \n",
    "    # not work in engineering practice\n",
    "    (rA,cA) = size(A)\n",
    "    Anom=A\n",
    "    d=0.1\n",
    "    Amud=A+dt*[0 0;0 -d]\n",
    "    Awind=A+dt*[0 0;0 2*d]\n",
    "    xkp1 = Array{Float64,2}(undef,rA,1)\n",
    "    for k = 1:N\n",
    "        if  abs(xk[1]-3)<1\n",
    "            xkp1 = Amud*xk+B*uk            \n",
    "        elseif abs(xk[1]-11)<0.6\n",
    "            xkp1 = Awind*xk+B*uk\n",
    "        else\n",
    "            xkp1 = Anom*xk+B*uk\n",
    "        end    \n",
    "    end\n",
    "    return xkp1\n",
    "end\n",
    "\n",
    "function xkPlus1DisturbedSegway(A,B,xk,uk,dt)\n",
    "    # Introduce disturbances that make perfect predictions \n",
    "    # not work in engineering practice\n",
    "    (rA,cA) = size(A)\n",
    "    d=0.1\n",
    "    Anom=A\n",
    "    Dmud=zeros(rA,cA); Dmud[rA,rA]=-d\n",
    "    Amud=A+dt*Dmud\n",
    "    Dwind=zeros(rA,cA); Dwind[rA,rA]=2*d\n",
    "    Awind=A+dt*Dwind\n",
    "    xkp1 = Array{Float64,2}(undef,rA,1)\n",
    "    for k = 1:N\n",
    "        if  abs(xk[2]-10)<1\n",
    "            xkp1 = Amud*xk+B*uk            \n",
    "        elseif abs(xk[2]-3)<1.5\n",
    "            xkp1 = Awind*xk+B*uk\n",
    "        else\n",
    "            xkp1 = Anom*xk+B*uk\n",
    "        end    \n",
    "    end\n",
    "    return xkp1\n",
    "end\n",
    "\n",
    "function xkPlus1Disturbed(A,B,xk,uk,dt)\n",
    "    # Introduce disturbances that make perfect predictions \n",
    "    # not work in engineering practice\n",
    "    (rA,cA) = size(A)\n",
    "    if rA==2\n",
    "         xkp1 = xkPlus1DisturbedCart(A,B,xk,uk,dt)\n",
    "    else\n",
    "        xkp1 = xkPlus1DisturbedSegway(A,B,xk,uk,dt)\n",
    "    end\n",
    "    return  xkp1   \n",
    "end\n",
    "\n",
    "#=\n",
    "I give you some model data for the Segway and \n",
    "a basic open-loop simulator\n",
    "=#\n",
    "\n",
    "function SegwayModel()\n",
    "    #= Original model coorindates are \n",
    "    phi=x(1)\n",
    "    theta=x(2); \n",
    "    dphi=x(3);\n",
    "    dtheta=x(4); \n",
    "    \n",
    "    phi = angle of Segway body\n",
    "    theta = wheel rotation angle\n",
    "    \n",
    "    lateral position = r (theta + phi), \n",
    "    where r = wheel radius I\n",
    "    \n",
    "    In the end, we are using center of mass (CoM)\n",
    "    also called, center of gravity\n",
    "    =#\n",
    "    r=0.5\n",
    "    #coordinate change for x position\n",
    "    # P=[1 0 0 0; r r 0 0; 0 0 1 0; 0 0 r r] \n",
    "    P=[1 0 0 0; 1.2 0.5 0 0; 0 0 1 0; 0 0 1.2 0.5]  \n",
    "    # coordinate change for x-CoM\n",
    "    Ac = [0 0 1 0; 0 0 0 1; 2.568 0 0 0; -5.020  0 0 0];\n",
    "    Bc = [0;0;-0.7172;1.6744]\n",
    "    Id = zeros(4,4) + I\n",
    "    dt = 0.1\n",
    "    A = Id + dt*Ac\n",
    "    B = dt*Bc\n",
    "    # puts the coordinates as lean angle (radians) and horizonal position (m)\n",
    "    A=P*A*inv(P); B=P*B \n",
    "    return A, B\n",
    "end\n",
    "(A,B)=SegwayModel()\n",
    "(nr,nc) = size(A)"
   ]
  },
  {
   "cell_type": "code",
   "execution_count": 4,
   "id": "fe6e75d6",
   "metadata": {},
   "outputs": [
    {
     "data": {
      "text/plain": [
       "animSegway (generic function with 2 methods)"
      ]
     },
     "metadata": {},
     "output_type": "display_data"
    }
   ],
   "source": [
    "#=\n",
    "Generate animations for the Segway.\n",
    "Your instructors thought it would be much more \n",
    "fun if you could see an animation\n",
    "instead of just looking at plots! \n",
    "=#\n",
    "\n",
    "function rect_rot(w, h, t, theta)\n",
    "    # w, h: x extend, y extend\n",
    "    # t: translation\n",
    "    # theta: rotation in negative z direction\n",
    "    rot = [cos(theta) sin(theta); -sin(theta) cos(theta)]\n",
    "    coord = rot*[-w/2 w/2 w/2 -w/2; 0 0 h h] .+ t\n",
    "    Shape(coord[1, :], coord[2, :])\n",
    "end\n",
    "\n",
    "function animSegway(xTraj, fps, end_pause_sec=2)\n",
    "    # xTraj: 2D array, expect length 4xN, \n",
    "    #        N is number of time steps\n",
    "    # TBD dt sets the frame rate and we only need the position coordinates from xTraj\n",
    "    if size(xTraj, 1) !== 4\n",
    "        println(\"xTraj should have 4 rows. Its number of columns will vary.\")\n",
    "    end\n",
    "    # geometric paramters for the Segway\n",
    "    rect_w = 0.1\n",
    "    rect_h = 2\n",
    "    lineW = 0.05\n",
    "    r = 0.5\n",
    "    end_pause = end_pause_sec*fps\n",
    "    \n",
    "    P = [1   0   0   0 \n",
    "         1.2 0.5 0   0 \n",
    "         0   0   1   0\n",
    "         0   0   1.2 0.5]\n",
    "    xTraj = inv(P)*xTraj\n",
    "    \n",
    "    slow_times = 1\n",
    "    n = size(xTraj, 2)\n",
    "    if fps < 1\n",
    "        slow_times = convert(Int64, 1/fps)\n",
    "    end\n",
    "    n *= slow_times\n",
    "    anim = @animate for i ∈ 1:(n+end_pause)\n",
    "        idx = min(i, n)\n",
    "        if fps < 1\n",
    "            idx = convert(Int64, floor((idx-1)/slow_times+1))\n",
    "        end\n",
    "        \n",
    "        phi, theta = xTraj[1, idx], xTraj[2, idx]\n",
    "        x = (theta+phi)*r\n",
    "        if x > 3\n",
    "            x -= 6*floor((x+3)/6)\n",
    "        end\n",
    "        center = [x; r]\n",
    "\n",
    "        # plot the ground in green\n",
    "        plot(rect_rot(6, 0.1, [0, -0.1], 0), title=\"Time step: $idx\",\n",
    "             c=:green, xlim = (-3, 3), ylim = (-0.2, 2.8),\n",
    "             framestyle = :none, size = (600, 300), legend = false)\n",
    "        \n",
    "        # plot the circle\n",
    "        x_cir, y_cir = Plots.unzip(Plots.partialcircle(0, 2π, 100, r))\n",
    "        # shift the circle to center\n",
    "        x_cir .+= center[1]; y_cir .+= center[2]\n",
    "        plot!(Shape(x_cir, y_cir), c = :yellow)\n",
    "        plot!(rect_rot(lineW, r, center, theta+phi), opacity=.5, c=:blue1)\n",
    "        \n",
    "        # plot the rectangle on Segway\n",
    "        plot!(rect_rot(rect_w, rect_h, center, phi), opacity=.5, c=:blue2)\n",
    "\n",
    "    end \n",
    "\n",
    "    if fps < 1\n",
    "        gif(anim, \"segwayYouMade.gif\", fps = 1)\n",
    "    else\n",
    "        gif(anim, \"segwayYouMade.gif\", fps = 15)\n",
    "    end\n",
    "\n",
    "end"
   ]
  },
  {
   "cell_type": "markdown",
   "id": "be96b7dd",
   "metadata": {},
   "source": [
    "❗❗**Pay attention to this next cell!**\n",
    "\n"
   ]
  },
  {
   "cell_type": "code",
   "execution_count": 5,
   "id": "65e902a8",
   "metadata": {},
   "outputs": [
    {
     "name": "stderr",
     "output_type": "stream",
     "text": [
      "┌ Info: Saved animation to d:\\CODING\\Julia\\Project\\segwayYouMade.gif\n",
      "└ @ Plots C:\\Users\\user\\.julia\\packages\\Plots\\kLeqV\\src\\animation.jl:156\n"
     ]
    },
    {
     "data": {
      "text/html": [
       "<img src=\"data:image/gif;base64,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\" />"
      ],
      "text/plain": [
       "Plots.AnimatedGif(\"d:\\\\CODING\\\\Julia\\\\Project\\\\segwayYouMade.gif\")"
      ]
     },
     "metadata": {},
     "output_type": "display_data"
    }
   ],
   "source": [
    "#= \n",
    "This cell will lean the Segway a bit \n",
    "and then make it stand up. \n",
    "\n",
    "Your next task will be to find a control \n",
    "sequence by hand to accomplish this.\n",
    "=#\n",
    "\n",
    "(A,B)=SegwayModel()\n",
    "\n",
    "# 5 cm displacement is approximately two inches! \n",
    "x0 = [0; .05; 0; 0] \n",
    "x_goal=[0.0; 0; 0; 0]\n",
    "N = 20\n",
    "\n",
    "#= \n",
    "Open-loop control computation\n",
    "This code will be helpful for \n",
    "Segway Tasks 2 & 3\n",
    "=#\n",
    "S=A^N\n",
    "M=Array{Float64,2}(undef,nr,0)\n",
    "for k=1:N\n",
    "    M=[A*M B]\n",
    "end\n",
    "\n",
    "uControl=minNormUnderdetermined(M,x_goal-S*x0)\n",
    "\n",
    "titre=\"Segway\"\n",
    "# nominal open-loop sim\n",
    "xTrajNom=simModelNomOpenLoop(A,B,x0,uControl)\n",
    "animSegway(xTrajNom, 15)"
   ]
  },
  {
   "cell_type": "markdown",
   "id": "107dd3b1",
   "metadata": {},
   "source": [
    "\n",
    "\n",
    "---\n",
    "\n"
   ]
  },
  {
   "cell_type": "markdown",
   "id": "a30f21b0",
   "metadata": {},
   "source": [
    "Segway Task 1\n",
    "-------------\n",
    "\n"
   ]
  },
  {
   "cell_type": "markdown",
   "id": "f3807007",
   "metadata": {},
   "source": [
    "The purpose here is to see how clever a controller has to be in order to make a Segway stand up! Balance is way harder than pushing a cart around. Controlling a Segway is a bit like balancing a ruler on the palm of your hand; it is not easy!\n",
    "\n"
   ]
  },
  {
   "cell_type": "markdown",
   "id": "b541d41a",
   "metadata": {},
   "source": [
    "**Design by hand a control sequence** `u = [u1; u2; u3; u4]` **that will return the Segway to the origin, fully upright, and at rest, when it starts at rest 1 cm to the right. Note, 1 cm is approximately 0.5 inches!**\n",
    "\n"
   ]
  },
  {
   "cell_type": "markdown",
   "id": "b786936a",
   "metadata": {},
   "source": [
    "**Hint****: It is almost possible to do it with a control sequence of the form** `u = [u1; u2; -u2; -u1]`**. Adjust** `u3` **and** `u4` **by + or - some value. Start with numbers between 1 and 20.**\n",
    "\n"
   ]
  },
  {
   "cell_type": "markdown",
   "id": "8ddcc17f",
   "metadata": {},
   "source": [
    "The purpose here is to understand just how hard it is to steer a Segway back to the origin and at rest by hand.\n",
    "\n"
   ]
  },
  {
   "cell_type": "code",
   "execution_count": 7,
   "id": "7f3e5c2d",
   "metadata": {},
   "outputs": [
    {
     "data": {
      "text/plain": [
       "-858"
      ]
     },
     "metadata": {},
     "output_type": "display_data"
    }
   ],
   "source": [
    "#= \n",
    "Declare and adjust your values for u3 and u4 below \n",
    "\n",
    "You need to end with norm(xTrajShort[:, end]) < 0.0098  = 9.8 mm,\n",
    "that is, the norm of the final state is smaller than that of x0!\n",
    "\n",
    "You started with norm(xTrajShort[:, end]) = 0.01 = 10 mm\n",
    "=#\n",
    "\n",
    "# 1 cm displacement = less than 0.5 inches! \n",
    "x0 = [0; .01; 0; 0] \n",
    "\n",
    "# x = [lean angle; base position; angular velocity; base velocity]\n",
    "# uk is motor torque at time tk = k*dt\n",
    "\n",
    "u1 = 286\n",
    "u2 = -858"
   ]
  },
  {
   "cell_type": "code",
   "execution_count": 17,
   "id": "705592d1",
   "metadata": {},
   "outputs": [
    {
     "data": {
      "text/plain": [
       "235"
      ]
     },
     "metadata": {},
     "output_type": "display_data"
    }
   ],
   "source": [
    "# YOUR ANSWER HERE\n",
    "u3 = 300\n",
    "u4 = 235"
   ]
  },
  {
   "cell_type": "markdown",
   "id": "05916b5c",
   "metadata": {},
   "source": [
    "Check your `u3` and `u4` here!\n",
    "\n"
   ]
  },
  {
   "cell_type": "code",
   "execution_count": 51,
   "id": "0912a41d",
   "metadata": {},
   "outputs": [
    {
     "name": "stdout",
     "output_type": "stream",
     "text": [
      "xTrajShort[:, end] = [0.004701389440000867, 0.00015058652799993373, 3.552713678800501e-15, -1.1102230246251565e-16]\n",
      "norm(xTrajShort[:, end]) = 0.004703800481415718\n",
      "norm(x0) = 0.01\n",
      "\n",
      " Nice work!\n"
     ]
    },
    {
     "name": "stderr",
     "output_type": "stream",
     "text": [
      "┌ Info: Saved animation to d:\\CODING\\Julia\\segwayYouMade.gif\n",
      "└ @ Plots C:\\Users\\user\\.julia\\packages\\Plots\\kLeqV\\src\\animation.jl:156\n"
     ]
    },
    {
     "data": {
      "text/html": [
       "<img src=\"data:image/gif;base64,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\" />"
      ],
      "text/plain": [
       "Plots.AnimatedGif(\"d:\\\\CODING\\\\Julia\\\\segwayYouMade.gif\")"
      ]
     },
     "metadata": {},
     "output_type": "display_data"
    }
   ],
   "source": [
    "u3 = 850\n",
    "u4 = -278\n",
    "\n",
    "uControlShort=[u1;u2;u3;u4]\n",
    "(A,B)=SegwayModel()\n",
    "xTrajShort=simModelNomOpenLoop(A,B,x0,uControlShort)\n",
    "\n",
    "@show xTrajShort[:,end]\n",
    "@show norm(xTrajShort[:,end])\n",
    "@show norm(x0)\n",
    "\n",
    "if  norm(xTrajShort[:,end]) > norm(x0)\n",
    "    println(\"\\n You ended farther from being at rest at the origin than you started!\")\n",
    "elseif norm(xTrajShort[:,end]) > 0.0098\n",
    "    println(\"\\n Can you do better? Give it another try!\")\n",
    "    println(\"\\n We will check for norm(xTrajShort[:, end]) < 0.0098\")\n",
    "else\n",
    "    println(\"\\n Nice work!\")\n",
    "end\n",
    "\n",
    "# we only plot the final pose here!\n",
    "animSegway(xTrajShort[:, end], 1, 25)"
   ]
  },
  {
   "cell_type": "markdown",
   "id": "936f00cb",
   "metadata": {},
   "source": [
    "Segway Task 2\n",
    "-------------\n",
    "\n"
   ]
  },
  {
   "cell_type": "markdown",
   "id": "febbd2f6",
   "metadata": {},
   "source": [
    "**Use least squares to find an open-loop control sequence of length N=30 to drive the Segway back to the origin and at rest when it starts from an initial point that is one meter to the right of the origin.** `x0` **and** `xGoal` **are given to you.**\n",
    "\n"
   ]
  },
  {
   "cell_type": "markdown",
   "id": "e6e0b904",
   "metadata": {},
   "source": [
    "**You must name your control sequence** `uControl` **for the supplied simulation code to work properly. All of the code that you have to write has been used previously in the project.**\n",
    "\n"
   ]
  },
  {
   "cell_type": "markdown",
   "id": "ea99f9d6",
   "metadata": {},
   "source": [
    "We will discover that when \"balance\" is an issue, feedback control is very challenging. You will see that steering the Segway to a final goal state does not always result in the Segway producing a maneuver that would be acceptable for a rider, even in a perfect world where your Segway does not encounter any disturbances!\n",
    "\n"
   ]
  },
  {
   "cell_type": "code",
   "execution_count": null,
   "id": "777f46d4",
   "metadata": {},
   "outputs": [],
   "source": [
    "# 1 meter from the goal, at rest (means all velocities are zero), straight up!\n",
    "x0=[0;1.0;0;0] \n",
    "xGoal=[0.0; 0; 0; 0]\n",
    "N = 30\n",
    "(A,B)=SegwayModel();"
   ]
  },
  {
   "cell_type": "code",
   "execution_count": null,
   "id": "0f3f126b",
   "metadata": {},
   "outputs": [],
   "source": [
    "# YOUR ANSWER HERE\n"
   ]
  },
  {
   "cell_type": "code",
   "execution_count": null,
   "id": "23b0fc6a",
   "metadata": {},
   "outputs": [],
   "source": [
    "xTrajNom=simModelNomOpenLoop(A,B,x0,uControl)\n",
    "\n",
    "# time for plots\n",
    "dt = 0.1\n",
    "t=(1:N)*dt\n",
    "\n",
    "#Plot 1\n",
    "titre=\"Segway\"\n",
    "p1=scatter(t,uControl,legend=false, title=titre, color=:black )\n",
    "xlabel!(\"Time (sec)\");ylabel!(\"Control Input Signal\")\n",
    "plot!(t,0.0*uControl,linewidth=2, color=:black)\n",
    "p1"
   ]
  },
  {
   "cell_type": "code",
   "execution_count": null,
   "id": "418c04e4",
   "metadata": {},
   "outputs": [],
   "source": [
    "#Plot 2\n",
    "p2=plot(xTrajNom[1,:]*180/pi, xTrajNom[2,:], title=titre, color=:green, label = \"Open-Loop with No Disturbances\")\n",
    "scatter!([xTrajNom[1,1]*180/pi], [xTrajNom[2,1]], color=:blue, label=\"Start\")\n",
    "scatter!([xTrajNom[1,end]*180/pi], [xTrajNom[2,end]], color=:red, label=\"End\")\n",
    "xlabel!(\"x1 = Lean Angle of Segway Body (degrees)\");ylabel!(\"x2 = Horizontal Position (m)\");\n",
    "p2"
   ]
  },
  {
   "cell_type": "markdown",
   "id": "2c59aaad",
   "metadata": {},
   "source": [
    "Check your `uControl` here!\n",
    "\n"
   ]
  },
  {
   "cell_type": "code",
   "execution_count": null,
   "id": "0f7bd3e7",
   "metadata": {},
   "outputs": [],
   "source": [
    "#Checking your control sequence\n",
    "if ( (norm(xTrajNom[:,end]) < 1e-8) & (length(uControl)==30) )\n",
    "    println(\"Your control sequence appears to be correct.\")\n",
    "else\n",
    "    println(\"Try again.\")\n",
    "end\n",
    "\n",
    "animSegway(xTrajNom, 15)"
   ]
  },
  {
   "cell_type": "markdown",
   "id": "a8db0c1f",
   "metadata": {},
   "source": [
    "**Segway Task 2 Fun Question** (0 points)\n",
    "\n"
   ]
  },
  {
   "cell_type": "markdown",
   "id": "d16eec63",
   "metadata": {},
   "source": [
    "Plot 2 shows a maximum lean angle that is a few degrees smaller than 100. Based on this information, the motion control sequence you just designed resulted in a safe motion for the Segway and its rider.\n",
    "\n"
   ]
  },
  {
   "cell_type": "markdown",
   "id": "92adf3b7",
   "metadata": {},
   "source": [
    "True/False quiz: The statement above is...\n",
    "\n",
    "Answers:\n",
    " - True\n",
    "- False\n",
    "\n"
   ]
  },
  {
   "cell_type": "markdown",
   "id": "aa26e2f7",
   "metadata": {},
   "source": [
    "Segway Task 3\n",
    "-------------\n",
    "\n"
   ]
  },
  {
   "cell_type": "markdown",
   "id": "2cc49ea8",
   "metadata": {},
   "source": [
    "This task will use an MPC-style feedback controller.\n",
    "\n"
   ]
  },
  {
   "cell_type": "markdown",
   "id": "ce516ae6",
   "metadata": {},
   "source": [
    "**Here is some useful code:**\n",
    "\n"
   ]
  },
  {
   "cell_type": "code",
   "execution_count": null,
   "id": "399fd649",
   "metadata": {},
   "outputs": [],
   "source": [
    "function xkPlus1Disturbed(xk,uk,dt)\n",
    "    (A,B)=SegwayModel()\n",
    "    (rA,cA) = size(A)\n",
    "    Anom=A\n",
    "    d=0.1\n",
    "    Dmud=zeros(rA,cA); Dmud[4,4]=-d\n",
    "    Amud=A+dt*Dmud\n",
    "    Dwind=zeros(rA,cA); Dwind[4,4]=2*d\n",
    "    Awind=A+dt*Dwind\n",
    "    xkp1 = Array{Float64,2}(undef,rA,1)\n",
    "    for k = 1:N\n",
    "        if  abs(xk[2]-10)<1\n",
    "            xkp1 = Amud*xk+B*uk            \n",
    "        elseif abs(xk[2]-3)<1.5\n",
    "            xkp1 = Awind*xk+B*uk\n",
    "        else\n",
    "            xkp1 = Anom*xk+B*uk\n",
    "        end    \n",
    "    end\n",
    "    return xkp1\n",
    "end\n",
    "\n",
    "function simModelDisturbed(x0,u)\n",
    "    (A,B)=SegwayModel()\n",
    "    (rA,cA) = size(A)\n",
    "    # Assume u is a vector and not a 2d array\n",
    "    xTraj = Array{Float64,2}(undef,rA,0)\n",
    "    N = length(u)\n",
    "    xTraj=[xTraj x0]\n",
    "    for k = 1:N\n",
    "        xk = xTraj[:,k]\n",
    "        uk = u[k]\n",
    "        xkp1 = xkPlus1Disturbed(A,B,xk,uk,dt)\n",
    "        xTraj = [xTraj xkp1]          \n",
    "    end\n",
    "    return xTraj\n",
    "end\n",
    "\n",
    "function simSegwayMPCbalancePerfectWorld(x0,N,xGoal)\n",
    "    (A,B)=SegwayModel()\n",
    "    (rA,cA) = size(A)\n",
    "    xTraj = Array{Float64,2}(undef,rA,0)\n",
    "    uTraj = Array{Float64,2}(undef,1,0)\n",
    "    xTraj=[xTraj x0]\n",
    "    for k = 1:N\n",
    "        xk=xTraj[:,k]\n",
    "        uk=mySegwayMPCbalanceController(A,B,xk,xGoal)\n",
    "        uTraj=[uTraj uk]\n",
    "        # no disturbances added\n",
    "        xkp1 = A*xk+B*uk\n",
    "        xTraj = [xTraj xkp1]          \n",
    "    end\n",
    "    return xTraj, uTraj\n",
    "end\n",
    "\n",
    "function simSegwayMPCbalanceShoves(x0,N,xGoal)\n",
    "    (A,B)=SegwayModel()\n",
    "    (rA,cA) = size(A)\n",
    "    xTraj = Array{Float64,2}(undef,rA,0)\n",
    "    uTraj = Array{Float64,2}(undef,1,0)\n",
    "    xTraj=[xTraj x0]\n",
    "    for k = 1:N\n",
    "        xk=xTraj[:,k]\n",
    "        uk=mySegwayMPCbalanceController(A,B,xk,xGoal)\n",
    "        uTraj=[uTraj uk]\n",
    "        if k==100\n",
    "            xk[3]=1.8\n",
    "        elseif k==300\n",
    "            xk[4]=.2\n",
    "        elseif k==500\n",
    "            xk=[0;1.1;-0.8;0.0]\n",
    "        end\n",
    "        xkp1 = A*xk+B*uk\n",
    "        xTraj = [xTraj xkp1]          \n",
    "    end\n",
    "    return xTraj, uTraj\n",
    "end\n",
    "\n",
    "function simSegwayMPCbalance(x0,N,xGoal)\n",
    "    (A,B)=SegwayModel()\n",
    "    (rA,cA) = size(A)\n",
    "    xTraj = Array{Float64,2}(undef,rA,0)\n",
    "    uTraj = Array{Float64,2}(undef,1,0)\n",
    "    xTraj=[xTraj x0]\n",
    "    for k = 1:N\n",
    "        xk=xTraj[:,k]\n",
    "        uk=mySegwayMPCbalanceController(A,B,xk,xGoal)\n",
    "        uTraj=[uTraj uk]\n",
    "        # Reality bites\n",
    "        xkp1 = xkPlus1Disturbed(A,B,xk,uk,dt)\n",
    "        xTraj = [xTraj xkp1]          \n",
    "    end\n",
    "    return xTraj, uTraj\n",
    "end"
   ]
  },
  {
   "cell_type": "markdown",
   "id": "8794bd59",
   "metadata": {},
   "source": [
    "**Create an MPC balance controller to bring the Segway to rest at the origin. Your goal is therefore** `xGoal=[0;0;0;0]`**. If your MPC control horizon (**`nConHoriz`**) is short, you will very aggressively move the Segway to its goal and scare the living daylights out of its rider.**\n",
    "\n"
   ]
  },
  {
   "cell_type": "markdown",
   "id": "6753962e",
   "metadata": {},
   "source": [
    "Here is a code skeleton for you to use:\n",
    "\n"
   ]
  },
  {
   "cell_type": "code",
   "execution_count": null,
   "id": "d51a8d32",
   "metadata": {},
   "outputs": [],
   "source": [
    "# Hint: try nConHoriz larger than 20 and smaller than 100 \n",
    "\n",
    "function mySegwayMPCbalanceController(A,B,xk,xGoal)\n",
    " \n",
    " ### YOUR CODE HERE! ###\n",
    " \n",
    " uk=uControl[1]\n",
    " return uk\n",
    "end"
   ]
  },
  {
   "cell_type": "markdown",
   "id": "4e639f24",
   "metadata": {},
   "source": [
    "Hints:\n",
    "\n"
   ]
  },
  {
   "cell_type": "markdown",
   "id": "fdb4aa5e",
   "metadata": {},
   "source": [
    "* N is replaced by the MPC control horizon.\n",
    "* Go back and look at the pre-work if you are stuck!\n"
   ]
  },
  {
   "cell_type": "code",
   "execution_count": null,
   "id": "6b99063c",
   "metadata": {},
   "outputs": [],
   "source": [
    "# YOUR ANSWER HERE\n"
   ]
  },
  {
   "cell_type": "markdown",
   "id": "b103e677",
   "metadata": {},
   "source": [
    "**Test 1**: You will first test your controller in the setting of a \"perfect world\", with the Segway starting one meter to the right of the origin. Make sure that the lean angle does not exceed 30 degrees.\n",
    "\n"
   ]
  },
  {
   "cell_type": "code",
   "execution_count": null,
   "id": "b7f6d8f5",
   "metadata": {},
   "outputs": [],
   "source": [
    "# 1 meter from the goal, at rest (means all velocities are zero), straight up!\n",
    "x0=[0;1.0;0;0] \n",
    "xGoal=[0.0; 0; 0; 0]\n",
    "\n",
    "N=200\n",
    "(xTrajMPC, uTrajMPC) = simSegwayMPCbalancePerfectWorld(x0,N,xGoal)\n",
    "\n",
    "dt = 0.1\n",
    "t=(1:N)*dt\n",
    "\n",
    "titre=\"Segway Balance\"\n",
    "p1=scatter(t,uTrajMPC',legend=false, title=titre, color=:black )\n",
    "xlabel!(\"Time (sec)\");ylabel!(\"Control Input Signal\")\n",
    "plot!(t,0.0*uTrajMPC',linewidth=2, color=:black)\n",
    "p1"
   ]
  },
  {
   "cell_type": "code",
   "execution_count": null,
   "id": "99aaf9b5",
   "metadata": {},
   "outputs": [],
   "source": [
    "p2=plot(xTrajMPC[1,:]*180/pi, xTrajMPC[2,:], title=titre, color=:green, label = \"MPC with No Disturbances\")\n",
    "scatter!([xTrajMPC[1,1]*180/pi], [xTrajMPC[2,1]], color=:blue, label=\"start\")\n",
    "scatter!([xTrajMPC[1,end]*180/pi], [xTrajMPC[2,end]], color=:red, label=\"end\")\n",
    "xlabel!(\"x1 = Lean Angle of Segway Body (degrees)\");ylabel!(\"x2 = Horizontal Position (m)\");\n",
    "p2"
   ]
  },
  {
   "cell_type": "code",
   "execution_count": null,
   "id": "6302c206",
   "metadata": {},
   "outputs": [],
   "source": [
    "maxLeanAngle=maximum(abs.(xTrajMPC[1,:]*180/pi))\n",
    "println(\"Your maximum lean angle was $maxLeanAngle degrees\")\n",
    "\n",
    "# animate \n",
    "animSegway(xTrajMPC, 15)"
   ]
  },
  {
   "cell_type": "markdown",
   "id": "c84bdf3a",
   "metadata": {},
   "source": [
    "**Test 2**: Once you have your controller working in this \"simple\" setting, we will judge you by how well your closed-loop system can withstand \"shoves\" applied to the Segway and its rider without the Segway's lean angle exceeding that already frightening 30 degrees! ← This is what you’ll be graded on.\n",
    "\n"
   ]
  },
  {
   "cell_type": "code",
   "execution_count": null,
   "id": "636d7c7f",
   "metadata": {},
   "outputs": [],
   "source": [
    "#1 meter from the goal, at rest (means all velocities are zero), straight up!\n",
    "x0=[0;1.0;0;0] \n",
    "xGoal=[0.0; 0; 0; 0]\n",
    "\n",
    "N=700\n",
    "(xTrajMPC, uTrajMPC) = simSegwayMPCbalanceShoves(x0,N,xGoal)\n",
    "\n",
    "maxLeanAngle=maximum(abs.(xTrajMPC[1,:]*180/pi))\n",
    "if (maxLeanAngle > 35)\n",
    "    println(\"Your maximum lean angle was $maxLeanAngle degrees and greatly exceeded the tolerance. Go back and fix your controller\")\n",
    "elseif (maxLeanAngle > 30)\n",
    "    println(\"Your maximum lean angle was $maxLeanAngle degrees and while it exceeded the tolerance, it's good enough for full credit\")\n",
    "else\n",
    "    println(\"Your maximum lean angle was $maxLeanAngle degrees and you met the specifiction! Bravo!\")\n",
    "end\n",
    "\n",
    "t=(1:N)*dt\n",
    "titre=\"Segway Balance\"\n",
    "p11=scatter(t',uTrajMPC,legend=false, title=titre, color=:black )\n",
    "xlabel!(\"Time (sec)\");ylabel!(\"Control Input Signal\")\n",
    "plot!(t',0.0*uTrajMPC,linewidth=2, color=:black)\n",
    "p11"
   ]
  },
  {
   "cell_type": "code",
   "execution_count": null,
   "id": "3945943d",
   "metadata": {},
   "outputs": [],
   "source": [
    "t=(1:N+1)*dt\n",
    "p12=plot(t, xTrajMPC[1,:]*180/pi, title=titre, color=:green, label = \" Lean Angle (degrees): MPC with shoves\")\n",
    "plot!(t,0.0*xTrajMPC[1,:],linewidth=2, color=:black)\n",
    "p12"
   ]
  },
  {
   "cell_type": "code",
   "execution_count": null,
   "id": "6897a056",
   "metadata": {},
   "outputs": [],
   "source": [
    "p13=plot(t, xTrajMPC[2,:], title=titre, color=:orange, label = \" Base Position (m): MPC with shoves\")\n",
    "plot!(t,0.0*xTrajMPC[1,:],linewidth=2, color=:black)\n",
    "p13"
   ]
  },
  {
   "cell_type": "code",
   "execution_count": null,
   "id": "9fe77152",
   "metadata": {},
   "outputs": [],
   "source": [
    "# animation\n",
    "animSegway(xTrajMPC, 15)"
   ]
  },
  {
   "cell_type": "markdown",
   "id": "269dd55d",
   "metadata": {},
   "source": [
    "\n",
    "\n",
    "---\n",
    "\n"
   ]
  },
  {
   "cell_type": "markdown",
   "id": "7a042e1e",
   "metadata": {},
   "source": [
    "![](https://th.bing.com/th/id/R.4d6499b407bac347f8556ad71240f43a?rik=F5UVHjaTRnhI2g&pid=ImgRaw&r=0)"
   ]
  },
  {
   "cell_type": "markdown",
   "id": "ca372b71",
   "metadata": {},
   "source": [
    "**You are on your own for Segway Task 4!**\n",
    "------------------------------------------\n",
    "\n"
   ]
  },
  {
   "cell_type": "markdown",
   "id": "ce71d16b",
   "metadata": {},
   "source": [
    "### **By completing the previous tasks, you have all of the information you need.**\n",
    "\n"
   ]
  },
  {
   "cell_type": "markdown",
   "id": "d85721e4",
   "metadata": {},
   "source": [
    "### **You may not ask for hints on Piazza. Instructional staff will not assist you.**\n",
    "\n"
   ]
  },
  {
   "cell_type": "markdown",
   "id": "c16c1287",
   "metadata": {},
   "source": [
    "Segway Task 4\n",
    "-------------\n",
    "\n"
   ]
  },
  {
   "cell_type": "markdown",
   "id": "ef5a7146",
   "metadata": {},
   "source": [
    "**Create an MPC-inspired SPEED controller to keep the Segway moving along at 1 meter per second. Your goal is**\n",
    "\n"
   ]
  },
  {
   "cell_type": "markdown",
   "id": "d7889372",
   "metadata": {},
   "source": [
    "****xGoal=\\begin{bmatrix} \\text{lean angle }= 0 \\\\ \\text{lean velocity }=0\\\\ \\text{velocity of the Segway base }= v^{\\rm des}\\end{bmatrix}****\n",
    "\n"
   ]
  },
  {
   "cell_type": "markdown",
   "id": "6255d3aa",
   "metadata": {},
   "source": [
    "**where **v^{\\rm des}=1.0****\n",
    "\n"
   ]
  },
  {
   "cell_type": "markdown",
   "id": "3afb8a81",
   "metadata": {},
   "source": [
    "Very important: `xGoal` does not contain the position of the Segway's base. As you can see above, it only has three components and not four.\n",
    "\n"
   ]
  },
  {
   "cell_type": "markdown",
   "id": "bdd607c5",
   "metadata": {},
   "source": [
    "The constraints you set up to solve\n",
    "\n"
   ]
  },
  {
   "cell_type": "markdown",
   "id": "7e06bee4",
   "metadata": {},
   "source": [
    "### uControl = \\underset{u \\in \\mathbb{R}^k, Mu = y}{{\\rm arg~~ min}~~~ u^\\top u }\n",
    "\n"
   ]
  },
  {
   "cell_type": "markdown",
   "id": "5b4410ef",
   "metadata": {},
   "source": [
    "must NOT contain the position of the Segway's base. (*Look back at the Pre-Work if you’re confused on how to exclude the Segway’s base*)\n",
    "\n"
   ]
  },
  {
   "cell_type": "markdown",
   "id": "72d19e05",
   "metadata": {},
   "source": [
    "The Segway will have to withstand disturbances, of course! We will provide the final simulation environment.\n",
    "\n"
   ]
  },
  {
   "cell_type": "markdown",
   "id": "aa95877d",
   "metadata": {},
   "source": [
    "Once again, you cannot have your Segway's lean angle exceeding that frightening value of 30 degrees!\n",
    "\n"
   ]
  },
  {
   "cell_type": "markdown",
   "id": "e121937d",
   "metadata": {},
   "source": [
    "Here is a code skeleton for you to use:\n",
    "\n"
   ]
  },
  {
   "cell_type": "code",
   "execution_count": null,
   "id": "9462d418",
   "metadata": {},
   "outputs": [],
   "source": [
    "# Hint: try nConHoriz 5 - 20\n",
    "\n",
    "function myMPCSegwaySpeedController(A,B,xk,xGoal)\n",
    "\n",
    " ### YOUR CODE HERE! ###\n",
    "\n",
    " #= \n",
    " This is very similar to Segway Task 3\n",
    " the difference is your control horizon (nConHoriz) \n",
    " and the components (C)\n",
    " =# \n",
    " \n",
    " uk=uControl[1]\n",
    " return uk\n",
    "end"
   ]
  },
  {
   "cell_type": "code",
   "execution_count": null,
   "id": "9a0b1b4e",
   "metadata": {},
   "outputs": [],
   "source": [
    "# YOUR ANSWER HERE\n"
   ]
  },
  {
   "cell_type": "markdown",
   "id": "562b79df",
   "metadata": {},
   "source": [
    "Test 1: No disturbances\n",
    "\n"
   ]
  },
  {
   "cell_type": "code",
   "execution_count": null,
   "id": "5e5fc5df",
   "metadata": {},
   "outputs": [],
   "source": [
    "function simSegwayMPCspeed(x0,N,xGoal)\n",
    "    (A,B)=SegwayModel()\n",
    "    (rA,cA) = size(A)\n",
    "    xTraj = Array{Float64,2}(undef,rA,0)\n",
    "    uTraj = Array{Float64,2}(undef,1,0)\n",
    "    xTraj=[xTraj x0]\n",
    "    for k = 1:N\n",
    "        xk=xTraj[:,k]\n",
    "        uk=myMPCSegwaySpeedController(A,B,xk,xGoal)\n",
    "        uTraj=[uTraj uk]\n",
    "        xkp1 = xkPlus1Disturbed(A,B,xk,uk,dt)\n",
    "        xTraj = [xTraj xkp1]          \n",
    "    end\n",
    "    return xTraj, uTraj\n",
    "end\n",
    "\n",
    "x0=[0;0;0;.9]\n",
    "\n",
    "#=\n",
    "We gave you the goal\n",
    "x1Goal x3Goal x4Goal\n",
    "=#\n",
    "xGoal = [0;0;1.0] \n",
    "\n",
    "# 30 seconds\n",
    "N=300 \n",
    "\n",
    "(xTrajMPC, uTrajMPC) = simSegwayMPCspeed(x0,N,xGoal)\n",
    "\n",
    "maxLeanAngle=maximum(abs.(xTrajMPC[1,:]*180/pi)) + 6\n",
    "\n",
    "if (maxLeanAngle > 35)\n",
    "    println(\"Your maximum lean angle was $maxLeanAngle degrees and exceeded the tolerance. Go back and fix your controller\")\n",
    "else\n",
    "    println(\"Your maximum lean angle was $maxLeanAngle degrees and you met the specifiction! Bravo!\")\n",
    "end\n",
    "\n",
    "titre=\"Segway\"\n",
    "t=(1:N)*dt\n",
    "p20=plot(t,uTrajMPC',legend=false, title=titre, color=:black, linewidth=1 )\n",
    "scatter!(t,uTrajMPC',legend=false, title=titre, color=:black)\n",
    "xlabel!(\"Time (sec)\");ylabel!(\"Control Input Signal\")\n",
    "plot!(t,0.0*uTrajMPC',linewidth=2, color=:black)\n",
    "p20"
   ]
  },
  {
   "cell_type": "code",
   "execution_count": null,
   "id": "7f50aff0",
   "metadata": {},
   "outputs": [],
   "source": [
    "p21=scatter(xTrajMPC[2,:], (180/pi)*xTrajMPC[1,:], title=titre, color=:blue, label = \"Closed-Loop with disturbances\" )\n",
    "plot!(xTrajMPC[2,:], (180/pi)*xTrajMPC[1,:], color=:blue)\n",
    "plot!(t,0.0*uTrajMPC',linewidth=2, color=:black)\n",
    "ylabel!(\"x1 = Lean Angle (degrees) \");xlabel!(\"x2 = Position (m)\");\n",
    "p21"
   ]
  },
  {
   "cell_type": "code",
   "execution_count": null,
   "id": "3190c516",
   "metadata": {},
   "outputs": [],
   "source": [
    "refV=ones(1,N+1)\n",
    "@show norm(xTrajMPC[4:4,:]-refV)\n",
    "\n",
    "t=(1:N+1)*dt\n",
    "p22=plot(t,xTrajMPC[4,:],legend=false, title=titre, color=:red ) \n",
    "scatter!(t,refV',legend=false, title=titre, color=:black)\n",
    "scatter!(t,xTrajMPC[4,:],legend=false, title=titre, color=:red )\n",
    "xlabel!(\"Time (sec)\");ylabel!(\"speed\")\n",
    "p22"
   ]
  },
  {
   "cell_type": "code",
   "execution_count": null,
   "id": "0912b617",
   "metadata": {},
   "outputs": [],
   "source": [
    "animSegway(xTrajMPC, 15)"
   ]
  },
  {
   "cell_type": "markdown",
   "id": "84209765",
   "metadata": {},
   "source": [
    "Test 2: With disturbances\n",
    "\n"
   ]
  },
  {
   "cell_type": "code",
   "execution_count": null,
   "id": "bc4e5b1b",
   "metadata": {},
   "outputs": [],
   "source": [
    "function simSegwayMPCspeedTest(x0,N,xGoal)\n",
    "    (A,B)=SegwayModel()\n",
    "    (rA,cA) = size(A)\n",
    "    xTraj = Array{Float64,2}(undef,rA,0)\n",
    "    uTraj = Array{Float64,2}(undef,1,0)\n",
    "    xTraj=[xTraj x0]\n",
    "    for k = 1:N\n",
    "        xk=xTraj[:,k]\n",
    "        uk=myMPCSegwaySpeedController(A,B,xk,xGoal)\n",
    "        uTraj=[uTraj uk]\n",
    "        if k==70\n",
    "            xk[3]=1.8\n",
    "        elseif k==150\n",
    "            xk[4]=xk[4]-0.05\n",
    "        elseif k==200\n",
    "            xk=xk-8*[0.05;0;-0.2;0.0]\n",
    "        end\n",
    "        xkp1 = A*xk+B*uk\n",
    "        xTraj = [xTraj xkp1]          \n",
    "    end\n",
    "    return xTraj, uTraj\n",
    "end\n",
    "\n",
    "x0=[0;0;0;.9]\n",
    "xGoal = [0;0;1.0] \n",
    "N=300 \n",
    "(xTrajMPC, uTrajMPC) = simSegwayMPCspeedTest(x0,N,xGoal)\n",
    "\n",
    "maxLeanAngle=maximum(abs.(xTrajMPC[1,:]*180/pi))\n",
    "println(\"Your maximum lean angle is $maxLeanAngle\")\n",
    "\n",
    "posTraj = xTrajMPC[2:2, :]\n",
    "maxDisplacemnt = maximum(abs.(posTraj))\n",
    "\n",
    "if maxDisplacemnt < 1\n",
    "    T = N*dt\n",
    "    println(\"Oh no! How can you roll at 1 m/s for $T seconds and not go anywhere?\")\n",
    "end\n",
    "\n",
    "velTraj = xTrajMPC[4:4, :]\n",
    "minVelocity = minimum(velTraj)\n",
    "if minVelocity < 0\n",
    "    println(\"Uh-oh! Your Segway was rolling backward at $minVelocity m/s.\")\n",
    "end\n",
    "\n",
    "\n",
    "if (maxLeanAngle>30)||( maxDisplacemnt < 1)||(minVelocity<0)\n",
    "    println(\"You need to go back and correct your function\")\n",
    "else\n",
    "    println(\"Submit the Project and you're done with ROB 101. We wish you well in your other courses.\")\n",
    "end"
   ]
  },
  {
   "cell_type": "markdown",
   "id": "df3ade51",
   "metadata": {},
   "source": [
    "![]( https://media.giphy.com/media/Srf1W4nnQIb0k/giphy.gif)"
   ]
  }
 ],
 "metadata": {
  "authors": [
   "Greg Werner"
  ],
  "kernelspec": {
   "display_name": "Julia 1.10.5",
   "language": "julia",
   "name": "julia-1.10"
  },
  "language_info": {
   "file_extension": ".jl",
   "mimetype": "application/julia",
   "name": "julia",
   "version": "1.10.5"
  }
 },
 "nbformat": 4,
 "nbformat_minor": 5
}
