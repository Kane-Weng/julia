{
 "cells": [
  {
   "cell_type": "markdown",
   "id": "557db53d",
   "metadata": {},
   "source": [
    "**Robotic Mapping with LiDAR Data |** Linear Transformations\n",
    "============================================================\n",
    "\n"
   ]
  },
  {
   "cell_type": "markdown",
   "id": "57543c28",
   "metadata": {},
   "source": [
    "ROB 101: Computational Linear Algebra | University of Michigan, Department of Robotics\n",
    "\n"
   ]
  },
  {
   "cell_type": "markdown",
   "id": "b17cb4b4",
   "metadata": {},
   "source": [
    "⚠**Warning**⚠: Follow all instructions. We use an auto-grader to check your work. If you invent new notation or variables other than what was listed in the instructions and fail the auto-grader tests, then you will not receive points back. Please be careful.\n",
    "\n"
   ]
  },
  {
   "cell_type": "code",
   "execution_count": null,
   "id": "e13fa8cc",
   "metadata": {},
   "outputs": [],
   "source": [
    "using Plots, Random, LinearAlgebra"
   ]
  },
  {
   "cell_type": "markdown",
   "id": "d8642d9a",
   "metadata": {},
   "source": [
    "Task 0\n",
    "======\n",
    "\n"
   ]
  },
  {
   "cell_type": "markdown",
   "id": "f0b5f554",
   "metadata": {},
   "source": [
    "This is a warm-up task intended to help you with the later problems. It is highly recommended before completing the graded tasks.\n",
    "\n"
   ]
  },
  {
   "cell_type": "code",
   "execution_count": null,
   "id": "1063792e",
   "metadata": {},
   "outputs": [],
   "source": [
    "# Some random data to play with\n",
    "Random.seed!(101)\n",
    "\n",
    "A = randn(3,4)\n",
    "show(stdout, \"text/plain\", A)\n",
    "println(\"\\n\")\n",
    "\n",
    "B = randn(4,10)\n",
    "show(stdout, \"text/plain\", B)\n",
    "println(\"\\n\")\n",
    "\n",
    "@show v3 = [1;2;3.0]\n",
    "@show v4 = [1;2;3;4.0]"
   ]
  },
  {
   "cell_type": "markdown",
   "id": "acd10493",
   "metadata": {},
   "source": [
    "**Create variables** `nRows` **and** `nCols` **that store the number of rows and columns in matrix** `A` **using** `size()`**.**\n",
    "\n"
   ]
  },
  {
   "cell_type": "code",
   "execution_count": null,
   "id": "ef2b8e44",
   "metadata": {},
   "outputs": [],
   "source": [
    "# YOUR ANSWER HERE\n",
    "@show nRows == 3\n@show nCols == 4"
   ]
  },
  {
   "cell_type": "markdown",
   "id": "3972facf",
   "metadata": {},
   "source": [
    "**Create a variable** `nColsB` **that provides the number of columns in the** `B` **matrix using** `size()`**.**\n",
    "\n"
   ]
  },
  {
   "cell_type": "code",
   "execution_count": null,
   "id": "6f05b189",
   "metadata": {},
   "outputs": [],
   "source": [
    "# YOUR ANSWER HERE\n",
    "@show nColsB == 10"
   ]
  },
  {
   "cell_type": "markdown",
   "id": "7438bed1",
   "metadata": {},
   "source": [
    "Here are 3 examples for how to add a size compatible vector (`v3`) to each of the columns of a matrix (`A`).\n",
    "\n"
   ]
  },
  {
   "cell_type": "code",
   "execution_count": null,
   "id": "d7dafda4",
   "metadata": {},
   "outputs": [],
   "source": [
    "#Example 1: Brute Force Method\n",
    "C = copy(A)\n",
    "\n",
    "C[:,1] = C[:, 1] + v3\n",
    "C[:,2] = C[:, 2] + v3\n",
    "C[:,3] = C[:, 3] + v3\n",
    "C[:,4] = C[:, 4] + v3\n",
    "\n",
    "show(stdout, \"text/plain\", A)\n",
    "println()\n",
    "show(stdout, \"text/plain\", C)\n",
    "println()\n",
    "show(stdout, \"text/plain\", C-A)\n",
    "println()\n",
    "\n",
    ""
   ]
  },
  {
   "cell_type": "code",
   "execution_count": null,
   "id": "961a9d5b",
   "metadata": {},
   "outputs": [],
   "source": [
    "#Example 2: For Loop Method\n",
    "C = copy(A)\n",
    "\n",
    "for i = 1:size(C,2)\n",
    "   #C[:,i] takes all the rows of C and the i-th column\n",
    "    C[:,i] = C[:,i] + v3 \n",
    "end\n",
    "\n",
    "show(stdout, \"text/plain\", A)\n",
    "println()\n",
    "show(stdout, \"text/plain\", C)\n",
    "println()\n",
    "show(stdout, \"text/plain\", C-A)\n",
    "println()"
   ]
  },
  {
   "cell_type": "code",
   "execution_count": null,
   "id": "e8f682f8",
   "metadata": {},
   "outputs": [],
   "source": [
    "#Example 3: Broadcasting\n",
    "C = copy(A)\n",
    "\n",
    "# if you remove the dot before the plus sign, you will generate an error\n",
    "C = C .+ v3\n",
    "\n",
    "show(stdout, \"text/plain\", A)\n",
    "println()\n",
    "show(stdout, \"text/plain\", C)\n",
    "println()\n",
    "show(stdout, \"text/plain\", C-A)\n",
    "println()"
   ]
  },
  {
   "cell_type": "markdown",
   "id": "ad33729c",
   "metadata": {},
   "source": [
    "**Use the for loop or broadcasting method to add** `v4` **to each column of matrix** `B`**. Store the result in matrix** `C`**.**\n",
    "\n"
   ]
  },
  {
   "cell_type": "code",
   "execution_count": null,
   "id": "20b319b5",
   "metadata": {},
   "outputs": [],
   "source": [
    "# YOUR ANSWER HERE\n",
    "D = copy(B)\n@show C[:,1] == D[:, 1] + v4\n@show C[:,2] == D[:, 2] + v4\n@show C[:,3] == D[:, 3] + v4\n@show C[:,4] == D[:, 4] + v4\n\n# This check assumes you put the result in matrix C\nE = C - B; test = true\nfor i = 1:length(v4)\n    for j = 1:size(E,2)\n        test = test & isapprox(E[i,j], i, atol = 1e-2)\n    end\nend\n\nif test == true\n    println(\"Good Work\")\nelse\n    println(\"Try again. You will need to store solutions in the appropriate  variables later in this project.\")\nend"
   ]
  },
  {
   "cell_type": "markdown",
   "id": "6bd98338",
   "metadata": {},
   "source": [
    "Here are 2 examples of multiplying a size compatible matrix (`A`) into the columns of a second matrix (`B`).\n",
    "\n"
   ]
  },
  {
   "cell_type": "code",
   "execution_count": null,
   "id": "9c4eef39",
   "metadata": {},
   "outputs": [],
   "source": [
    "#Example 1: For Loop Method\n",
    "nRowsA = size(A,1)\n",
    "nColsB = size(B,2)\n",
    "\n",
    "# a matrix of zeros of the correct size to hold the solution\n",
    "C = zeros(nRowsA, nColsB) \n",
    "\n",
    "for k = 1:size(B,2)\n",
    "    v = B[:,k] # extract the k-th column of B\n",
    "    Av = A * v # do the multiplication of A times the k-th column of B\n",
    "    C[:,k] = Av # assign the result to the k-th column of C\n",
    "end\n",
    "\n",
    "\n",
    "#Example 1a: a small variation on the above - do it all in one step\n",
    "D = zeros(nRowsA, nColsB) \n",
    "\n",
    "for k = 1:size(B,2)\n",
    "    D[:,k] = A * B[:,k] \n",
    "end\n",
    "\n",
    "#Example 1b: a small variation on the above - start with a blank matrix\n",
    "\n",
    "E = Array{Float64}(undef, nRowsA, nColsB)  \n",
    "\n",
    "for k = 1:size(B,2)\n",
    "    E[:,k] = A * B[:,k] \n",
    "end\n",
    "\n",
    "\n",
    "#Example 2: Simply use Julia's powerful multiplication!\n",
    "\n",
    "F = A*B # Yep, it's that simple :)\n",
    "\n",
    "show(stdout, \"text/plain\", C)\n",
    "println()\n",
    "show(stdout, \"text/plain\", D)\n",
    "println()\n",
    "show(stdout, \"text/plain\", E)\n",
    "println()\n",
    "show(stdout, \"text/plain\", F)\n",
    "println()\n",
    ""
   ]
  },
  {
   "cell_type": "markdown",
   "id": "0082fa0b",
   "metadata": {},
   "source": [
    "**Use your favorite method to multiply each column of the matrix** `M` **by the matrix** `N` **and store the result in a matrix called** `myProd`**.**\n",
    "\n"
   ]
  },
  {
   "cell_type": "code",
   "execution_count": null,
   "id": "bafd239e",
   "metadata": {},
   "outputs": [],
   "source": [
    "Random.seed!(101)\n",
    "M = randn(11,11)\n",
    "N = randn(11,11)"
   ]
  },
  {
   "cell_type": "code",
   "execution_count": null,
   "id": "9d9ca526",
   "metadata": {},
   "outputs": [],
   "source": [
    "# YOUR ANSWER HERE\n",
    "@show myProd == M*N\n\nif isapprox(norm(myProd), 43.9059, atol = 1e-2)\n    println(\"Good work. You are ready to take on the Project.\")\nelseif isapprox(norm(myProd), 35.5951, atol = 1e-2)\n    println(\"You got it backwards - \")\n    println(\"You multiplied each column of M by the matrix N. Try again.\")\nelse\n    println(\"You may want to reach out for help.\")\nend"
   ]
  },
  {
   "cell_type": "markdown",
   "id": "5adc6b8a",
   "metadata": {},
   "source": [
    "Task 1\n",
    "======\n",
    "\n"
   ]
  },
  {
   "cell_type": "markdown",
   "id": "1cf2ee8a",
   "metadata": {},
   "source": [
    "You will plot a simple square and apply different transformations to it. The goal is to learn a matrix version of what mathematicians call \"***affine transformations***\" and you will learn a special way to write coordinates that robotics engineers use on a regular basis: ***homogeneous coordinates***.\n",
    "\n"
   ]
  },
  {
   "cell_type": "markdown",
   "id": "b3339e58",
   "metadata": {},
   "source": [
    "We will tackle translation, rotation, and scaling transformations one-by-one in what follows. Rotation and scaling involve matrix-vector multiplication, while translation involves adding two vectors. Even though addition seems simpler than multiplication, we are going to show you how to turn translation into matrix multiplication! Robotics engineers want to do this so that three operations, translation, rotation, and scaling can be written in exactly the same format. The fruit of our labor will simplify our manipulation of the roughly 185 MB of LiDAR data in Task 3.\n",
    "\n"
   ]
  },
  {
   "cell_type": "code",
   "execution_count": null,
   "id": "86cb6bce",
   "metadata": {},
   "outputs": [],
   "source": [
    "#=\n",
    "    This function generates a 2D Plot\n",
    "    Mandatory parameters are\n",
    "                        xdata -> x coordinates\n",
    "                        ydata -> y coordinates\n",
    "                        color -> plot color\n",
    "=#\n",
    "function plot_2D(xdata::Vector{Float64}, ydata::Vector{Float64}, color; \n",
    "                 new=true, aspect_ratio=:equal, \n",
    "                 xlims = (-2,2), ylims = (-2,2), grid=true,\n",
    "                 framestyle=:origin, legend=false, linewidth=3)\n",
    "    fxn = new ? plot : plot! \n",
    "    fxn(xdata, ydata, seriescolor=color, aspect_ratio=aspect_ratio, xlims=xlims,\n",
    "        ylims=ylims, grid=grid, framestyle=framestyle, legend=legend, \n",
    "        linewidth=linewidth)\n",
    "end"
   ]
  },
  {
   "cell_type": "markdown",
   "id": "1c9fb96d",
   "metadata": {},
   "source": [
    "Read the following code block carefully. You will use the `points` matrix moving forward.\n",
    "\n"
   ]
  },
  {
   "cell_type": "code",
   "execution_count": null,
   "id": "d448bbdf",
   "metadata": {},
   "outputs": [],
   "source": [
    "#=\n",
    "This cell creates a set of points to form a square when plotted\n",
    "=#\n",
    "\n",
    "gr()\n",
    "\n",
    "#= \n",
    "Define points to form a square, note there are five points, because \n",
    "we need to come back to the first point to complete the square for \n",
    "plotting (connecting lines) \n",
    "=#\n",
    "\n",
    "# The coordinate points are in the form: [x1 y1; x2 y2; ...; x5 y5]' \n",
    "points = [0. 0.; 0. 1.;1. 1.; 1. 0.; 0. 0.]';\n",
    "\n",
    "#= \n",
    "After the transpose, the array points looks like this:\n",
    "[x1 x2 ... x5; \n",
    " y1 y2 ... y5]\n",
    "=#\n",
    "\n",
    "# x coordinates extracted from the array\n",
    "x = points[1,:]\n",
    "\n",
    "# y coordinates extracted from the array\n",
    "y = points[2,:]\n",
    "\n",
    "# plotting the array of points in the same plot as a coordinate frame  \n",
    "plot_2D(x, y, :green)"
   ]
  },
  {
   "cell_type": "markdown",
   "id": "9716133a",
   "metadata": {},
   "source": [
    "### Task 1, Part A: Translation by Addition\n",
    "\n"
   ]
  },
  {
   "cell_type": "markdown",
   "id": "7dbc3fa6",
   "metadata": {},
   "source": [
    "**Translate the **x** and **y** values by **-0.5** so the square is centered about the origin.**\n",
    "\n"
   ]
  },
  {
   "cell_type": "markdown",
   "id": "0a28f980",
   "metadata": {},
   "source": [
    "\\begin{bmatrix} x \\\\ y \\end{bmatrix} \\rightarrow \\begin{bmatrix} x \\\\ y \\end{bmatrix} + \\begin{bmatrix} t\\_x \\\\ t\\_y \\end{bmatrix}where \\begin{bmatrix} t\\_x \\\\ t\\_y \\end{bmatrix} = \\begin{bmatrix} -0.5 \\\\ -0.5 \\end{bmatrix}\n",
    "\n"
   ]
  },
  {
   "cell_type": "markdown",
   "id": "ab25b780",
   "metadata": {},
   "source": [
    "The `points` matrix is organized such that the x-values are in the first row and the corresponding y-values are in the second row. The given translation vector, `t`, that hold two values; the [1,1] value is -0.5 which is how much the x-values are translated and the [2,1] value is -0.5 which is how much the y-values are translated by.\n",
    "\n"
   ]
  },
  {
   "cell_type": "code",
   "execution_count": null,
   "id": "0e3a159e",
   "metadata": {},
   "outputs": [],
   "source": [
    "# Define the translation vector t\n",
    "t = [-0.5; -0.5]\n",
    "\n",
    "# copy the original points so the original data is not changed\n",
    "points2 = copy(points)"
   ]
  },
  {
   "cell_type": "markdown",
   "id": "8ffcad40",
   "metadata": {},
   "source": [
    "Modify `points2` so that the x and y values are translated by vector `t`\n",
    "\n"
   ]
  },
  {
   "cell_type": "code",
   "execution_count": null,
   "id": "80d80b13",
   "metadata": {},
   "outputs": [],
   "source": [
    "# YOUR ANSWER HERE\n",
    "#= \nif the value of is_it_correct_check1 is \"Yes\", then your answer \nmay be correct. However, if the value of is_it_correct_checkN is \"No\", \nthen your answer is defintely wrong\n=#\nis_it_correct_check1 = ((points2 - points) == hcat([t for i=1:size(points2,2)]...)) ? \"Yes\" : \"No\"\n\n@show is_it_correct_check1;"
   ]
  },
  {
   "cell_type": "markdown",
   "id": "8a3146b2",
   "metadata": {},
   "source": [
    "Run the plot to see your newly translated square. The plot should show the original green square translated to be around the origin and now in the color blue. If that is not the case, then go back and correct your code.\n",
    "\n"
   ]
  },
  {
   "cell_type": "code",
   "execution_count": null,
   "id": "cf25ed12",
   "metadata": {},
   "outputs": [],
   "source": [
    "x2 = points2[1,:];\n",
    "y2 = points2[2,:];\n",
    " \n",
    "plot_2D(x2, y2, :steelblue, new=false)"
   ]
  },
  {
   "cell_type": "markdown",
   "id": "bbccb8c3",
   "metadata": {},
   "source": [
    "### Task 1, Part B: Translation by Matrix Multiplication\n",
    "\n"
   ]
  },
  {
   "cell_type": "markdown",
   "id": "720396ac",
   "metadata": {},
   "source": [
    "**Implement the translation of the square as you did in Part A, but this time using homogeneous coordinates and the given translation matrix (**`T`**).**\n",
    "\n"
   ]
  },
  {
   "cell_type": "code",
   "execution_count": null,
   "id": "4f1c1ad9",
   "metadata": {},
   "outputs": [],
   "source": [
    "# Make a copy of the original points so they are not overwritten\n",
    "points3 = copy(points);"
   ]
  },
  {
   "cell_type": "markdown",
   "id": "b1a10c5a",
   "metadata": {},
   "source": [
    "To use **homogeneous coordinates** is a simple operation because we just need to append a 1 to each point \\begin{bmatrix} x \\\\ y \\end{bmatrix} such that \\begin{bmatrix} x \\\\ y \\\\ 1 \\end{bmatrix}.\n",
    "\n"
   ]
  },
  {
   "cell_type": "markdown",
   "id": "d9d1621a",
   "metadata": {},
   "source": [
    "Append 1 to each (x,y) coordinate in `points3` to make them homogenous coordinates. Store the result back into `points3`.\n",
    "\n"
   ]
  },
  {
   "cell_type": "code",
   "execution_count": null,
   "id": "da496681",
   "metadata": {},
   "outputs": [],
   "source": [
    "# YOUR ANSWER HERE\n"
   ]
  },
  {
   "cell_type": "markdown",
   "id": "fbf7aeff",
   "metadata": {},
   "source": [
    "**Pause**: Let’s take a look at the math behind the method so you can see for yourself how and why this works.\n",
    "\n"
   ]
  },
  {
   "cell_type": "markdown",
   "id": "87f0b308",
   "metadata": {},
   "source": [
    "We claim that we can perform vector translation by multiplying a vector in homogeneous coordinates by the matrix\n",
    "\n"
   ]
  },
  {
   "cell_type": "markdown",
   "id": "e76fcb5b",
   "metadata": {},
   "source": [
    "T = \\begin{bmatrix} 1 & 0 & t\\_x \\\\ 0 & 1 & t\\_y \\\\ 0 & 0 & 1 \\end{bmatrix}\n",
    "\n"
   ]
  },
  {
   "cell_type": "markdown",
   "id": "6739212c",
   "metadata": {},
   "source": [
    "Let's see if this actually works (*you can confirm the multiplication by hand*):\n",
    "\n"
   ]
  },
  {
   "cell_type": "markdown",
   "id": "d2d18930",
   "metadata": {},
   "source": [
    "\\begin{bmatrix} 1 & 0 & t\\_x \\\\ 0 & 1 & t\\_y \\\\ 0 & 0 & 1 \\end{bmatrix} \\* \\begin{bmatrix} x \\\\ y \\\\ 1 \\end{bmatrix} = \\begin{bmatrix} x + t\\_x \\\\ y + t\\_y \\\\ 1 \\end{bmatrix}\n",
    "\n"
   ]
  },
  {
   "cell_type": "markdown",
   "id": "ae65568c",
   "metadata": {},
   "source": [
    "The inverse operation, taking a vector of homogeneous coordinates and dropping the 1, produces the original vector [x;y]. When we drop the 1 to put our transformed vector back in the ordinary Cartesian coordinates we have:\n",
    "\n"
   ]
  },
  {
   "cell_type": "markdown",
   "id": "96b2313c",
   "metadata": {},
   "source": [
    "\\begin{bmatrix} x + t\\_x \\\\ y + t\\_y \\\\ 1 \\end{bmatrix}\n",
    "\n"
   ]
  },
  {
   "cell_type": "markdown",
   "id": "1a83a7a1",
   "metadata": {},
   "source": [
    "**Back to coding**: Apply the translation to each of the points that form our square by multiplying `points3` by the matrix `T` and storing the result back into `points3`.\n",
    "\n"
   ]
  },
  {
   "cell_type": "code",
   "execution_count": null,
   "id": "cfed53ae",
   "metadata": {},
   "outputs": [],
   "source": [
    "# Define the translation matrix T\n",
    "T = [1 0 -0.5;0 1 -0.5; 0 0 1];"
   ]
  },
  {
   "cell_type": "code",
   "execution_count": null,
   "id": "44c8d76c",
   "metadata": {},
   "outputs": [],
   "source": [
    "# YOUR ANSWER HERE\n",
    ""
   ]
  },
  {
   "cell_type": "markdown",
   "id": "8536a138",
   "metadata": {},
   "source": [
    "Run the plot to see your newly translated square. The plot should show the original green square translated to be around the origin and now in the color black. If that is not the case, then go back and correct your code.\n",
    "\n"
   ]
  },
  {
   "cell_type": "code",
   "execution_count": null,
   "id": "54d08b28",
   "metadata": {},
   "outputs": [],
   "source": [
    "x3 = points3[1,:];\n",
    "y3 = points3[2,:];\n",
    " \n",
    "plot_2D(x3, y3, :black, new=false, linewidth=5)"
   ]
  },
  {
   "cell_type": "markdown",
   "id": "ba788f7c",
   "metadata": {},
   "source": [
    "### Task 1, Part C: Rotation\n",
    "\n"
   ]
  },
  {
   "cell_type": "markdown",
   "id": "8e390340",
   "metadata": {},
   "source": [
    "**Rotate our translated square in the x-y plane by 45 degrees (**\\pi / 4**).**\n",
    "\n"
   ]
  },
  {
   "cell_type": "markdown",
   "id": "768cc525",
   "metadata": {},
   "source": [
    "Here is the 2D-rotation matrix in homogenous coordinates:\n",
    "\n"
   ]
  },
  {
   "cell_type": "markdown",
   "id": "cc59db66",
   "metadata": {},
   "source": [
    "\\begin{bmatrix} x \\\\ y \\\\ 1 \\end{bmatrix} = \\begin{bmatrix} cos(\\theta) & -sin(\\theta) & 0 \\\\ sin(\\theta) & cos(\\theta) & 0 \\\\ 0 & 0 & 1 \\end{bmatrix} \\cdot \\begin{bmatrix} x \\\\ y \\\\ 1 \\end{bmatrix}\n",
    "\n"
   ]
  },
  {
   "cell_type": "markdown",
   "id": "0cf53e20",
   "metadata": {},
   "source": [
    "Apply the rotation above by using the given transformation matrix above (name it `T`). Yes, we want to use `points3` again because we are applying the rotation to our already translated matrix.\n",
    "\n"
   ]
  },
  {
   "cell_type": "markdown",
   "id": "b3e29c01",
   "metadata": {},
   "source": [
    "⚠**Warnings**:\n",
    "\n"
   ]
  },
  {
   "cell_type": "markdown",
   "id": "1b7ee2fd",
   "metadata": {},
   "source": [
    "* Do not create a new `points3` vector and do not reinitialize a new copy of `points`.\n",
    "* Your answer for Part B must be correct in order for this Part C to be correct.\n",
    "* The auto-grader assumes your transformation matrix is called `T`.\n",
    "* Do not leave out the sin and cos terms out of your transformation matrix.\n"
   ]
  },
  {
   "cell_type": "code",
   "execution_count": null,
   "id": "a52d53cf",
   "metadata": {},
   "outputs": [],
   "source": [
    "# YOUR ANSWER HERE\n",
    "is_it_correct_check1 = abs(T[1,1]-cos(pi/4)) < 1e-4 ? \"Yes\" : \"No\"\nis_it_correct_check2 = abs(1-det(T[1:2,1:2])) < 1e-4 ? \"Yes\" : \"No\"\nis_it_correct_check3 = abs(points3[1,2]+0.707107 ) < 1e-4 ? \"Yes\" : \"No\"\n\n@show is_it_correct_check1;  # Transformation\n@show is_it_correct_check2;  # Transformation\nif (is_it_correct_check1 == \"No\")||(is_it_correct_check2 == \"No\")\n    println(\"You failed at least one test on the transformation matrix, T. Two common mistakes are:\")\n    println(\"   a) You did not call your transformation T\")\n    println(\"   b) You failed to use the appropriate trig functions in your transformation\")\nend\n@show is_it_correct_check3; # Points vector\nif is_it_correct_check3 == \"No\"\n    println(\"If you failed the transformation check, then that is probably why you failed this test.\")\n    println(\"If you passed the transformation check, then did you use the correct points vector. Double check, please!? \")\n    println(\"If you passed the transformation check, and you used the correct points vector, \n        then did you place the transformed points back into points3? \")\nend"
   ]
  },
  {
   "cell_type": "markdown",
   "id": "a77e30f2",
   "metadata": {},
   "source": [
    "Run the plot to see the newly rotated square, which is a diamond. The plot should show the original green square translated to be around the origin, rotated to form a diamond, and now in the color red. If that is not the case, then go back and correct your code.\n",
    "\n"
   ]
  },
  {
   "cell_type": "code",
   "execution_count": null,
   "id": "9b272616",
   "metadata": {},
   "outputs": [],
   "source": [
    "x3 = points3[1,:]\n",
    "y3 = points3[2,:]\n",
    "\n",
    "plot_2D(x3, y3, :red, new=false, linewidth=5)"
   ]
  },
  {
   "cell_type": "markdown",
   "id": "7b8b852d",
   "metadata": {},
   "source": [
    "### Task 1, Part D: Scaling\n",
    "\n"
   ]
  },
  {
   "cell_type": "markdown",
   "id": "4bd07786",
   "metadata": {},
   "source": [
    "**Scale the rotated square.**\n",
    "\n"
   ]
  },
  {
   "cell_type": "markdown",
   "id": "706d9ecc",
   "metadata": {},
   "source": [
    "Here is the 2D-scale transformation matrix in homogenous coordinates:\n",
    "\n"
   ]
  },
  {
   "cell_type": "markdown",
   "id": "260f4426",
   "metadata": {},
   "source": [
    "\\begin{bmatrix} x \\\\ y \\\\ 1 \\end{bmatrix} = \\begin{bmatrix} S\\_x & 0 & 0 \\\\ 0 & S\\_y & 0 \\\\ 0 & 0 & 1 \\end{bmatrix} \\cdot \\begin{bmatrix} x \\\\ y \\\\ 1 \\end{bmatrix}\n",
    "\n"
   ]
  },
  {
   "cell_type": "markdown",
   "id": "c4c61eb3",
   "metadata": {},
   "source": [
    "Apply the scale above by using the given transformation matrix above (name it `T`). S\\_x = 1.5 and S\\_y = 0.5 which means our diamond will be stretched in the x direction and compressed in the y direction. Yes, we want to use `points3` again because we are applying the scaling to our already translated and rotated matrix.\n",
    "\n"
   ]
  },
  {
   "cell_type": "code",
   "execution_count": null,
   "id": "5e4e194a",
   "metadata": {},
   "outputs": [],
   "source": [
    "# YOUR ANSWER HERE\n"
   ]
  },
  {
   "cell_type": "markdown",
   "id": "e470ad2d",
   "metadata": {},
   "source": [
    "Run the plot to see the newly scaled diamond. The plot should show the original green square translated to be around the origin, rotated to form a diamond, scaled to be wide and short, and now in the color purple. If that is not the case, then go back and correct your code.\n",
    "\n"
   ]
  },
  {
   "cell_type": "code",
   "execution_count": null,
   "id": "d46ea279",
   "metadata": {},
   "outputs": [],
   "source": [
    "x3 = points3[1,:]\n",
    "y3 = points3[2,:]\n",
    "\n",
    "plot_2D(x3, y3, :purple, new=false, linewidth=5)"
   ]
  },
  {
   "cell_type": "markdown",
   "id": "205a7048",
   "metadata": {},
   "source": [
    "### Task 1, Part E: Affine Transformations\n",
    "\n"
   ]
  },
  {
   "cell_type": "markdown",
   "id": "af7b5a42",
   "metadata": {},
   "source": [
    "#### **Implement a sequence of transformations on the original square.**\n",
    "\n"
   ]
  },
  {
   "cell_type": "markdown",
   "id": "94ff619f",
   "metadata": {},
   "source": [
    "All the transformations we have done so far (translation, rotation, and scaling) and combinations of them are called **Affine Transformations**. When we work with big data sets and we need to apply a sequence of translations, rotations, and scalings to a set of points, you can imagine that keeping track of everything during the transformation processes could become cumbersome over time. The saving feature of using the abstract notion of an Affine Transformation is that we can build a complicated transformation by multiplying together the individual transformations considered one at a time. For example, let's suppose we want to translate a set of points by [-0.5;-0.5], then rotate the translated object counterclockwise by 45 degrees, and then finally scale the translated and rotated object! That's a lot of transformations as you know… you just did it!\n",
    "\n"
   ]
  },
  {
   "cell_type": "markdown",
   "id": "9e83bfee",
   "metadata": {},
   "source": [
    "You’ll be delighted to find out that we can write the overall transformation as simply as this:\n",
    "\n"
   ]
  },
  {
   "cell_type": "markdown",
   "id": "4255ab6d",
   "metadata": {},
   "source": [
    "T = \\begin{bmatrix} 1.5 & 0 & 0 \\\\ 0 & 0.5 & 0 \\\\ 0 & 0 & 1 \\end{bmatrix} \\cdot \\begin{bmatrix} cos(\\pi/4) & -sin(\\pi/4) & 0 \\\\ sin(\\pi/4) & cos(\\pi/4) & 0 \\\\ 0 & 0 & 1 \\end{bmatrix} \\cdot \\begin{bmatrix} 1 & 0 & -0.5 \\\\ 0 & 1 & -0.5 \\\\ 0 & 0 & 1 \\end{bmatrix}\n",
    "\n"
   ]
  },
  {
   "cell_type": "markdown",
   "id": "ebff81f4",
   "metadata": {},
   "source": [
    "We prepared the overall homogeneous transformation by multiplying three individual homogeneous transformations, which we can then apply all at once to our point \\begin{bmatrix} x \\\\ y \\end{bmatrix}, once we express it in homogeneous coordinates as \\begin{bmatrix} x \\\\ y \\\\ 1 \\end{bmatrix}.\n",
    "\n"
   ]
  },
  {
   "cell_type": "markdown",
   "id": "c3ec3d91",
   "metadata": {},
   "source": [
    "Build the transformation matrix `T` and then apply it to our vector `points4`. Whatever you do, do not multiply out the above matrices by hand and then enter one matrix. Write `T` as the product of three homogeneous matrices and let Julia do the matrix multiplication for you.\n",
    "\n"
   ]
  },
  {
   "cell_type": "code",
   "execution_count": null,
   "id": "b1a51fbc",
   "metadata": {},
   "outputs": [],
   "source": [
    "#=\n",
    "A copy of the original points\n",
    "with 1 appended to each point \n",
    "=#\n",
    "points4 = [copy(points); ones(1,5)]"
   ]
  },
  {
   "cell_type": "code",
   "execution_count": null,
   "id": "7c7b4e71",
   "metadata": {},
   "outputs": [],
   "source": [
    "# YOUR ANSWER HERE\n"
   ]
  },
  {
   "cell_type": "markdown",
   "id": "a0972d79",
   "metadata": {},
   "source": [
    "Check your work via this plot. If it's not the same purple diamond you saw before, go back and double check your work.\n",
    "\n"
   ]
  },
  {
   "cell_type": "code",
   "execution_count": null,
   "id": "407c21fd",
   "metadata": {},
   "outputs": [],
   "source": [
    "x4 = points4[1,:]\n",
    "y4 = points4[2,:]\n",
    "\n",
    "plot_2D(x, y, :green)\n",
    "plot_2D(x4, y4, :purple, new=false, linewidth=5)"
   ]
  },
  {
   "cell_type": "markdown",
   "id": "e5f2d31d",
   "metadata": {},
   "source": [
    "Task 2\n",
    "======\n",
    "\n"
   ]
  },
  {
   "cell_type": "markdown",
   "id": "542d3366",
   "metadata": {},
   "source": [
    "This task is worth 2 points.\n",
    "\n"
   ]
  },
  {
   "cell_type": "markdown",
   "id": "9bb540b0",
   "metadata": {},
   "source": [
    "In this task, you are provided a distorted image which makes the text hard to read. You will apply an affine transformation to correct the point cloud and make the text readable.\n",
    "\n"
   ]
  },
  {
   "cell_type": "markdown",
   "id": "60ea5d13",
   "metadata": {},
   "source": [
    "A **point cloud** is simply a collection of points in space (3D and more) or a plane (2D). For a 2D point cloud, the first two rows of the data contain the x and y coordinates of our point, respectively. The third row contains additional information about our point, which for the case of a LiDAR sensor is the Intensity, and for a camera is the RGB values (red, green, blue color information).\n",
    "\n"
   ]
  },
  {
   "cell_type": "markdown",
   "id": "35c7edba",
   "metadata": {},
   "source": [
    "For your 2D point cloud, think of it as a camera image. The point cloud is thus in a plane and the color data is given in simplified RGB encoding with values between (0, 1). Think about it as a rainbow, where red has value 0 and blue has value 1.\n",
    "\n"
   ]
  },
  {
   "cell_type": "code",
   "execution_count": null,
   "id": "d88bac60",
   "metadata": {},
   "outputs": [],
   "source": [
    "using DelimitedFiles, Plots\n",
    "\n",
    "for (root, dirs, files) in walkdir(\"/home/jovyan/\")\n",
    "    println(\"Root: \", root)\n",
    "    println(\"Directories: \", dirs)\n",
    "    println(\"Files: \", files)\n",
    "end"
   ]
  },
  {
   "cell_type": "code",
   "execution_count": null,
   "id": "2261e930",
   "metadata": {},
   "outputs": [],
   "source": [
    "\n",
    "#=\n",
    "    This function generates a 2D Point Cloud Plot\n",
    "    Mandatory parameters are\n",
    "                        xdata -> x coordinates\n",
    "                        ydata -> y coordinates\n",
    "                        color -> pointcloud color\n",
    "=#\n",
    "function plot_2D_pointcloud(xdata::Vector{Float64}, ydata::Vector{Float64}, color; \n",
    "                new=true, seriestype=:scatter, markersize = 0.8, \n",
    "                markerstrokewidth = 0, dpi = 150, legend = false,\n",
    "                markercolor  = cgrad(:rainbow, rev = true))\n",
    "    fxn = new ? plot : plot!\n",
    "    fxn(xdata, ydata, seriestype=seriestype, markersize=markersize, \n",
    "        markerstrokewidth=markerstrokewidth, dpi=dpi, \n",
    "        markercolor=markercolor, marker_z=color, legend=legend)\n",
    "end\n",
    ""
   ]
  },
  {
   "cell_type": "markdown",
   "id": "30fd4766",
   "metadata": {},
   "source": [
    "First, we read the contents of the file \"question\\_image.csv\" into an array (`pointcloud`) and plot the points in a scatter plot.\n",
    "\n"
   ]
  },
  {
   "cell_type": "code",
   "execution_count": null,
   "id": "d5dd6216",
   "metadata": {},
   "outputs": [],
   "source": [
    "default(fmt = :png)\n",
    "\n",
    "pointcloud = readdlm(\"question_image_1.csv\",',')\n",
    "\n",
    "# The x and y coordinates for the first 2 rows of the data \n",
    "# can be extracted from the array separately\n",
    "point_data = pointcloud[1:2,:]\n",
    "\n",
    "# The color data of the pointcloud forms the last row, and \n",
    "# can be saved separately\n",
    "println(\"Look at the size of the data you are manipulating! Yes, this is more interesting than the square.\")\n",
    "println(\" \")\n",
    "println(\"The vector pointcloud[3,:] has $(length(pointcloud[3,:])) elements. Oh my gosh!\")\n",
    "color_data = pointcloud[3,:]"
   ]
  },
  {
   "cell_type": "code",
   "execution_count": null,
   "id": "9bb999ef",
   "metadata": {},
   "outputs": [],
   "source": [
    "# Plot the 2D point cloud data with color values! \n",
    "plot_2D_pointcloud(point_data[1,:], point_data[2,:], color_data)"
   ]
  },
  {
   "cell_type": "markdown",
   "id": "4cf91ae8",
   "metadata": {},
   "source": [
    "The homogeneous transformation for correcting the image above is known:\n",
    "\n"
   ]
  },
  {
   "cell_type": "markdown",
   "id": "eac515d5",
   "metadata": {},
   "source": [
    "T = \\begin{bmatrix} -0.09239 & 0.038268 & 300 \\\\ -0.38268 & -0.923879 & 165 \\\\ 0 & 0 & 1 \\end{bmatrix}\n",
    "\n"
   ]
  },
  {
   "cell_type": "markdown",
   "id": "fc0fbb00",
   "metadata": {},
   "source": [
    "**Apply** `T` **to the distorted point cloud so the corrected image can be plotted.**\n",
    "\n"
   ]
  },
  {
   "cell_type": "markdown",
   "id": "c1e014b8",
   "metadata": {},
   "source": [
    "1. Build the transformation matrix and store it in variable `T` (be careful to copy the numbers correctly!)\n",
    "2. Apply the transformation, `T`, to all of the points, `X`\n",
    "3. Store your results back into `X`\n"
   ]
  },
  {
   "cell_type": "code",
   "execution_count": null,
   "id": "a62fa34c",
   "metadata": {},
   "outputs": [],
   "source": [
    "# Homogenous points, X, created for you\n",
    "X = [copy(point_data); ones(1,size(point_data,2))]"
   ]
  },
  {
   "cell_type": "code",
   "execution_count": null,
   "id": "65dafc2a",
   "metadata": {},
   "outputs": [],
   "source": [
    "# YOUR ANSWER HERE\n",
    "is_it_correct_checkTa = isapprox(sum(T) - sum(abs.(T)), -2.797897999999975, atol = 1e-6 )\nis_it_correct_checkTb = isapprox(sum(T) + sum(abs.(T)), 932.076536, atol = 1e-6 ) \n\nif is_it_correct_checkTa & is_it_correct_checkTb\n    println(\"The transformation T is likely correct.\")\n    println(\" \")\nelse\n    println(\"At least one entry of the transformation matrix T is incorrect.\")\n\n    println(\" \")\nend\n\n# Now we check your data in X. Errors in X could arise from T being incorrect\n# or from an incorrect application of the transformation T to the data in X\n# or from you storing your data in a variable other than X, which will cause lots of problems\n\nis_it_correct_check1 = abs((X[3, :] - ones(size(X, 2)))[1]) < 1e-4 ? \"Yes\" : \"No\"\nis_it_correct_check2 = abs(sum(X[2, :]) - -54512.825647621416) < 1e-4 ? \"Yes\" : \"No\"\nis_it_correct_check3 = abs(sum(X[:,1]) - 164.00782569999998) < 1e-4 ? \"Yes\" : \"No\"\nis_it_correct_check4 = abs(sum(X[:, 5]) - 152.0378589000001) < 1e-4 ? \"Yes\" : \"No\"\nis_it_correct_check5 = abs(sum(X) - -181258.1626895815)< 1e-4 ? \"Yes\" : \"No\"\n\n\n@show is_it_correct_check1;\n@show is_it_correct_check2;\n@show is_it_correct_check3;\n@show is_it_correct_check4;\n@show is_it_correct_check5;is_it_correct_checkTa = isapprox(sum(T) - sum(abs.(T)), -2.797897999999975, atol = 1e-6 )\n"
   ]
  },
  {
   "cell_type": "markdown",
   "id": "94a00733",
   "metadata": {},
   "source": [
    "Check your work via this plot. You should be able to read the text clearly.\n",
    "\n"
   ]
  },
  {
   "cell_type": "code",
   "execution_count": null,
   "id": "4decf2da",
   "metadata": {},
   "outputs": [],
   "source": [
    "plot_2D_pointcloud(X[1,:], X[2,:], color_data)"
   ]
  },
  {
   "cell_type": "markdown",
   "id": "365fb8bd",
   "metadata": {},
   "source": [
    "Submit & Go to Task 3!\n",
    "======================\n",
    "\n"
   ]
  }
 ],
 "metadata": {
  "authors": [
   "Greg Werner"
  ],
  "kernelspec": {
   "display_name": "Julia",
   "language": "julia",
   "name": "julia"
  },
  "language_info": {
   "name": "julia"
  }
 },
 "nbformat": 4,
 "nbformat_minor": 5
}