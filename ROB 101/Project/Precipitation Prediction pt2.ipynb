{
 "cells": [
  {
   "cell_type": "markdown",
   "id": "7a67bd44",
   "metadata": {},
   "source": [
    "### **Please read carefully. Ask questions if you are unsure.**\n",
    "\n"
   ]
  },
  {
   "cell_type": "markdown",
   "id": "dd2ea292",
   "metadata": {},
   "source": [
    "We use an auto-grader to check your work. If you invent new notation (such as, new variable names) for yourself, you will mess up the auto-grader and receive no points. We will NOT do manual regrades because of failure to use the requested variable names.\n",
    "\n"
   ]
  },
  {
   "cell_type": "markdown",
   "id": "a34daf42",
   "metadata": {},
   "source": [
    "Do not reinitialize variables and data provided for you. Please just run the cells when information is initialized for you. DO NOT RETYPE IT unless it is in a static cell (a cell that has no run button).\n",
    "\n"
   ]
  },
  {
   "cell_type": "markdown",
   "id": "41c78a59",
   "metadata": {},
   "source": [
    "Not all tests are visible to you. Just because you have passed a test, doesn’t mean you will get full credit. Take some time to understand what it is your code is doing and what should output so you can check your answers before submission.\n",
    "\n"
   ]
  },
  {
   "cell_type": "markdown",
   "id": "f6782e6c",
   "metadata": {},
   "source": [
    "\n",
    "\n",
    "---\n",
    "\n"
   ]
  },
  {
   "cell_type": "markdown",
   "id": "a621440c",
   "metadata": {},
   "source": [
    "Estimating Precipitation in Alaska Using Surface Regression\n",
    "===========================================================\n",
    "\n"
   ]
  },
  {
   "cell_type": "markdown",
   "id": "4b69aa58",
   "metadata": {},
   "source": [
    "Introduction\n",
    "------------\n",
    "\n"
   ]
  },
  {
   "cell_type": "markdown",
   "id": "5a952a48",
   "metadata": {},
   "source": [
    "In this part of the project, your goal is to perform a 3D surface regression which will fit a model that will allow us to estimate the total amount of precipitation during the month of July 2020 at any longitude/latitude pair that falls in the state of Alaska.\n",
    "\n"
   ]
  },
  {
   "cell_type": "markdown",
   "id": "3084cda8",
   "metadata": {},
   "source": [
    "Our estimation will be based on datasets maintained by the National Oceanic and Atmospheric Administration (NOAA) which provides free access to a variety of weather and climate datasets.\n",
    "\n"
   ]
  },
  {
   "cell_type": "markdown",
   "id": "7f2e3c1d",
   "metadata": {},
   "source": [
    "When performing any kind of data analysis, one of the first steps is to get a feel for the data. That can mean many things from understanding the size of the dataset, seeing what the data looks like (does it contain string values, integers, floats?) and exploring if there is missing data, to name just a few aspects of interest.\n",
    "\n"
   ]
  },
  {
   "cell_type": "code",
   "execution_count": null,
   "id": "b618de8e",
   "metadata": {},
   "outputs": [],
   "source": [
    "using LaTeXStrings, LinearAlgebra, CSV, ProgressBars, Printf, Random, DataFrames, Plots\n",
    "\n",
    "import GMT\n",
    "gr()"
   ]
  },
  {
   "cell_type": "markdown",
   "id": "81b058a9",
   "metadata": {},
   "source": [
    "**The next cell reads in our dataset and visualizes the information.**\n",
    "\n"
   ]
  },
  {
   "cell_type": "markdown",
   "id": "f81ee623",
   "metadata": {},
   "source": [
    "**Dataset Citation** : Vose, Russell S., Applequist, Scott, Squires, Mike, Durre, Imke, Menne, Matthew J., Williams, Claude N. Jr., Fenimore, Chris, Gleason, Karin, and Arndt, Derek (2014): Gridded 5km GHCN-Daily Temperature and Precipitation Dataset (nCLIMGRID), Version 1. 202007.prcp.alaska.pnt. NOAA National Centers for Environmental Information. DOI:10.7289/V5SX6B56 Aug 1, 2020.\n",
    "\n"
   ]
  },
  {
   "cell_type": "code",
   "execution_count": null,
   "id": "961a19f9",
   "metadata": {},
   "outputs": [],
   "source": [
    "#= Upload the dataset\n",
    "and display the size and first \n",
    "five rows of the data. \n",
    "=#\n",
    "df = CSV.read(\"202007_prcp_alaska_1.csv\", DataFrame, header=false)\n",
    "data = Matrix(df)\n",
    "\n",
    "@show typeof(data)\n",
    "@show size(data)\n",
    "\n",
    "# Output the first five rows\n",
    "show(stdout, \"text/plain\", data[1:5,:])\n",
    "println()"
   ]
  },
  {
   "cell_type": "markdown",
   "id": "521b7ff4",
   "metadata": {},
   "source": [
    "The dataset we have just read in contains 3 columns:\n",
    "\n"
   ]
  },
  {
   "cell_type": "markdown",
   "id": "026f7b29",
   "metadata": {},
   "source": [
    "* The first column contains longitude values which range from -180 to 0 (western hemisphere) or 0 to 180 (eastern hemisphere).\n",
    "* The second column contains latitude values which we can think of as horizontal slices across the world. Latitude values can range from 0 to 90 (northern hemisphere) or -90 to 0 (southern hemisphere).\n",
    "* The third column contains total precipitation information in millimeters.\n"
   ]
  },
  {
   "cell_type": "markdown",
   "id": "cfa034e6",
   "metadata": {},
   "source": [
    "Note: 300 mm = 30 cm = 1 foot of rain\n",
    "\n"
   ]
  },
  {
   "cell_type": "markdown",
   "id": "402f76e3",
   "metadata": {},
   "source": [
    "\n",
    "\n",
    "---\n",
    "\n"
   ]
  },
  {
   "cell_type": "markdown",
   "id": "cd87cbf7",
   "metadata": {},
   "source": [
    "Below, we give you the data you will use when building your regressor matrix \\Phi and when assigning the vector of measured values, Y. Please make a note of them and do not recreate/reinitialize them.\n",
    "\n"
   ]
  },
  {
   "cell_type": "code",
   "execution_count": null,
   "id": "48ad08df",
   "metadata": {},
   "outputs": [],
   "source": [
    "#= \n",
    "Split the data into geometric coordinates and precipitation values\n",
    "You will use these later!!\n",
    "=#\n",
    "\n",
    "#Use this matrix when building Phi\n",
    "#column 1 is longitude, column 2 is latitude\n",
    "dataLongLat=data[:,1:2] \n",
    "\n",
    "#This is a vector of measured values, Y\n",
    "dataPrecip=data[:,3] \n",
    "\n",
    "@show size(dataLongLat) \n",
    "@show length(dataPrecip) "
   ]
  },
  {
   "cell_type": "markdown",
   "id": "36834c3e",
   "metadata": {},
   "source": [
    "This being a larger dataset, let's create a scatter plot using the location of a small portion of the samples to further get a sense of the dataset and the values within it. We will use the provided sample function to do this.\n",
    "\n"
   ]
  },
  {
   "cell_type": "code",
   "execution_count": null,
   "id": "f2a103f8",
   "metadata": {},
   "outputs": [],
   "source": [
    "#=\n",
    "Samples a percentage of the rows of matrix 'data'\n",
    "\n",
    "Input:\n",
    "    data    - data matrix to sample rows from\n",
    "    percent - 0 < percent <= 100\n",
    "=#\n",
    "function sample_rows(data, percent)\n",
    "   \n",
    "    @assert percent > 0 && percent <= 100\n",
    "    \n",
    "    N = size(data, 1)\n",
    "    M = floor(Int64,percent*N/100)\n",
    "    \n",
    "    # Set's the initial condition of the random number generator\n",
    "    # so that every notebook will arrive at the same results\n",
    "    Random.seed!(1817);\n",
    "    center_indices = collect(1:N); \n",
    "    indices = shuffle(center_indices)[1:M]\n",
    "    \n",
    "    col1 = data[indices, 1]\n",
    "    col2 = data[indices, 2]\n",
    "    prcp = data[indices, 3]\n",
    "    \n",
    "    # Assemble columns using horizontal concatenation\n",
    "    # concatenation in this case means placing side by side\n",
    "    subset = hcat(col1, col2, prcp)\n",
    "\n",
    "    return subset\n",
    "end"
   ]
  },
  {
   "cell_type": "code",
   "execution_count": null,
   "id": "82addc3a",
   "metadata": {},
   "outputs": [],
   "source": [
    "#=\n",
    "Sample and display the locations\n",
    "of 1.5% of the measurements \n",
    "in our dataset\n",
    "=#\n",
    "percent = 1.5 \n",
    "\n",
    "dataSubset = sample_rows(data, percent)\n",
    "# We only want the geometric data for the centers\n",
    "centers = dataSubset[:,1:2] \n",
    "\n",
    "s1 = scatter(\n",
    "    centers[:,1], \n",
    "    centers[:,2], \n",
    "    markersize=1,\n",
    "    label=\"Measurements\",\n",
    "    xlabel=\"Longitude\",\n",
    "    ylabel=\"Latitude\",\n",
    "    title=\"Locations of Precipitation Measurements\"\n",
    ")"
   ]
  },
  {
   "cell_type": "markdown",
   "id": "810122df",
   "metadata": {},
   "source": [
    "After running the scatter function, you should be able to see the shape of Alaska take form. **Each (x, y) point corresponds to a (longitude, latitude) pair in the dataset.**\n",
    "\n"
   ]
  },
  {
   "cell_type": "markdown",
   "id": "c6e052fe",
   "metadata": {},
   "source": [
    "Another view of the data would be to visualize the precipitation value at each point. We make use of the GMT package's bar3 function to create a 3D plot of the precipitation recorded at each location. Before being able to call the function, however, we need to section up Alaska into a series of bins. Imagine placing a checkerboard over the above graph. Each square in the checkerboard will have a (longitude, latitude) pair associated with it. Each measurement will be placed in the square that it is closest to. We will take an average if there are squares that have more than one measurement associated with it.\n",
    "\n"
   ]
  },
  {
   "cell_type": "markdown",
   "id": "cd5945c6",
   "metadata": {},
   "source": [
    "The pixelate function below helps us with taking our data and turning it into the grid we described. You only need to understand the inputs and outputs to the function, not all of the code.\n",
    "\n"
   ]
  },
  {
   "cell_type": "code",
   "execution_count": null,
   "id": "180174dc",
   "metadata": {},
   "outputs": [],
   "source": [
    "#=\n",
    "pixelate(data::AbstractArray, n_xpixels::Int, n_ypixels::Int)\n",
    "\n",
    "Takes a 3D matrix (lon,lat,rain) and returns a grid where each pixel is \n",
    "equal to the average of all the rain measurements that fall into that pixel\n",
    "\n",
    "Inputs:\n",
    "    data      - the data set\n",
    "    n_xpixels - the number of pixels on the x axis (longitude)\n",
    "    n_ypixels - the number of pixels on the y axis (latitude)\n",
    "\n",
    "Output:\n",
    "    grid      - a n_ypixels x n_xpixels matrix holding the average \n",
    "                rain that fell in that location\n",
    "=#\n",
    "function pixelate(data::AbstractArray, n_xpixels::Int, n_ypixels::Int)\n",
    "\n",
    "    # (lon,lat) coordinates with measured rain in third column\n",
    "    @assert size(data, 2) == 3\n",
    "    \n",
    "    # No nan values exist in data\n",
    "    @assert !any(isnan.(data))\n",
    "    \n",
    "    xmin = min(data[:,1]...)\n",
    "    xmax = max(data[:,1]...)\n",
    "    ymin = min(data[:,2]...)\n",
    "    ymax = max(data[:,2]...)\n",
    "    \n",
    "    xedges = collect(range(floor(xmin), ceil(xmax), length=n_xpixels))\n",
    "    yedges = collect(range(floor(ymin), ceil(ymax), length=n_ypixels))\n",
    "    \n",
    "    grid = zeros(n_ypixels, n_xpixels)\n",
    "    count = zeros(n_ypixels, n_xpixels)\n",
    "    \n",
    "    for i in 1:size(data,1)\n",
    "        x_idx = searchsortedlast(xedges, data[i,1])\n",
    "        y_idx = searchsortedlast(yedges, data[i,2])\n",
    "        \n",
    "        grid[y_idx, x_idx] += data[i,3]\n",
    "        count[y_idx, x_idx] += 1\n",
    "    end\n",
    "    \n",
    "    grid = grid./ count\n",
    "    \n",
    "    # Replace NaN from divide by 0 with 0\n",
    "    replace!(grid, NaN=>0)\n",
    "        \n",
    "    return GMT.mat2grid(grid, x=xedges, y=yedges) \n",
    "end"
   ]
  },
  {
   "cell_type": "code",
   "execution_count": null,
   "id": "8e287a5a",
   "metadata": {},
   "outputs": [],
   "source": [
    "#= \n",
    "create a 3D bar graph that\n",
    "displays the precipitation \n",
    "across the state of Alaska\n",
    "=#\n",
    "\n",
    "grid = pixelate(dataSubset, 100, 100)\n",
    "# Compute a colormap with the grid's data range\n",
    "cmap = GMT.grd2cpt(grid);  \n",
    "\n",
    "# Plotting function to make a 3D bar graph\n",
    "GMT.bar3(grid, lw=:thinnest, color=cmap, fmt=:png, show=true, view=(200,50),\n",
    "         xlabel=\"Longitude\", ylabel=\"Latitude\", title=\"Precipitation in Alaska (mm)\")"
   ]
  },
  {
   "cell_type": "markdown",
   "id": "640afa93",
   "metadata": {},
   "source": [
    "We see that for most of the state of Alaska, not a lot of precipitation fell. However, near the south of Alaska where the state capitol Juneau resides, there was quite a bit of precipitation that relative to the rest of the state in July.\n",
    "\n"
   ]
  },
  {
   "cell_type": "markdown",
   "id": "61bc6861",
   "metadata": {},
   "source": [
    "If you try plotting a higher percentage of measurement samples, you may feel that the 3D bar plot is already dense enough. However, each degree of difference in latitude/longitude is approximately 50-70 miles apart depending on where you are in the world (closer to the equator or pole etc.). **We wish to be able to create a model that allows us to estimate the precipitation level at any (longitude, latitude) pair at infinite resolution.**\n",
    "\n"
   ]
  },
  {
   "cell_type": "markdown",
   "id": "ee4e3b15",
   "metadata": {},
   "source": [
    "\n",
    "\n",
    "---\n",
    "\n"
   ]
  },
  {
   "cell_type": "markdown",
   "id": "ad8a636e",
   "metadata": {},
   "source": [
    "### You will create a model that will be able to estimate the amount of precipitation that fell during the month of July anywhere in Alaska. To do this, you will perform a surface regression using the radial functions as your basis.\n",
    "\n"
   ]
  },
  {
   "cell_type": "markdown",
   "id": "46fbe5f5",
   "metadata": {},
   "source": [
    "**Here is a new RBF function that works** **for vectors**\n",
    "\n"
   ]
  },
  {
   "cell_type": "code",
   "execution_count": null,
   "id": "be16f399",
   "metadata": {},
   "outputs": [],
   "source": [
    "# Radial basis function\n",
    "rbf(x, xc, s) = exp.(-norm(x-xc)^2 / (2*s^2))\n",
    "\n",
    "#=\n",
    "Example of how to use the RBF\n",
    "with vectors instead of scalars\n",
    "=#\n",
    "\n",
    "# Each Longitude-Latitude data pair is a 2-vector\n",
    "x = [3 4] \n",
    "\n",
    "# Each center is also a 2-vector \n",
    "xc = [3.5 4.5] \n",
    "\n",
    "s = 1\n",
    "\n",
    "# Call the RBF\n",
    "rbf(x, xc, s)"
   ]
  },
  {
   "cell_type": "markdown",
   "id": "98f7f002",
   "metadata": {},
   "source": [
    "**More helpful functions for later:**\n",
    "\n"
   ]
  },
  {
   "cell_type": "code",
   "execution_count": null,
   "id": "80dae31e",
   "metadata": {},
   "outputs": [],
   "source": [
    "function forwardsub(L, b)\n",
    "    # Assert no entries in the diagonal of L\n",
    "    # are 0 (or very close to 0)\n",
    "    @assert minimum(abs.(diag(L))) > 1e-6\n",
    "  \n",
    "    n = length(b)\n",
    "    x = Vector{Float64}(undef, n)\n",
    "  \n",
    "    x[1] = b[1]/L[1,1] \n",
    "    for i = 2:n\n",
    "        x[i] = (b[i]- (L[i,1:i-1])'*x[1:i-1] )/L[i,i] \n",
    "        \n",
    "    end\n",
    "  \n",
    "    return x\n",
    "end\n",
    "\n",
    "function backwardsub(U, b)\n",
    "    \n",
    "    # Assert no entries in the diagonal of U\n",
    "    # are 0 (or very close to 0)\n",
    "    @assert minimum(abs.(diag(U))) > 1e-6\n",
    "    \n",
    "    n = length(b)\n",
    "    x = Vector{Float64}(undef, n)\n",
    "\n",
    "    x[n] = b[n] / U[n,n]\n",
    "    for i = n-1:-1:1\n",
    "        x[i] = (b[i] - (U[i,(i+1):n])' * x[(i+1):n]) / U[i,i]\n",
    "    end\n",
    "    \n",
    "    return x    \n",
    "end"
   ]
  },
  {
   "cell_type": "markdown",
   "id": "04281628",
   "metadata": {},
   "source": [
    "\n",
    "\n",
    "---\n",
    "\n"
   ]
  },
  {
   "cell_type": "markdown",
   "id": "917da415",
   "metadata": {},
   "source": [
    "### Copy your `least_squares_lu()` function from Part 1\n",
    "\n"
   ]
  },
  {
   "cell_type": "markdown",
   "id": "fe02289b",
   "metadata": {},
   "source": [
    "This must be correct for you to move forward with this part of the project. You will earn 1 point for this.\n",
    "\n"
   ]
  },
  {
   "cell_type": "code",
   "execution_count": null,
   "id": "bbe8f33b",
   "metadata": {},
   "outputs": [],
   "source": [
    "# YOUR ANSWER HERE\n",
    "# This is the only test! No hidden tests!\n",
    "\n",
    "PhiTest = [ 1 1.0; 1 2; 1 4; 1 5]\n",
    "YTest = [2; 3.2; 4.7; 6]\n",
    "alphaStarTest=least_squares_lu(PhiTest,YTest)\n",
    "display(alphaStarTest)\n",
    "is_it_correct_check1 = (norm(alphaStarTest- [1.125000000000001;  0.9499999999999996]) < 1e-4) ? \"Yes\" : \"No\" \n",
    "\n",
    "@show is_it_correct_check1\n",
    "println(\"\\n If you failed this test, but passed it in Part 1, then you did not copy it exactly \\n\")\n",
    "@show @assert is_it_correct_check1 == \"Yes\""
   ]
  },
  {
   "cell_type": "markdown",
   "id": "8a0ab77f",
   "metadata": {},
   "source": [
    "\n",
    "\n",
    "---\n",
    "\n"
   ]
  },
  {
   "cell_type": "markdown",
   "id": "b1dc8d5d",
   "metadata": {},
   "source": [
    "Reminder: `dataLongLat=data[:,1:2]` is a matrix that was defined many cells above. You will need it for the x-values in the RBF function.\n",
    "\n"
   ]
  },
  {
   "cell_type": "markdown",
   "id": "a8ee72eb",
   "metadata": {},
   "source": [
    "You will also need a set of centers for the `x_c` values in your RBF function. They are defined in the next cell. Look below for `centersLongLat=centers[:,1:2]`.\n",
    "\n"
   ]
  },
  {
   "cell_type": "code",
   "execution_count": null,
   "id": "fcc5f3bd",
   "metadata": {},
   "outputs": [],
   "source": [
    "s = 1\n",
    "percent = 1.5 \n",
    "\n",
    "# longitude, latitude, precipitation\n",
    "centers = sample_rows(data, percent)\n",
    "\n",
    "# only the longitude, latitude pairs\n",
    "centersLongLat=centers[:,1:2]\n",
    "\n",
    "@show size(centers)\n",
    "@show size(centersLongLat)"
   ]
  },
  {
   "cell_type": "markdown",
   "id": "04a419e0",
   "metadata": {},
   "source": [
    "\n",
    "\n",
    "---\n",
    "\n"
   ]
  },
  {
   "cell_type": "markdown",
   "id": "f41498bc",
   "metadata": {},
   "source": [
    "Task 3: Build a Regression Model to Predict the Precipitation in Alaska\n",
    "-----------------------------------------------------------------------\n",
    "\n"
   ]
  },
  {
   "cell_type": "markdown",
   "id": "ea0f1469",
   "metadata": {},
   "source": [
    "### **Task 3a**\n",
    "\n"
   ]
  },
  {
   "cell_type": "markdown",
   "id": "c6c9efe7",
   "metadata": {},
   "source": [
    "Modify the Helper Functions `calc_phi_row()` and `regressor_matrix()` to allow for passing in data that is now in \\mathbb{R}^2.\n",
    "\n"
   ]
  },
  {
   "cell_type": "markdown",
   "id": "03a6faa2",
   "metadata": {},
   "source": [
    "Think carefully about the variables being used in your function. Are they scalars, vectors, or matrices? This is important because it changes how you index into them.\n",
    "\n"
   ]
  },
  {
   "cell_type": "markdown",
   "id": "731cdc3d",
   "metadata": {},
   "source": [
    "Take the function `calc_phi_row(xᵢ, centers, s)` from Part 1 and modify it to work here where `xᵢ` is a vector, `centers` is a matrix, and `s` remains a scalar.\n",
    "\n"
   ]
  },
  {
   "cell_type": "code",
   "execution_count": null,
   "id": "08d33877",
   "metadata": {},
   "outputs": [],
   "source": [
    "#= \n",
    "calc\\_phi\\_row() from Part 1\n",
    "I recommend copying this and then making edits \n",
    "to account for the fact that centers is a matrix.\n",
    "Do not alter the for loop to a nested loop.\n",
    "A single loop is sufficient.\n",
    "\n",
    "DO NOT change the variable names!\n",
    "=#\n",
    "\n",
    "function calc\\_phi\\_row(xᵢ, centers, s)\n",
    " # xi is a scalar\n",
    " # centers is a vector of centers for the rbf basis elements\n",
    " # s is the scale value\n",
    " \n",
    " # plus one bc we include a constant vector\n",
    " NumBasisElements = length(centers) + 1\n",
    " \n",
    " phi\\_row = zeros(1, NumBasisElements)\n",
    " phi\\_row[1] = 1 \n",
    " for i in 2:NumBasisElements\n",
    " phi\\_row[i] = rbf(xᵢ, centers[i-1], s)\n",
    " end \n",
    " return phi\\_row\n",
    "end"
   ]
  },
  {
   "cell_type": "code",
   "execution_count": null,
   "id": "36160d86",
   "metadata": {},
   "outputs": [],
   "source": [
    "# YOUR ANSWER HERE\n",
    "dummy_dataLongLat = [1 3;2 4;3 5;4 6;5 7;6 8;7 9;8 10;9 11]\n",
    "dummy_centers = [2 5; 4 7; 5 6]\n",
    "phi_row_1_test = calc_phi_row(dummy_dataLongLat[1,:], dummy_centers,1)\n",
    "phi_row_5_test = calc_phi_row(dummy_dataLongLat[5,:], dummy_centers,1)\n",
    "\n",
    "is_it_correct_check1 = isapprox(phi_row_1_test, [1.0  0.082085  3.72665e-6  3.72665e-6], atol = 1e-3) ? \"Yes\" : \"No\"\n",
    "is_it_correct_check2 = isapprox(phi_row_5_test, [1.0  0.00150344  0.606531  0.606531], atol = 1e-3) ? \"Yes\" : \"No\"\n",
    "\n",
    "@show is_it_correct_check1;\n",
    "@show is_it_correct_check2;\n",
    "\n",
    "println(\"\\n dummy centers \\n\")\n",
    "show(stdout, \"text/plain\", dummy_centers)\n",
    "\n",
    "println(\"\\n\\n dummy dataLongLat \\n\")\n",
    "show(stdout, \"text/plain\", dummy_dataLongLat)\n",
    "println(\"\\n\")\n",
    "\n",
    "\n",
    "#= \n",
    "The point value for getting this problem correct \n",
    "is included in Part B.\n",
    "In other words, you  may see 0 points\n",
    "but this function still matters \n",
    "and will affect your grade in later problems\n",
    "=#"
   ]
  },
  {
   "cell_type": "markdown",
   "id": "d8e90bc2",
   "metadata": {},
   "source": [
    "This next part has you take your function `regressor_matrix` from Part 1 and modify it to work here. It will not work as is. You have to make edits.\n",
    "\n"
   ]
  },
  {
   "cell_type": "markdown",
   "id": "78542da8",
   "metadata": {},
   "source": [
    "Build the regressor matrix row by row using a SINGLE for loop and your modified function `calc_phi_row(xᵢ, centers, s)`. Once again, be very careful about the sizes of the variables in your function and be careful about how you index into matrices vs vectors. We strongly suggest that you check `size(centersLongLat)`, and while you are at it, you can also check `size(dataLongLat)`.\n",
    "\n"
   ]
  },
  {
   "cell_type": "code",
   "execution_count": null,
   "id": "09092ba5",
   "metadata": {},
   "outputs": [],
   "source": [
    "#= \n",
    "regressor\\_matrix() from Part 1\n",
    "I recommend copying this and then making edits \n",
    "to account for the fact that X is a matrix.\n",
    "Do not alter the for loop to a nested loop.\n",
    "A single loop is sufficient.\n",
    "\n",
    "DO NOT change the variable names!\n",
    "=#\n",
    "\n",
    "function regressor\\_matrix(X, centers, s)\n",
    " # X is a vector of points in R\n",
    " # centers is a vector of centers for the rbf basis elements\n",
    " # s is the scale value \n",
    " N = length(X)\n",
    " M = length(centers)\n",
    " Phi = Array{Float64, 2}(undef, N, M+1) \n",
    " for i in 1:N\n",
    " Phi[i, :] = calc\\_phi\\_row(X[i], centers, s)\n",
    " end \n",
    " return Phi\n",
    "end\n",
    "\n",
    "#=\n",
    "DESCRIPTION FOR YOUR NEW regressor\\_matrix()\n",
    "\n",
    "function regressor\\_matrix()\n",
    "\n",
    "Returns the regressor matrix Phi\n",
    "\n",
    "Inputs:\n",
    " X - an Nx2 matrix holding the X value of all the measurements\n",
    " centers - an Mx2 matrix holding the centers of the determined RBFs\n",
    " s - the shared kernel width (RBF width)\n",
    "=#"
   ]
  },
  {
   "cell_type": "code",
   "execution_count": null,
   "id": "3301c362",
   "metadata": {},
   "outputs": [],
   "source": [
    "# YOUR ANSWER HERE\n",
    "#= \n",
    "If your function is LIKELY correct, this will be its output\n",
    "\n",
    "9×4 Matrix{Float64}:\n",
    " 1.0  0.00673795   4.13994e-8   1.12535e-7\n",
    " 1.0  0.367879     0.00673795   0.0183156\n",
    " 1.0  0.00673795   0.367879     1.0\n",
    " 1.0  4.13994e-8   0.00673795   0.0183156\n",
    " 1.0  3.09882e-12  1.25015e-9   3.72665e-6\n",
    " 1.0  0.135335     0.135335     0.367879\n",
    " 1.0  4.53999e-5   0.135335     0.367879\n",
    " 1.0  5.10909e-12  4.53999e-5   0.00012341\n",
    " 1.0  1.92875e-22  5.10909e-12  1.38879e-11\n",
    "=#\n",
    "\n",
    "regressor_matrix([1 2; 3 4; 5 6; 7 8; 9 3; 4 5; 6 7; 8 9; 10 11], [2 5; 4 7; 5 6], 1)\n",
    "\n",
    "#= \n",
    "The point value for getting this problem correct \n",
    "is included in Part B.\n",
    "In other words, you  may see 0 points\n",
    "but this function still matters \n",
    "and will affect your grade in later problems\n",
    "=#"
   ]
  },
  {
   "cell_type": "markdown",
   "id": "944a07f0",
   "metadata": {},
   "source": [
    "### **Task 3b**\n",
    "\n"
   ]
  },
  {
   "cell_type": "markdown",
   "id": "4c20befc",
   "metadata": {},
   "source": [
    "You will setup the regression problem and use the functions implemented above to solve for the vector of weights `a_star`. Even though our data has grown in dimension, we are still using the same model for fitting as in the end of Part 1! As we saw when we plotted 1% of the points, we could make out the shape of Alaska. Thus 1% of the data provides decent enough coverage of the state, so we will use those locations as our basis centers.\n",
    "\n"
   ]
  },
  {
   "cell_type": "markdown",
   "id": "3f4713ab",
   "metadata": {},
   "source": [
    "In the next cell write the code necessary to solve for the coefficients of our model `a_star`.\n",
    "\n"
   ]
  },
  {
   "cell_type": "markdown",
   "id": "ff1ae511",
   "metadata": {},
   "source": [
    "\\hat{y} = a\\_1 + a\\_2 f(x; x\\_{c\\_1}, s) + a\\_3 f(x; x\\_{c\\_2}, s) + ... + a\\_{M+1} f(x; x\\_{c\\_M}, s)\n",
    "\n"
   ]
  },
  {
   "cell_type": "markdown",
   "id": "b14d6021",
   "metadata": {},
   "source": [
    "We are expecting you to use your function `least_squares_lu` in order to compute `a_star`\n",
    "\n"
   ]
  },
  {
   "cell_type": "markdown",
   "id": "6958ecb0",
   "metadata": {},
   "source": [
    "* Build `Phi`\n",
    "* Build `Y`\n",
    "* Build `a_star`\n",
    "\n",
    "Hint: use `dataLongLat`, `dataPrecip`, and `centersLongLat` that were created in the first few cells\n"
   ]
  },
  {
   "cell_type": "code",
   "execution_count": null,
   "id": "d146262d",
   "metadata": {},
   "outputs": [],
   "source": [
    "# YOUR ANSWER HERE\n",
    "ans1 = isapprox(a_star[1:5], [41.02774014953474, 3001.0797227419307, 163844.96534774158, 28363.22655160181, 7288.967977936066], atol = 1)\n",
    "\n",
    "is_it_correct_check1 = ans1 ? \"Yes\" : \"No\" \n",
    "\n",
    "@show is_it_correct_check1;"
   ]
  },
  {
   "cell_type": "code",
   "execution_count": null,
   "id": "69d96d0d",
   "metadata": {},
   "outputs": [],
   "source": [
    "#=\n",
    "Use this information to reason\n",
    "about whether your answer \n",
    "is correct or not\n",
    "=#\n",
    "\n",
    "@show size(dataLongLat)\n",
    "@show size(centersLongLat)\n",
    "@show size(Phi)\n",
    "@show length(a_star)\n",
    "@show length(dataPrecip)\n",
    "\n",
    "println(\"\\n Recall that a_star includes a constant term, which is why it is \n",
    "    one longer than the number of rows in centersLongLat \\n\")"
   ]
  },
  {
   "cell_type": "markdown",
   "id": "3fd95aed",
   "metadata": {},
   "source": [
    "### **Task 3c**\n",
    "\n"
   ]
  },
  {
   "cell_type": "markdown",
   "id": "ab478573",
   "metadata": {},
   "source": [
    "Build a function that computes the amount of precipitation at any position `x=[longitude; latitude]` in Alaska and call it `Precip(x)`.\n",
    "\n"
   ]
  },
  {
   "cell_type": "markdown",
   "id": "91df10ec",
   "metadata": {},
   "source": [
    "Hint: Look back at how we built the function `f_hatRBF(x)` for you in Part 1.\n",
    "\n"
   ]
  },
  {
   "cell_type": "code",
   "execution_count": null,
   "id": "5cd8852f",
   "metadata": {},
   "outputs": [],
   "source": [
    "# YOUR ANSWER HERE\n",
    "if isa(Precip([-159.159, 70.5409]), Vector) || isa(Precip([-159.159, 70.5409]), Matrix)\n",
    "    println(\"Your `Precip(x)` function implementation is wrong.\")\n",
    "    println(\"Your `Precip(x)` function should return a real-valued number and not a Vector.\\n\")\n",
    "    println(\"Extract the number from the Vector before returning it from your `Precip(x)` function\")\n",
    "else\n",
    "    println(\"Good. Your `Precip(x)` function returns the right value Type.\")\n",
    "    println(\"Now on to the remaining friendly check...\\n\")\n",
    "    println(\"Is the value returned correct? \\n\")\n",
    "\n",
    "    # if the value of is_it_correct_checkN is \"Yes\", then your answer may be correct. \n",
    "    # If the value of is_it_correct_checkN is \"No\", then your answer is wrong\n",
    "\n",
    "    is_it_correct_check1 = isapprox(Precip([-159.159, 70.5409]), 21.89695, atol=1e-1) ? \"Yes\" : \"No\"   \n",
    "\n",
    "    @show is_it_correct_check1; \n",
    "end;"
   ]
  },
  {
   "cell_type": "markdown",
   "id": "97a94270",
   "metadata": {},
   "source": [
    "With your model approximation, `Precip(x)`, you can now provide an estimate of the precipitation at any longitude and latitude pair in Alaska. Let's test and see how much precipitation in millimeters fell in Juneau in July based on our model. We will use a longitude and latitude of (-134.410652, 58.301930) obtained from Google maps. You should see a value between 290 and 320 mm. Store your answer in a variable named `rain_in_juneau`.\n",
    "\n"
   ]
  },
  {
   "cell_type": "code",
   "execution_count": null,
   "id": "87857ee0",
   "metadata": {},
   "outputs": [],
   "source": [
    "longitude = -134.410652\n",
    "latitude = 58.301930"
   ]
  },
  {
   "cell_type": "code",
   "execution_count": null,
   "id": "e8310477",
   "metadata": {},
   "outputs": [],
   "source": [
    "# YOUR ANSWER HERE\n",
    "#= \n",
    "If you do not pass the test, take\n",
    "a look back at how you calculated a_star. \n",
    "\n",
    "Remember your answer should be between 290 and 320 mm\n",
    "=#\n",
    "@printf(\"In July 2020, our model predicts that a total of %.2f mm of rain fell in Juneau, Alaska. \\n\", rain_in_juneau)"
   ]
  },
  {
   "cell_type": "markdown",
   "id": "e6b6a252",
   "metadata": {},
   "source": [
    "### **Task 3d**\n",
    "\n"
   ]
  },
  {
   "cell_type": "markdown",
   "id": "95875f34",
   "metadata": {},
   "source": [
    "Estimate the precipitation that fell over the entire state of Alaska at discretized (longitude, latitude) pairs. We did not get any precipitation measurements off of the coast of Alaska (measurements were only taken over land) so we only estimate with our model if the (longitude, latitude) coordinate falls approximately on land. Your job is to fill in the code in the space provided (*second cell below*).\n",
    "\n"
   ]
  },
  {
   "cell_type": "code",
   "execution_count": null,
   "id": "99d4076e",
   "metadata": {},
   "outputs": [],
   "source": [
    "#=\n",
    "Divide up the state of Alaska into\n",
    "a series of squares that look \n",
    "like a checkerboard / grid. In \n",
    "the next cell we evaluate \n",
    "the precipitation for each square \n",
    "in the grid.\n",
    "=#\n",
    "\n",
    "# Latitude and longitude extremas of Alaska\n",
    "lon_min = -178.0\n",
    "lon_max = -130.0\n",
    "lat_min = 51.0\n",
    "lat_max = 72.0\n",
    "\n",
    "# Number of squares we want on the x and y axis for plotting our 3D bar graph\n",
    "n_xpixels = 200\n",
    "n_ypixels = 200\n",
    "\n",
    "lon_edges = collect(range(floor(lon_min), ceil(lon_max), length=n_xpixels));\n",
    "lat_edges = collect(range(floor(lat_min), ceil(lat_max), length=n_ypixels));\n",
    "gmt_grid = pixelate(data, n_xpixels, n_ypixels);"
   ]
  },
  {
   "cell_type": "markdown",
   "id": "aaa1fefa",
   "metadata": {},
   "source": [
    "The next cell is used to estimate the precipitation across Alaska. `mat[i,j]` should hold the precipitation that fell at `lon` and `lat` which are set at the beginning of the inner for loop each time.\n",
    "\n"
   ]
  },
  {
   "cell_type": "markdown",
   "id": "c1efdf09",
   "metadata": {},
   "source": [
    "Use the model you just fit, `Precip(x)`, along with the given variables above to estimate the precipitation and set the value in `mat[i,j]`.\n",
    "\n"
   ]
  },
  {
   "cell_type": "code",
   "execution_count": null,
   "id": "500c1d67",
   "metadata": {},
   "outputs": [],
   "source": [
    "#Type me exactly and add your code to mat[i,j]\n",
    "mat = zeros(n\\_ypixels, n\\_xpixels)\n",
    "for i = 1:n\\_ypixels\n",
    " for j = 1:n\\_xpixels\n",
    " lon = lon\\_edges[j]\n",
    " lat = lat\\_edges[i]\n",
    " \n",
    " #= \n",
    " Do not estimate if coordinate is not on land\n",
    " We check this by seeing if there was any measured\n",
    " precipitaton near that lon,lat pair in the original data set\n",
    " =#\n",
    " \n",
    " if gmt\\_grid.z[i,j] > 1e-6\n",
    " \n",
    " mat[i,j] = #YOUR CODE HERE\n",
    " \n",
    " end\n",
    " end\n",
    "end"
   ]
  },
  {
   "cell_type": "code",
   "execution_count": null,
   "id": "ff93aca8",
   "metadata": {},
   "outputs": [],
   "source": [
    "# YOUR ANSWER HERE\n",
    "@printf(\"Maximum rain in any place in alaska measured %0.1f mm \\n\",maximum(mat))  \n",
    "@printf(\"There was on average %0.1f mm of precipitation in Alaska in June 2020 \\n\", sum(mat)/(length(lat_edges)*length(lon_edges)))\n",
    "#=\n",
    "to know if you are correct\n",
    "check if your plot (below) \n",
    "matches what is expected\n",
    "in the Project 2 guide\n",
    "=#"
   ]
  },
  {
   "cell_type": "code",
   "execution_count": null,
   "id": "32b00ab1",
   "metadata": {},
   "outputs": [],
   "source": [
    "#Compare me to the Project 2 Guide!\n",
    "\n",
    "grid = GMT.mat2grid(mat, x=lon_edges, y=lat_edges)\n",
    "# Compute a colormap with the grid's data range\n",
    "cmap = GMT.grd2cpt(grid);  \n",
    "\n",
    "# Plotting function to make a 3D bar graph\n",
    "GMT.bar3(grid, lw=:thinnest, color=cmap, fmt=:png, show=true, view=(200,50),\n",
    "    xlabel=\"Longitude\", ylabel=\"Latitude\", title=\"Precipitation in Alaska (mm)\")"
   ]
  },
  {
   "cell_type": "markdown",
   "id": "cec299df",
   "metadata": {},
   "source": [
    "Congratulations, you have fit a surface to the dataset!\n",
    "-------------------------------------------------------\n",
    "\n"
   ]
  },
  {
   "cell_type": "markdown",
   "id": "3a7b3702",
   "metadata": {},
   "source": [
    "![](https://media.giphy.com/media/13p77tfexyLtx6/giphy.gif)"
   ]
  },
  {
   "cell_type": "markdown",
   "id": "9d5eca20",
   "metadata": {},
   "source": [
    "It is possible to produce a good final plot and yet have made errors along the way that cancel one another out. You are responsible for checking your work as you go.\n",
    "\n"
   ]
  },
  {
   "cell_type": "markdown",
   "id": "5664f2b0",
   "metadata": {},
   "source": [
    "### Don't forget to hit the submit button.\n",
    "\n"
   ]
  },
  {
   "cell_type": "markdown",
   "id": "0a7c1dab",
   "metadata": {},
   "source": [
    "### \n",
    "\n"
   ]
  }
 ],
 "metadata": {
  "authors": [
   "Greg Werner"
  ],
  "kernelspec": {
   "display_name": "Julia 1.10.5",
   "language": "julia",
   "name": "julia-1.10"
  },
  "language_info": {
   "file_extension": ".jl",
   "mimetype": "application/julia",
   "name": "julia",
   "version": "1.10.5"
  }
 },
 "nbformat": 4,
 "nbformat_minor": 5
}
